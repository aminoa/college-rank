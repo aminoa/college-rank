{
 "cells": [
  {
   "cell_type": "code",
   "execution_count": 1,
   "id": "7488c815-e6fa-44d1-bbd3-106270826d0d",
   "metadata": {
    "collapsed": false,
    "editable": true,
    "jupyter": {
     "outputs_hidden": false
    },
    "slideshow": {
     "slide_type": ""
    },
    "tags": []
   },
   "outputs": [],
   "source": [
    "import math\n",
    "import warnings\n",
    "\n",
    "import numpy as np\n",
    "import pandas as pd\n",
    "import plotly.graph_objs as go\n",
    "from plotly.subplots import make_subplots\n",
    "from tqdm import tqdm"
   ]
  },
  {
   "cell_type": "markdown",
   "id": "942b93bf-88ed-4c14-9bcc-65ccd77136b6",
   "metadata": {
    "jupyter": {
     "outputs_hidden": false
    }
   },
   "source": [
    "# External Data\n",
    "## CS Rankings Author info\n",
    "\n",
    "Taken from https://github.com/emeryberger/CSrankings/tree/gh-pages which is the repo behind https://csrankings.org \n",
    "\n",
    "Run `make generated-author-info.csv` which should make the csv. Each row contains the score for every author, year, and conference combination. This means that there are multiple rows for each professor.\n",
    "\n",
    "## CS Professors\n",
    "\n",
    "Taken from https://drafty.cs.brown.edu/csprofessors but they hide the data. So, after reading source code, exploit a [thing they left in](https://github.com/brownhci/drafty/blob/212bd995c857a34c74c7a71d67e1556c1ca7ea97/backend/src/controllers/datasharing.ts#L31) during development and use https://drafty.cs.brown.edu/data/csv/csprofessors/csprofessors_93318b344889ccef41d46b5f83d63de5 \n",
    "\n",
    "## Placement Rank\n",
    "\n",
    "Taken from https://drafty.cs.brown.edu/csopenrankings/placement-rank.html which is just copy and paste (and `M-x query-replace <tab> ,`). I think I could have done this myself, but why do that when someone else has already done the work. \n",
    "\n",
    "## Best Paper awards\n",
    "\n",
    "A collection of best paper awards are listed on https://jeffhuang.com/best_paper_awards/\n",
    "\n",
    "However, I needed to do some html parsing in order to get the data into a csv format. That is done in [another notebook](./best-paper.ipynb)\n",
    "\n",
    "# Internal Data\n",
    "## Preferences\n",
    "This is a list of conferences and areas and my interest in them. This is used in order to create weights. It is manually generated\n",
    "\n",
    "## Universities\n",
    "This is a list of north american universities and their aliases (e.g. NYU and New York University). It is manually generated (hence why it is only north american universities)\n",
    "\n",
    "## Statistic Weights\n",
    "This is just a csv that contains weights for me to import and use in the final weighing stage.\n",
    "\n",
    "# [Data Archive Download Link](http://store.sachiniyer.com/s/9NczHAmPJFiQgys/download/data.zip)\n"
   ]
  },
  {
   "cell_type": "code",
   "execution_count": 2,
   "id": "0ae72cb7-c40b-4287-9e77-8c0ad9e64eb6",
   "metadata": {
    "collapsed": false,
    "jupyter": {
     "outputs_hidden": false
    }
   },
   "outputs": [
    {
     "data": {
      "text/html": [
       "<div>\n",
       "<style scoped>\n",
       "    .dataframe tbody tr th:only-of-type {\n",
       "        vertical-align: middle;\n",
       "    }\n",
       "\n",
       "    .dataframe tbody tr th {\n",
       "        vertical-align: top;\n",
       "    }\n",
       "\n",
       "    .dataframe thead th {\n",
       "        text-align: right;\n",
       "    }\n",
       "</style>\n",
       "<table border=\"1\" class=\"dataframe\">\n",
       "  <thead>\n",
       "    <tr style=\"text-align: right;\">\n",
       "      <th></th>\n",
       "      <th>count</th>\n",
       "      <th>adjustedcount</th>\n",
       "      <th>year</th>\n",
       "    </tr>\n",
       "  </thead>\n",
       "  <tbody>\n",
       "    <tr>\n",
       "      <th>count</th>\n",
       "      <td>199906.000000</td>\n",
       "      <td>199906.000000</td>\n",
       "      <td>199906.000000</td>\n",
       "    </tr>\n",
       "    <tr>\n",
       "      <th>mean</th>\n",
       "      <td>1.332511</td>\n",
       "      <td>0.384866</td>\n",
       "      <td>2012.689984</td>\n",
       "    </tr>\n",
       "    <tr>\n",
       "      <th>std</th>\n",
       "      <td>0.845756</td>\n",
       "      <td>0.281289</td>\n",
       "      <td>8.774593</td>\n",
       "    </tr>\n",
       "    <tr>\n",
       "      <th>min</th>\n",
       "      <td>1.000000</td>\n",
       "      <td>0.008696</td>\n",
       "      <td>1970.000000</td>\n",
       "    </tr>\n",
       "    <tr>\n",
       "      <th>25%</th>\n",
       "      <td>1.000000</td>\n",
       "      <td>0.200000</td>\n",
       "      <td>2008.000000</td>\n",
       "    </tr>\n",
       "    <tr>\n",
       "      <th>50%</th>\n",
       "      <td>1.000000</td>\n",
       "      <td>0.333330</td>\n",
       "      <td>2015.000000</td>\n",
       "    </tr>\n",
       "    <tr>\n",
       "      <th>75%</th>\n",
       "      <td>1.000000</td>\n",
       "      <td>0.500000</td>\n",
       "      <td>2020.000000</td>\n",
       "    </tr>\n",
       "    <tr>\n",
       "      <th>max</th>\n",
       "      <td>24.000000</td>\n",
       "      <td>4.977800</td>\n",
       "      <td>2023.000000</td>\n",
       "    </tr>\n",
       "  </tbody>\n",
       "</table>\n",
       "</div>"
      ],
      "text/plain": [
       "               count  adjustedcount           year\n",
       "count  199906.000000  199906.000000  199906.000000\n",
       "mean        1.332511       0.384866    2012.689984\n",
       "std         0.845756       0.281289       8.774593\n",
       "min         1.000000       0.008696    1970.000000\n",
       "25%         1.000000       0.200000    2008.000000\n",
       "50%         1.000000       0.333330    2015.000000\n",
       "75%         1.000000       0.500000    2020.000000\n",
       "max        24.000000       4.977800    2023.000000"
      ]
     },
     "execution_count": 2,
     "metadata": {},
     "output_type": "execute_result"
    }
   ],
   "source": [
    "dfcsrankings = pd.read_csv(\"data/generated-author-info.csv\")\n",
    "dfcsrankings.describe()"
   ]
  },
  {
   "cell_type": "code",
   "execution_count": 3,
   "id": "d4c81532-e363-458f-abc8-e52c555427e0",
   "metadata": {
    "collapsed": false,
    "jupyter": {
     "outputs_hidden": false
    }
   },
   "outputs": [
    {
     "name": "stdout",
     "output_type": "stream",
     "text": [
      "<class 'pandas.core.frame.DataFrame'>\n",
      "RangeIndex: 199906 entries, 0 to 199905\n",
      "Data columns (total 6 columns):\n",
      " #   Column         Non-Null Count   Dtype  \n",
      "---  ------         --------------   -----  \n",
      " 0   name           199906 non-null  object \n",
      " 1   dept           199906 non-null  object \n",
      " 2   area           199906 non-null  object \n",
      " 3   count          199906 non-null  float64\n",
      " 4   adjustedcount  199906 non-null  float64\n",
      " 5   year           199906 non-null  int64  \n",
      "dtypes: float64(2), int64(1), object(3)\n",
      "memory usage: 9.2+ MB\n"
     ]
    }
   ],
   "source": [
    "dfcsrankings.info()"
   ]
  },
  {
   "cell_type": "code",
   "execution_count": 4,
   "id": "dd49f26a-b41d-4fa3-bcd2-94e46a10e27c",
   "metadata": {
    "collapsed": false,
    "jupyter": {
     "outputs_hidden": false
    }
   },
   "outputs": [
    {
     "data": {
      "text/html": [
       "<div>\n",
       "<style scoped>\n",
       "    .dataframe tbody tr th:only-of-type {\n",
       "        vertical-align: middle;\n",
       "    }\n",
       "\n",
       "    .dataframe tbody tr th {\n",
       "        vertical-align: top;\n",
       "    }\n",
       "\n",
       "    .dataframe thead th {\n",
       "        text-align: right;\n",
       "    }\n",
       "</style>\n",
       "<table border=\"1\" class=\"dataframe\">\n",
       "  <thead>\n",
       "    <tr style=\"text-align: right;\">\n",
       "      <th></th>\n",
       "      <th>name</th>\n",
       "      <th>dept</th>\n",
       "      <th>area</th>\n",
       "      <th>count</th>\n",
       "      <th>adjustedcount</th>\n",
       "      <th>year</th>\n",
       "    </tr>\n",
       "  </thead>\n",
       "  <tbody>\n",
       "    <tr>\n",
       "      <th>140070</th>\n",
       "      <td>Raymond J. Mooney</td>\n",
       "      <td>University of Texas at Austin</td>\n",
       "      <td>acl</td>\n",
       "      <td>2.0</td>\n",
       "      <td>1.00</td>\n",
       "      <td>2006</td>\n",
       "    </tr>\n",
       "    <tr>\n",
       "      <th>93686</th>\n",
       "      <td>Konstantinos Karydis</td>\n",
       "      <td>Univ. of California - Riverside</td>\n",
       "      <td>icra</td>\n",
       "      <td>1.0</td>\n",
       "      <td>0.20</td>\n",
       "      <td>2019</td>\n",
       "    </tr>\n",
       "    <tr>\n",
       "      <th>145749</th>\n",
       "      <td>Rui Wang 0004</td>\n",
       "      <td>Zhejiang University</td>\n",
       "      <td>eurographics</td>\n",
       "      <td>1.0</td>\n",
       "      <td>0.25</td>\n",
       "      <td>2021</td>\n",
       "    </tr>\n",
       "  </tbody>\n",
       "</table>\n",
       "</div>"
      ],
      "text/plain": [
       "                        name                             dept          area  \\\n",
       "140070     Raymond J. Mooney    University of Texas at Austin           acl   \n",
       "93686   Konstantinos Karydis  Univ. of California - Riverside          icra   \n",
       "145749         Rui Wang 0004              Zhejiang University  eurographics   \n",
       "\n",
       "        count  adjustedcount  year  \n",
       "140070    2.0           1.00  2006  \n",
       "93686     1.0           0.20  2019  \n",
       "145749    1.0           0.25  2021  "
      ]
     },
     "execution_count": 4,
     "metadata": {},
     "output_type": "execute_result"
    }
   ],
   "source": [
    "dfcsrankings.sample(3)"
   ]
  },
  {
   "cell_type": "code",
   "execution_count": 5,
   "id": "82841127-91ab-4758-8bed-bb5c21c55d49",
   "metadata": {
    "collapsed": false,
    "jupyter": {
     "outputs_hidden": false
    }
   },
   "outputs": [
    {
     "data": {
      "text/html": [
       "<div>\n",
       "<style scoped>\n",
       "    .dataframe tbody tr th:only-of-type {\n",
       "        vertical-align: middle;\n",
       "    }\n",
       "\n",
       "    .dataframe tbody tr th {\n",
       "        vertical-align: top;\n",
       "    }\n",
       "\n",
       "    .dataframe thead th {\n",
       "        text-align: right;\n",
       "    }\n",
       "</style>\n",
       "<table border=\"1\" class=\"dataframe\">\n",
       "  <thead>\n",
       "    <tr style=\"text-align: right;\">\n",
       "      <th></th>\n",
       "      <th>UniqueId</th>\n",
       "      <th>JoinYear</th>\n",
       "    </tr>\n",
       "  </thead>\n",
       "  <tbody>\n",
       "    <tr>\n",
       "      <th>count</th>\n",
       "      <td>5630.000000</td>\n",
       "      <td>5512.000000</td>\n",
       "    </tr>\n",
       "    <tr>\n",
       "      <th>mean</th>\n",
       "      <td>3098.262877</td>\n",
       "      <td>2007.741473</td>\n",
       "    </tr>\n",
       "    <tr>\n",
       "      <th>std</th>\n",
       "      <td>1784.465144</td>\n",
       "      <td>11.730682</td>\n",
       "    </tr>\n",
       "    <tr>\n",
       "      <th>min</th>\n",
       "      <td>1.000000</td>\n",
       "      <td>1963.000000</td>\n",
       "    </tr>\n",
       "    <tr>\n",
       "      <th>25%</th>\n",
       "      <td>1569.250000</td>\n",
       "      <td>2001.000000</td>\n",
       "    </tr>\n",
       "    <tr>\n",
       "      <th>50%</th>\n",
       "      <td>3081.500000</td>\n",
       "      <td>2011.000000</td>\n",
       "    </tr>\n",
       "    <tr>\n",
       "      <th>75%</th>\n",
       "      <td>4623.750000</td>\n",
       "      <td>2017.000000</td>\n",
       "    </tr>\n",
       "    <tr>\n",
       "      <th>max</th>\n",
       "      <td>6212.000000</td>\n",
       "      <td>2024.000000</td>\n",
       "    </tr>\n",
       "  </tbody>\n",
       "</table>\n",
       "</div>"
      ],
      "text/plain": [
       "          UniqueId     JoinYear\n",
       "count  5630.000000  5512.000000\n",
       "mean   3098.262877  2007.741473\n",
       "std    1784.465144    11.730682\n",
       "min       1.000000  1963.000000\n",
       "25%    1569.250000  2001.000000\n",
       "50%    3081.500000  2011.000000\n",
       "75%    4623.750000  2017.000000\n",
       "max    6212.000000  2024.000000"
      ]
     },
     "execution_count": 5,
     "metadata": {},
     "output_type": "execute_result"
    }
   ],
   "source": [
    "dfcsprofs = pd.read_csv(\"data/csprofessors.csv\")\n",
    "dfcsprofs.describe()"
   ]
  },
  {
   "cell_type": "code",
   "execution_count": 6,
   "id": "2998f2e1-a0a9-4767-afcf-f39e982bfc65",
   "metadata": {
    "collapsed": false,
    "jupyter": {
     "outputs_hidden": false
    }
   },
   "outputs": [
    {
     "name": "stdout",
     "output_type": "stream",
     "text": [
      "<class 'pandas.core.frame.DataFrame'>\n",
      "RangeIndex: 5630 entries, 0 to 5629\n",
      "Data columns (total 7 columns):\n",
      " #   Column      Non-Null Count  Dtype  \n",
      "---  ------      --------------  -----  \n",
      " 0   UniqueId    5630 non-null   int64  \n",
      " 1   FullName    5629 non-null   object \n",
      " 2   University  5630 non-null   object \n",
      " 3   JoinYear    5512 non-null   float64\n",
      " 4   SubField    5625 non-null   object \n",
      " 5   Bachelors   5331 non-null   object \n",
      " 6   Doctorate   5618 non-null   object \n",
      "dtypes: float64(1), int64(1), object(5)\n",
      "memory usage: 308.0+ KB\n"
     ]
    }
   ],
   "source": [
    "dfcsprofs.info()"
   ]
  },
  {
   "cell_type": "code",
   "execution_count": 7,
   "id": "92ce5e83-c50e-4f83-9873-3382c2d468eb",
   "metadata": {
    "collapsed": false,
    "jupyter": {
     "outputs_hidden": false
    }
   },
   "outputs": [
    {
     "data": {
      "text/html": [
       "<div>\n",
       "<style scoped>\n",
       "    .dataframe tbody tr th:only-of-type {\n",
       "        vertical-align: middle;\n",
       "    }\n",
       "\n",
       "    .dataframe tbody tr th {\n",
       "        vertical-align: top;\n",
       "    }\n",
       "\n",
       "    .dataframe thead th {\n",
       "        text-align: right;\n",
       "    }\n",
       "</style>\n",
       "<table border=\"1\" class=\"dataframe\">\n",
       "  <thead>\n",
       "    <tr style=\"text-align: right;\">\n",
       "      <th></th>\n",
       "      <th>UniqueId</th>\n",
       "      <th>FullName</th>\n",
       "      <th>University</th>\n",
       "      <th>JoinYear</th>\n",
       "      <th>SubField</th>\n",
       "      <th>Bachelors</th>\n",
       "      <th>Doctorate</th>\n",
       "    </tr>\n",
       "  </thead>\n",
       "  <tbody>\n",
       "    <tr>\n",
       "      <th>2415</th>\n",
       "      <td>2663</td>\n",
       "      <td>Josh McCoy</td>\n",
       "      <td>University of California, Davis</td>\n",
       "      <td>2017.0</td>\n",
       "      <td>Artificial Intelligence</td>\n",
       "      <td>Earlham College</td>\n",
       "      <td>University of California, Santa Cruz</td>\n",
       "    </tr>\n",
       "    <tr>\n",
       "      <th>5520</th>\n",
       "      <td>6101</td>\n",
       "      <td>Juan Zhai</td>\n",
       "      <td>University of Massachusetts Amherst</td>\n",
       "      <td>2023.0</td>\n",
       "      <td>Software Engineering</td>\n",
       "      <td>Nanjing University</td>\n",
       "      <td>Nanjing University</td>\n",
       "    </tr>\n",
       "    <tr>\n",
       "      <th>4452</th>\n",
       "      <td>4873</td>\n",
       "      <td>Xenofon D. Koutsoukos</td>\n",
       "      <td>Vanderbilt University</td>\n",
       "      <td>2002.0</td>\n",
       "      <td>Embedded &amp; Real-Time Systems</td>\n",
       "      <td>National Technical University of Athens</td>\n",
       "      <td>University of Notre Dame</td>\n",
       "    </tr>\n",
       "  </tbody>\n",
       "</table>\n",
       "</div>"
      ],
      "text/plain": [
       "      UniqueId               FullName                           University  \\\n",
       "2415      2663             Josh McCoy      University of California, Davis   \n",
       "5520      6101              Juan Zhai  University of Massachusetts Amherst   \n",
       "4452      4873  Xenofon D. Koutsoukos                Vanderbilt University   \n",
       "\n",
       "      JoinYear                      SubField  \\\n",
       "2415    2017.0       Artificial Intelligence   \n",
       "5520    2023.0          Software Engineering   \n",
       "4452    2002.0  Embedded & Real-Time Systems   \n",
       "\n",
       "                                    Bachelors  \\\n",
       "2415                          Earlham College   \n",
       "5520                       Nanjing University   \n",
       "4452  National Technical University of Athens   \n",
       "\n",
       "                                 Doctorate  \n",
       "2415  University of California, Santa Cruz  \n",
       "5520                    Nanjing University  \n",
       "4452              University of Notre Dame  "
      ]
     },
     "execution_count": 7,
     "metadata": {},
     "output_type": "execute_result"
    }
   ],
   "source": [
    "dfcsprofs.sample(3)"
   ]
  },
  {
   "cell_type": "code",
   "execution_count": 8,
   "id": "894f6842-2add-4075-8d6f-2b06820e2977",
   "metadata": {
    "collapsed": false,
    "jupyter": {
     "outputs_hidden": false
    }
   },
   "outputs": [
    {
     "data": {
      "text/html": [
       "<div>\n",
       "<style scoped>\n",
       "    .dataframe tbody tr th:only-of-type {\n",
       "        vertical-align: middle;\n",
       "    }\n",
       "\n",
       "    .dataframe tbody tr th {\n",
       "        vertical-align: top;\n",
       "    }\n",
       "\n",
       "    .dataframe thead th {\n",
       "        text-align: right;\n",
       "    }\n",
       "</style>\n",
       "<table border=\"1\" class=\"dataframe\">\n",
       "  <thead>\n",
       "    <tr style=\"text-align: right;\">\n",
       "      <th></th>\n",
       "      <th>num</th>\n",
       "      <th>size</th>\n",
       "      <th>bachelors</th>\n",
       "      <th>doctorate</th>\n",
       "      <th>placementscore</th>\n",
       "    </tr>\n",
       "  </thead>\n",
       "  <tbody>\n",
       "    <tr>\n",
       "      <th>count</th>\n",
       "      <td>183.000000</td>\n",
       "      <td>115.000000</td>\n",
       "      <td>168.000000</td>\n",
       "      <td>159.000000</td>\n",
       "      <td>183.000000</td>\n",
       "    </tr>\n",
       "    <tr>\n",
       "      <th>mean</th>\n",
       "      <td>92.000000</td>\n",
       "      <td>45.121739</td>\n",
       "      <td>84.500000</td>\n",
       "      <td>80.000000</td>\n",
       "      <td>1.523333</td>\n",
       "    </tr>\n",
       "    <tr>\n",
       "      <th>std</th>\n",
       "      <td>52.971691</td>\n",
       "      <td>33.426050</td>\n",
       "      <td>48.641546</td>\n",
       "      <td>46.043458</td>\n",
       "      <td>1.664107</td>\n",
       "    </tr>\n",
       "    <tr>\n",
       "      <th>min</th>\n",
       "      <td>1.000000</td>\n",
       "      <td>1.000000</td>\n",
       "      <td>1.000000</td>\n",
       "      <td>1.000000</td>\n",
       "      <td>0.820000</td>\n",
       "    </tr>\n",
       "    <tr>\n",
       "      <th>25%</th>\n",
       "      <td>46.500000</td>\n",
       "      <td>22.500000</td>\n",
       "      <td>42.750000</td>\n",
       "      <td>40.500000</td>\n",
       "      <td>0.865000</td>\n",
       "    </tr>\n",
       "    <tr>\n",
       "      <th>50%</th>\n",
       "      <td>92.000000</td>\n",
       "      <td>39.000000</td>\n",
       "      <td>84.500000</td>\n",
       "      <td>80.000000</td>\n",
       "      <td>1.000000</td>\n",
       "    </tr>\n",
       "    <tr>\n",
       "      <th>75%</th>\n",
       "      <td>137.500000</td>\n",
       "      <td>60.000000</td>\n",
       "      <td>126.250000</td>\n",
       "      <td>119.500000</td>\n",
       "      <td>1.415000</td>\n",
       "    </tr>\n",
       "    <tr>\n",
       "      <th>max</th>\n",
       "      <td>183.000000</td>\n",
       "      <td>253.000000</td>\n",
       "      <td>168.000000</td>\n",
       "      <td>159.000000</td>\n",
       "      <td>15.400000</td>\n",
       "    </tr>\n",
       "  </tbody>\n",
       "</table>\n",
       "</div>"
      ],
      "text/plain": [
       "              num        size   bachelors   doctorate  placementscore\n",
       "count  183.000000  115.000000  168.000000  159.000000      183.000000\n",
       "mean    92.000000   45.121739   84.500000   80.000000        1.523333\n",
       "std     52.971691   33.426050   48.641546   46.043458        1.664107\n",
       "min      1.000000    1.000000    1.000000    1.000000        0.820000\n",
       "25%     46.500000   22.500000   42.750000   40.500000        0.865000\n",
       "50%     92.000000   39.000000   84.500000   80.000000        1.000000\n",
       "75%    137.500000   60.000000  126.250000  119.500000        1.415000\n",
       "max    183.000000  253.000000  168.000000  159.000000       15.400000"
      ]
     },
     "execution_count": 8,
     "metadata": {},
     "output_type": "execute_result"
    }
   ],
   "source": [
    "dfplacement = pd.read_csv(\"data/placement-rank.csv\", delimiter=\"|\")\n",
    "dfplacement.describe()"
   ]
  },
  {
   "cell_type": "code",
   "execution_count": 9,
   "id": "9fda0531-f14a-48f0-8980-4896a7f35750",
   "metadata": {
    "collapsed": false,
    "jupyter": {
     "outputs_hidden": false
    }
   },
   "outputs": [
    {
     "name": "stdout",
     "output_type": "stream",
     "text": [
      "<class 'pandas.core.frame.DataFrame'>\n",
      "RangeIndex: 183 entries, 0 to 182\n",
      "Data columns (total 6 columns):\n",
      " #   Column          Non-Null Count  Dtype  \n",
      "---  ------          --------------  -----  \n",
      " 0   num             183 non-null    int64  \n",
      " 1   university      183 non-null    object \n",
      " 2   size            115 non-null    float64\n",
      " 3   bachelors       168 non-null    float64\n",
      " 4   doctorate       159 non-null    float64\n",
      " 5   placementscore  183 non-null    float64\n",
      "dtypes: float64(4), int64(1), object(1)\n",
      "memory usage: 8.7+ KB\n"
     ]
    }
   ],
   "source": [
    "dfplacement.info()"
   ]
  },
  {
   "cell_type": "code",
   "execution_count": 10,
   "id": "105358dc-635e-4228-8fbe-396f974a040d",
   "metadata": {
    "collapsed": false,
    "jupyter": {
     "outputs_hidden": false
    }
   },
   "outputs": [
    {
     "data": {
      "text/html": [
       "<div>\n",
       "<style scoped>\n",
       "    .dataframe tbody tr th:only-of-type {\n",
       "        vertical-align: middle;\n",
       "    }\n",
       "\n",
       "    .dataframe tbody tr th {\n",
       "        vertical-align: top;\n",
       "    }\n",
       "\n",
       "    .dataframe thead th {\n",
       "        text-align: right;\n",
       "    }\n",
       "</style>\n",
       "<table border=\"1\" class=\"dataframe\">\n",
       "  <thead>\n",
       "    <tr style=\"text-align: right;\">\n",
       "      <th></th>\n",
       "      <th>num</th>\n",
       "      <th>university</th>\n",
       "      <th>size</th>\n",
       "      <th>bachelors</th>\n",
       "      <th>doctorate</th>\n",
       "      <th>placementscore</th>\n",
       "    </tr>\n",
       "  </thead>\n",
       "  <tbody>\n",
       "    <tr>\n",
       "      <th>100</th>\n",
       "      <td>101</td>\n",
       "      <td>University of South Florida</td>\n",
       "      <td>13.0</td>\n",
       "      <td>126.0</td>\n",
       "      <td>89.0</td>\n",
       "      <td>0.94</td>\n",
       "    </tr>\n",
       "    <tr>\n",
       "      <th>37</th>\n",
       "      <td>38</td>\n",
       "      <td>University of North Carolina at Chapel Hill</td>\n",
       "      <td>45.0</td>\n",
       "      <td>85.0</td>\n",
       "      <td>26.0</td>\n",
       "      <td>1.57</td>\n",
       "    </tr>\n",
       "    <tr>\n",
       "      <th>138</th>\n",
       "      <td>139</td>\n",
       "      <td>Old Dominion University</td>\n",
       "      <td>NaN</td>\n",
       "      <td>140.0</td>\n",
       "      <td>NaN</td>\n",
       "      <td>0.86</td>\n",
       "    </tr>\n",
       "  </tbody>\n",
       "</table>\n",
       "</div>"
      ],
      "text/plain": [
       "     num                                   university  size  bachelors  \\\n",
       "100  101                  University of South Florida  13.0      126.0   \n",
       "37    38  University of North Carolina at Chapel Hill  45.0       85.0   \n",
       "138  139                      Old Dominion University   NaN      140.0   \n",
       "\n",
       "     doctorate  placementscore  \n",
       "100       89.0            0.94  \n",
       "37        26.0            1.57  \n",
       "138        NaN            0.86  "
      ]
     },
     "execution_count": 10,
     "metadata": {},
     "output_type": "execute_result"
    }
   ],
   "source": [
    "dfplacement.sample(3)"
   ]
  },
  {
   "cell_type": "code",
   "execution_count": 11,
   "id": "e4902de4-0d42-47c0-b64e-854d4eb6cd71",
   "metadata": {
    "collapsed": false,
    "jupyter": {
     "outputs_hidden": false
    }
   },
   "outputs": [
    {
     "data": {
      "text/html": [
       "<div>\n",
       "<style scoped>\n",
       "    .dataframe tbody tr th:only-of-type {\n",
       "        vertical-align: middle;\n",
       "    }\n",
       "\n",
       "    .dataframe tbody tr th {\n",
       "        vertical-align: top;\n",
       "    }\n",
       "\n",
       "    .dataframe thead th {\n",
       "        text-align: right;\n",
       "    }\n",
       "</style>\n",
       "<table border=\"1\" class=\"dataframe\">\n",
       "  <thead>\n",
       "    <tr style=\"text-align: right;\">\n",
       "      <th></th>\n",
       "      <th>Year</th>\n",
       "      <th>Coauthors</th>\n",
       "    </tr>\n",
       "  </thead>\n",
       "  <tbody>\n",
       "    <tr>\n",
       "      <th>count</th>\n",
       "      <td>4815.000000</td>\n",
       "      <td>4815.000000</td>\n",
       "    </tr>\n",
       "    <tr>\n",
       "      <th>mean</th>\n",
       "      <td>2014.076843</td>\n",
       "      <td>5.455659</td>\n",
       "    </tr>\n",
       "    <tr>\n",
       "      <th>std</th>\n",
       "      <td>5.956105</td>\n",
       "      <td>3.199965</td>\n",
       "    </tr>\n",
       "    <tr>\n",
       "      <th>min</th>\n",
       "      <td>1996.000000</td>\n",
       "      <td>1.000000</td>\n",
       "    </tr>\n",
       "    <tr>\n",
       "      <th>25%</th>\n",
       "      <td>2010.000000</td>\n",
       "      <td>3.000000</td>\n",
       "    </tr>\n",
       "    <tr>\n",
       "      <th>50%</th>\n",
       "      <td>2015.000000</td>\n",
       "      <td>5.000000</td>\n",
       "    </tr>\n",
       "    <tr>\n",
       "      <th>75%</th>\n",
       "      <td>2019.000000</td>\n",
       "      <td>7.000000</td>\n",
       "    </tr>\n",
       "    <tr>\n",
       "      <th>max</th>\n",
       "      <td>2022.000000</td>\n",
       "      <td>26.000000</td>\n",
       "    </tr>\n",
       "  </tbody>\n",
       "</table>\n",
       "</div>"
      ],
      "text/plain": [
       "              Year    Coauthors\n",
       "count  4815.000000  4815.000000\n",
       "mean   2014.076843     5.455659\n",
       "std       5.956105     3.199965\n",
       "min    1996.000000     1.000000\n",
       "25%    2010.000000     3.000000\n",
       "50%    2015.000000     5.000000\n",
       "75%    2019.000000     7.000000\n",
       "max    2022.000000    26.000000"
      ]
     },
     "execution_count": 11,
     "metadata": {},
     "output_type": "execute_result"
    }
   ],
   "source": [
    "dfbestpaper = pd.read_csv(\"data/best-paper.csv\", delimiter=\"|\")\n",
    "dfbestpaper = dfbestpaper.map(lambda x: x.strip() if isinstance(x, str) else x)\n",
    "dfbestpaper.describe()"
   ]
  },
  {
   "cell_type": "code",
   "execution_count": 12,
   "id": "8bfc5840-a113-4395-826c-f14f6b168cb6",
   "metadata": {
    "collapsed": false,
    "jupyter": {
     "outputs_hidden": false
    }
   },
   "outputs": [
    {
     "name": "stdout",
     "output_type": "stream",
     "text": [
      "<class 'pandas.core.frame.DataFrame'>\n",
      "RangeIndex: 4815 entries, 0 to 4814\n",
      "Data columns (total 6 columns):\n",
      " #   Column      Non-Null Count  Dtype \n",
      "---  ------      --------------  ----- \n",
      " 0   Author      4815 non-null   object\n",
      " 1   University  4815 non-null   object\n",
      " 2   Conference  4815 non-null   object\n",
      " 3   Area        4815 non-null   object\n",
      " 4   Year        4815 non-null   int64 \n",
      " 5   Coauthors   4815 non-null   int64 \n",
      "dtypes: int64(2), object(4)\n",
      "memory usage: 225.8+ KB\n"
     ]
    }
   ],
   "source": [
    "dfbestpaper.info()"
   ]
  },
  {
   "cell_type": "code",
   "execution_count": 13,
   "id": "b49a92ee-d7cb-4a3e-865d-b7965550d9cc",
   "metadata": {
    "collapsed": false,
    "jupyter": {
     "outputs_hidden": false
    }
   },
   "outputs": [
    {
     "data": {
      "text/html": [
       "<div>\n",
       "<style scoped>\n",
       "    .dataframe tbody tr th:only-of-type {\n",
       "        vertical-align: middle;\n",
       "    }\n",
       "\n",
       "    .dataframe tbody tr th {\n",
       "        vertical-align: top;\n",
       "    }\n",
       "\n",
       "    .dataframe thead th {\n",
       "        text-align: right;\n",
       "    }\n",
       "</style>\n",
       "<table border=\"1\" class=\"dataframe\">\n",
       "  <thead>\n",
       "    <tr style=\"text-align: right;\">\n",
       "      <th></th>\n",
       "      <th>Author</th>\n",
       "      <th>University</th>\n",
       "      <th>Conference</th>\n",
       "      <th>Area</th>\n",
       "      <th>Year</th>\n",
       "      <th>Coauthors</th>\n",
       "    </tr>\n",
       "  </thead>\n",
       "  <tbody>\n",
       "    <tr>\n",
       "      <th>2093</th>\n",
       "      <td>Dean Saraf</td>\n",
       "      <td>Newcastle University</td>\n",
       "      <td>CHI</td>\n",
       "      <td>Human-Computer Interaction</td>\n",
       "      <td>2016</td>\n",
       "      <td>5</td>\n",
       "    </tr>\n",
       "    <tr>\n",
       "      <th>2654</th>\n",
       "      <td>Pramod Viswanath</td>\n",
       "      <td>University of Illinois at UrbanaâChampaign</td>\n",
       "      <td>SIGMETRICS</td>\n",
       "      <td>Performance</td>\n",
       "      <td>2015</td>\n",
       "      <td>4</td>\n",
       "    </tr>\n",
       "    <tr>\n",
       "      <th>4151</th>\n",
       "      <td>Michael D. Ernst</td>\n",
       "      <td>Massachusetts Institute of Technology</td>\n",
       "      <td>ICSE</td>\n",
       "      <td>Software Engineering</td>\n",
       "      <td>2007</td>\n",
       "      <td>4</td>\n",
       "    </tr>\n",
       "  </tbody>\n",
       "</table>\n",
       "</div>"
      ],
      "text/plain": [
       "                Author                                    University  \\\n",
       "2093        Dean Saraf                          Newcastle University   \n",
       "2654  Pramod Viswanath  University of Illinois at UrbanaâChampaign   \n",
       "4151  Michael D. Ernst         Massachusetts Institute of Technology   \n",
       "\n",
       "      Conference                        Area  Year  Coauthors  \n",
       "2093         CHI  Human-Computer Interaction  2016          5  \n",
       "2654  SIGMETRICS                 Performance  2015          4  \n",
       "4151        ICSE        Software Engineering  2007          4  "
      ]
     },
     "execution_count": 13,
     "metadata": {},
     "output_type": "execute_result"
    }
   ],
   "source": [
    "dfbestpaper.sample(3)"
   ]
  },
  {
   "cell_type": "code",
   "execution_count": 14,
   "id": "8b8efb38-26c7-4c79-bf22-7415f1be3e08",
   "metadata": {
    "collapsed": false,
    "jupyter": {
     "outputs_hidden": false
    }
   },
   "outputs": [
    {
     "data": {
      "text/html": [
       "<div>\n",
       "<style scoped>\n",
       "    .dataframe tbody tr th:only-of-type {\n",
       "        vertical-align: middle;\n",
       "    }\n",
       "\n",
       "    .dataframe tbody tr th {\n",
       "        vertical-align: top;\n",
       "    }\n",
       "\n",
       "    .dataframe thead th {\n",
       "        text-align: right;\n",
       "    }\n",
       "</style>\n",
       "<table border=\"1\" class=\"dataframe\">\n",
       "  <thead>\n",
       "    <tr style=\"text-align: right;\">\n",
       "      <th></th>\n",
       "      <th>preference</th>\n",
       "      <th>id</th>\n",
       "    </tr>\n",
       "  </thead>\n",
       "  <tbody>\n",
       "    <tr>\n",
       "      <th>count</th>\n",
       "      <td>99.000000</td>\n",
       "      <td>99.000000</td>\n",
       "    </tr>\n",
       "    <tr>\n",
       "      <th>mean</th>\n",
       "      <td>2.747475</td>\n",
       "      <td>49.000000</td>\n",
       "    </tr>\n",
       "    <tr>\n",
       "      <th>std</th>\n",
       "      <td>1.311981</td>\n",
       "      <td>28.722813</td>\n",
       "    </tr>\n",
       "    <tr>\n",
       "      <th>min</th>\n",
       "      <td>1.000000</td>\n",
       "      <td>0.000000</td>\n",
       "    </tr>\n",
       "    <tr>\n",
       "      <th>25%</th>\n",
       "      <td>2.000000</td>\n",
       "      <td>24.500000</td>\n",
       "    </tr>\n",
       "    <tr>\n",
       "      <th>50%</th>\n",
       "      <td>3.000000</td>\n",
       "      <td>49.000000</td>\n",
       "    </tr>\n",
       "    <tr>\n",
       "      <th>75%</th>\n",
       "      <td>4.000000</td>\n",
       "      <td>73.500000</td>\n",
       "    </tr>\n",
       "    <tr>\n",
       "      <th>max</th>\n",
       "      <td>5.000000</td>\n",
       "      <td>98.000000</td>\n",
       "    </tr>\n",
       "  </tbody>\n",
       "</table>\n",
       "</div>"
      ],
      "text/plain": [
       "       preference         id\n",
       "count   99.000000  99.000000\n",
       "mean     2.747475  49.000000\n",
       "std      1.311981  28.722813\n",
       "min      1.000000   0.000000\n",
       "25%      2.000000  24.500000\n",
       "50%      3.000000  49.000000\n",
       "75%      4.000000  73.500000\n",
       "max      5.000000  98.000000"
      ]
     },
     "execution_count": 14,
     "metadata": {},
     "output_type": "execute_result"
    }
   ],
   "source": [
    "dfpreference = pd.read_csv(\"data/preferences.csv\")\n",
    "dfpreference[\"id\"] = range(len(dfpreference))\n",
    "dfpreference.describe()"
   ]
  },
  {
   "cell_type": "code",
   "execution_count": 15,
   "id": "0b6d5de9-eecf-4fa3-bc15-1b51b5c7e0e8",
   "metadata": {
    "collapsed": false,
    "jupyter": {
     "outputs_hidden": false
    }
   },
   "outputs": [
    {
     "name": "stdout",
     "output_type": "stream",
     "text": [
      "<class 'pandas.core.frame.DataFrame'>\n",
      "RangeIndex: 99 entries, 0 to 98\n",
      "Data columns (total 3 columns):\n",
      " #   Column      Non-Null Count  Dtype \n",
      "---  ------      --------------  ----- \n",
      " 0   conference  99 non-null     object\n",
      " 1   preference  99 non-null     int64 \n",
      " 2   id          99 non-null     int64 \n",
      "dtypes: int64(2), object(1)\n",
      "memory usage: 2.4+ KB\n"
     ]
    }
   ],
   "source": [
    "dfpreference.info()"
   ]
  },
  {
   "cell_type": "code",
   "execution_count": 16,
   "id": "2ea543ce-0a8a-4f8f-85e4-f6028b15f4c3",
   "metadata": {
    "collapsed": false,
    "jupyter": {
     "outputs_hidden": false
    }
   },
   "outputs": [
    {
     "data": {
      "text/html": [
       "<div>\n",
       "<style scoped>\n",
       "    .dataframe tbody tr th:only-of-type {\n",
       "        vertical-align: middle;\n",
       "    }\n",
       "\n",
       "    .dataframe tbody tr th {\n",
       "        vertical-align: top;\n",
       "    }\n",
       "\n",
       "    .dataframe thead th {\n",
       "        text-align: right;\n",
       "    }\n",
       "</style>\n",
       "<table border=\"1\" class=\"dataframe\">\n",
       "  <thead>\n",
       "    <tr style=\"text-align: right;\">\n",
       "      <th></th>\n",
       "      <th>conference</th>\n",
       "      <th>preference</th>\n",
       "      <th>id</th>\n",
       "    </tr>\n",
       "  </thead>\n",
       "  <tbody>\n",
       "    <tr>\n",
       "      <th>47</th>\n",
       "      <td>rss</td>\n",
       "      <td>2</td>\n",
       "      <td>47</td>\n",
       "    </tr>\n",
       "    <tr>\n",
       "      <th>64</th>\n",
       "      <td>eurosys</td>\n",
       "      <td>2</td>\n",
       "      <td>64</td>\n",
       "    </tr>\n",
       "    <tr>\n",
       "      <th>23</th>\n",
       "      <td>isca</td>\n",
       "      <td>1</td>\n",
       "      <td>23</td>\n",
       "    </tr>\n",
       "  </tbody>\n",
       "</table>\n",
       "</div>"
      ],
      "text/plain": [
       "   conference  preference  id\n",
       "47        rss           2  47\n",
       "64    eurosys           2  64\n",
       "23       isca           1  23"
      ]
     },
     "execution_count": 16,
     "metadata": {},
     "output_type": "execute_result"
    }
   ],
   "source": [
    "dfpreference.sample(3)"
   ]
  },
  {
   "cell_type": "code",
   "execution_count": 17,
   "id": "29e2217b-e5da-45bd-8e10-4a4b0e8d6d86",
   "metadata": {
    "collapsed": false,
    "jupyter": {
     "outputs_hidden": false
    }
   },
   "outputs": [
    {
     "name": "stdout",
     "output_type": "stream",
     "text": [
      "University of Kentucky []\n",
      "Colorado State University []\n",
      "University of Illinois at Chicago []\n",
      "Duke University []\n",
      "Florida International University []\n",
      "UCCS []\n",
      "186\n"
     ]
    }
   ],
   "source": [
    "university_alias = {}\n",
    "with open(\"data/universities.csv\", \"r\") as file:\n",
    "    for line in file:\n",
    "        unis = line.split(\",\")\n",
    "        unis.pop()\n",
    "        first = unis.pop(0)\n",
    "        university_alias[first] = unis\n",
    "count = 5\n",
    "for k, v in university_alias.items():\n",
    "    if count < 0:\n",
    "        break\n",
    "    count -= 1\n",
    "    print(f\"{k} {v}\")\n",
    "print(len(university_alias))"
   ]
  },
  {
   "cell_type": "code",
   "execution_count": 18,
   "id": "e99e2ec1-3f40-4bc7-92bb-c5e8669e1a1d",
   "metadata": {
    "collapsed": false,
    "jupyter": {
     "outputs_hidden": false
    }
   },
   "outputs": [],
   "source": [
    "def get_alias(uni):\n",
    "    if uni in university_alias:\n",
    "        return uni\n",
    "    for k, v in university_alias.items():\n",
    "        if uni in v:\n",
    "            return k\n",
    "    return None"
   ]
  },
  {
   "cell_type": "code",
   "execution_count": 77,
   "id": "e93538f0-5181-42ab-ad4b-b65f9a853aac",
   "metadata": {},
   "outputs": [
    {
     "data": {
      "text/html": [
       "<div>\n",
       "<style scoped>\n",
       "    .dataframe tbody tr th:only-of-type {\n",
       "        vertical-align: middle;\n",
       "    }\n",
       "\n",
       "    .dataframe tbody tr th {\n",
       "        vertical-align: top;\n",
       "    }\n",
       "\n",
       "    .dataframe thead th {\n",
       "        text-align: right;\n",
       "    }\n",
       "</style>\n",
       "<table border=\"1\" class=\"dataframe\">\n",
       "  <thead>\n",
       "    <tr style=\"text-align: right;\">\n",
       "      <th></th>\n",
       "      <th>weight</th>\n",
       "    </tr>\n",
       "  </thead>\n",
       "  <tbody>\n",
       "    <tr>\n",
       "      <th>count</th>\n",
       "      <td>16.000000</td>\n",
       "    </tr>\n",
       "    <tr>\n",
       "      <th>mean</th>\n",
       "      <td>3.562500</td>\n",
       "    </tr>\n",
       "    <tr>\n",
       "      <th>std</th>\n",
       "      <td>5.513242</td>\n",
       "    </tr>\n",
       "    <tr>\n",
       "      <th>min</th>\n",
       "      <td>-1.000000</td>\n",
       "    </tr>\n",
       "    <tr>\n",
       "      <th>25%</th>\n",
       "      <td>1.000000</td>\n",
       "    </tr>\n",
       "    <tr>\n",
       "      <th>50%</th>\n",
       "      <td>1.500000</td>\n",
       "    </tr>\n",
       "    <tr>\n",
       "      <th>75%</th>\n",
       "      <td>3.250000</td>\n",
       "    </tr>\n",
       "    <tr>\n",
       "      <th>max</th>\n",
       "      <td>22.000000</td>\n",
       "    </tr>\n",
       "  </tbody>\n",
       "</table>\n",
       "</div>"
      ],
      "text/plain": [
       "          weight\n",
       "count  16.000000\n",
       "mean    3.562500\n",
       "std     5.513242\n",
       "min    -1.000000\n",
       "25%     1.000000\n",
       "50%     1.500000\n",
       "75%     3.250000\n",
       "max    22.000000"
      ]
     },
     "execution_count": 77,
     "metadata": {},
     "output_type": "execute_result"
    }
   ],
   "source": [
    "dfstatistics = pd.read_csv(\"data/statistics.csv\")\n",
    "dfstatistics.describe()"
   ]
  },
  {
   "cell_type": "code",
   "execution_count": 78,
   "id": "abf03c8c-a3ad-4015-8acb-22a627ea7f40",
   "metadata": {},
   "outputs": [
    {
     "name": "stdout",
     "output_type": "stream",
     "text": [
      "<class 'pandas.core.frame.DataFrame'>\n",
      "RangeIndex: 126 entries, 0 to 125\n",
      "Data columns (total 2 columns):\n",
      " #   Column  Non-Null Count  Dtype  \n",
      "---  ------  --------------  -----  \n",
      " 0   stat    126 non-null    object \n",
      " 1   weight  16 non-null     float64\n",
      "dtypes: float64(1), object(1)\n",
      "memory usage: 2.1+ KB\n"
     ]
    }
   ],
   "source": [
    "dfstatistics.info()"
   ]
  },
  {
   "cell_type": "code",
   "execution_count": 79,
   "id": "8ec31050-ddb8-47e7-9c09-41356b3511e9",
   "metadata": {},
   "outputs": [
    {
     "data": {
      "text/html": [
       "<div>\n",
       "<style scoped>\n",
       "    .dataframe tbody tr th:only-of-type {\n",
       "        vertical-align: middle;\n",
       "    }\n",
       "\n",
       "    .dataframe tbody tr th {\n",
       "        vertical-align: top;\n",
       "    }\n",
       "\n",
       "    .dataframe thead th {\n",
       "        text-align: right;\n",
       "    }\n",
       "</style>\n",
       "<table border=\"1\" class=\"dataframe\">\n",
       "  <thead>\n",
       "    <tr style=\"text-align: right;\">\n",
       "      <th></th>\n",
       "      <th>stat</th>\n",
       "      <th>weight</th>\n",
       "    </tr>\n",
       "  </thead>\n",
       "  <tbody>\n",
       "    <tr>\n",
       "      <th>100</th>\n",
       "      <td>paper_score_scaled_doctorate_median</td>\n",
       "      <td>NaN</td>\n",
       "    </tr>\n",
       "  </tbody>\n",
       "</table>\n",
       "</div>"
      ],
      "text/plain": [
       "                                    stat  weight\n",
       "100  paper_score_scaled_doctorate_median     NaN"
      ]
     },
     "execution_count": 79,
     "metadata": {},
     "output_type": "execute_result"
    }
   ],
   "source": [
    "dfstatistics.sample()"
   ]
  },
  {
   "cell_type": "markdown",
   "id": "bfcde6b4-f7ea-4d83-8974-472bce96f58e",
   "metadata": {
    "jupyter": {
     "outputs_hidden": false
    }
   },
   "source": [
    "# Methodology\n",
    "\n",
    "I want to do a little better than following the rankings blindly, here are the factors I want to consider.\n",
    "\n",
    "## Data\n",
    "\n",
    "1. Professor Conference Score (essentially the csrankings.org score)\n",
    "2. Best Paper Awards\n",
    "3. Placement Rank (taken from the drafty placement rank, which is pagerank on professors original universities and then employment universities)\n",
    "4. Variance of Professors\n",
    "\n",
    "## Method\n",
    "\n",
    "### Professor Score\n",
    "A professor will be given a score based on their conference score and best papers. \n",
    "\n",
    "Both will have weights by:\n",
    "- Will be weighted by logarithmically by the year published (the older, the less score)\n",
    "- Will be weighted by how interested I am in the area (weights defined manually in `data/preferences.csv`\n",
    "\n",
    "### Meta Scores\n",
    "For each author and paper scores there are the following three things\n",
    "\n",
    "1. Just the sum of the scores for each of the areas\n",
    "2. For each of the areas min max scale and then add (0 if there is no value)\n",
    "3. For each of the areas min max scale and then add (average of the non-zero values if there is no value)\n",
    "\n",
    "### Stats\n",
    "1. Sum\n",
    "2. Mean\n",
    "3. Median\n",
    "4. Min\n",
    "5. Max\n",
    "6. Var\n",
    "7. Std\n",
    "\n",
    "\n",
    "That is there for each one of the meta scores\n",
    "\n",
    "### Ranking computation\n",
    "You can assign each one of the weights using `data/statistics.csv` (or leave them blank) and then compute a final score "
   ]
  },
  {
   "cell_type": "markdown",
   "id": "711780bf-a6c9-489a-a6ee-3f8426bf3750",
   "metadata": {
    "jupyter": {
     "outputs_hidden": false
    }
   },
   "source": [
    "# Computing Professor Scores\n",
    "\n",
    "- I will use the `generated-author-info` dataset for each professors to give their scores for each unique year-conference combination\n",
    "- I will use the `best-paper` dataset for each professor to give a bonus for each professor with a best paper\n",
    "- I will use `preference` dataset (which I manually created) to give weight preferences.\n"
   ]
  },
  {
   "cell_type": "code",
   "execution_count": 22,
   "id": "10e358bf-fcd6-428d-ba4c-e36bd1f1ff6e",
   "metadata": {
    "collapsed": false,
    "jupyter": {
     "outputs_hidden": false
    }
   },
   "outputs": [],
   "source": [
    "def year_weight(year):\n",
    "    # 1970 - 2023\n",
    "    year = 2023 - year + 3\n",
    "    year *= 0.5\n",
    "    return math.log(year)\n",
    "\n",
    "\n",
    "# [year_weight(i) * 0.333 for i in range(1970, 2024)]"
   ]
  },
  {
   "cell_type": "code",
   "execution_count": 23,
   "id": "e37718db-b050-4568-a812-4d808040060b",
   "metadata": {
    "collapsed": false,
    "jupyter": {
     "outputs_hidden": false
    }
   },
   "outputs": [],
   "source": [
    "def area_weight(area, i=False):\n",
    "    # score of 1-5\n",
    "    area_score = dfpreference[dfpreference[\"conference\"] == area][\"preference\"].values[\n",
    "        0\n",
    "    ]\n",
    "    adjusted_score = math.log(area_score + 1, 8)\n",
    "    if i:\n",
    "        return (\n",
    "            dfpreference[dfpreference[\"conference\"] == area][\"id\"].values[0],\n",
    "            adjusted_score,\n",
    "        )\n",
    "    return adjusted_score\n",
    "\n",
    "\n",
    "# [math.log(i+1, math.e ** 0.125)*0.125 for i in range(1,6)]"
   ]
  },
  {
   "cell_type": "code",
   "execution_count": 24,
   "id": "5960e027-fabf-44cf-b551-575f5397ddca",
   "metadata": {},
   "outputs": [],
   "source": [
    "names = []\n",
    "\n",
    "\n",
    "def match_name(name, column, dataframe, one=False):\n",
    "    clean_name = name.strip()\n",
    "    last_four = clean_name[-4:]\n",
    "    if last_four.isdigit():\n",
    "        clean_name = clean_name[:-4]\n",
    "    clean_name = clean_name.strip().lower()\n",
    "    rows = dataframe[dataframe[column].str.strip().str.lower() == clean_name]\n",
    "    if one:\n",
    "        if rows.empty:\n",
    "            return None\n",
    "        return pd.DataFrame(rows.iloc[0])\n",
    "    return rows\n",
    "\n",
    "\n",
    "# match_name(\"Jiawei Han 0001\", \"FullName\" , dfcsprofs)"
   ]
  },
  {
   "cell_type": "code",
   "execution_count": 25,
   "id": "ac8d45ef-8a95-41b0-b08f-a1520ac95153",
   "metadata": {},
   "outputs": [],
   "source": [
    "# dfcsprofs[dfcsprofs['FullName'] == 'Jiawei Han']"
   ]
  },
  {
   "cell_type": "code",
   "execution_count": 26,
   "id": "05df46b9-4232-4608-8e93-f120db76e6b9",
   "metadata": {
    "collapsed": false,
    "jupyter": {
     "outputs_hidden": false
    }
   },
   "outputs": [],
   "source": [
    "dfauthorscore = pd.DataFrame(\n",
    "    columns=[\n",
    "        \"name\",\n",
    "        \"university\",\n",
    "        \"score\",\n",
    "        \"score_scaled_raw\",\n",
    "        \"score_scaled\",\n",
    "        \"score_scaled_avg\",\n",
    "    ]\n",
    ")\n",
    "\n",
    "scaled_arrays = []\n",
    "\n",
    "for _ in range(len(dfpreference)):\n",
    "    scaled_arrays.append(0.0)"
   ]
  },
  {
   "cell_type": "code",
   "execution_count": 27,
   "id": "ab80d2ae-3093-404b-b0e3-7ee319c4d081",
   "metadata": {
    "collapsed": false,
    "jupyter": {
     "outputs_hidden": false
    }
   },
   "outputs": [
    {
     "name": "stderr",
     "output_type": "stream",
     "text": [
      "Prof Scores: 100%|██████████| 199906/199906 [07:24<00:00, 449.62item/s]\n"
     ]
    }
   ],
   "source": [
    "for index, row in tqdm(\n",
    "    dfcsrankings.iterrows(), desc=\"Prof Scores\", unit=\"item\", total=len(dfcsrankings)\n",
    "):\n",
    "    name = row[\"name\"]\n",
    "    university = row[\"dept\"]\n",
    "\n",
    "    year = row[\"year\"]\n",
    "    area = row[\"area\"]\n",
    "\n",
    "    yearweight = year_weight(year)\n",
    "    areaindex, areaweight = area_weight(area, True)\n",
    "\n",
    "    count = row[\"adjustedcount\"] * yearweight * areaweight\n",
    "\n",
    "    existing_rows = dfauthorscore[dfauthorscore[\"name\"] == name]\n",
    "\n",
    "    if existing_rows.empty:\n",
    "        add_array = list(scaled_arrays)\n",
    "        add_array[areaindex] = count\n",
    "        dfauthorscore.loc[len(dfauthorscore)] = [\n",
    "            name,\n",
    "            university,\n",
    "            count,\n",
    "            add_array,\n",
    "            0.0,\n",
    "            0.0,\n",
    "        ]\n",
    "    else:\n",
    "        for idx in existing_rows.index:\n",
    "            dfauthorscore.at[idx, \"score_scaled_raw\"][areaindex] += count\n",
    "            dfauthorscore.at[idx, \"score\"] += count"
   ]
  },
  {
   "cell_type": "code",
   "execution_count": 28,
   "id": "f6a86255-031a-4e9b-9698-4d67d8016527",
   "metadata": {
    "tags": []
   },
   "outputs": [
    {
     "name": "stderr",
     "output_type": "stream",
     "text": [
      "Prof Scores: 100%|██████████| 16202/16202 [00:01<00:00, 11155.07item/s]\n"
     ]
    }
   ],
   "source": [
    "sum_scaled_arrays_author_avg = list(scaled_arrays)\n",
    "sum_scaled_arrays_author = list(scaled_arrays)\n",
    "for index, row in tqdm(\n",
    "    dfauthorscore.iterrows(), desc=\"Prof Scores\", unit=\"item\", total=len(dfauthorscore)\n",
    "):\n",
    "    scaled_raw = row[\"score_scaled_raw\"]\n",
    "    for i, v in enumerate(scaled_raw):\n",
    "        if v != 0:\n",
    "            sum_scaled_arrays_author[i] += v\n",
    "            sum_scaled_arrays_author_avg[i] += 1"
   ]
  },
  {
   "cell_type": "code",
   "execution_count": 29,
   "id": "372f849c-819e-4a38-a161-293976399d56",
   "metadata": {
    "tags": []
   },
   "outputs": [],
   "source": [
    "for index, val in enumerate(sum_scaled_arrays_author):\n",
    "    if sum_scaled_arrays_author_avg[index] != 0.0:\n",
    "        sum_scaled_arrays_author_avg[index] = val / sum_scaled_arrays_author_avg[index]"
   ]
  },
  {
   "cell_type": "code",
   "execution_count": 30,
   "id": "40bd382e-bb12-41f5-a6d6-f9e5d084ffe1",
   "metadata": {},
   "outputs": [
    {
     "name": "stderr",
     "output_type": "stream",
     "text": [
      "Prof Scores: 100%|██████████| 16202/16202 [00:02<00:00, 5653.71item/s]\n"
     ]
    }
   ],
   "source": [
    "for index, row in tqdm(\n",
    "    dfauthorscore.iterrows(), desc=\"Prof Scores\", unit=\"item\", total=len(dfauthorscore)\n",
    "):\n",
    "    score_scaled = 0.0\n",
    "    score_scaled_avg = 0.0\n",
    "    for i, v in enumerate(row[\"score_scaled_raw\"]):\n",
    "        if v == 0.0:\n",
    "            score_scaled += 0.0\n",
    "            score_scaled_avg += sum_scaled_arrays_author_avg[i]\n",
    "        else:\n",
    "            score_scaled += v / sum_scaled_arrays_author[i]\n",
    "            score_scaled_avg += v / sum_scaled_arrays_author[i]\n",
    "\n",
    "    dfauthorscore.at[index, \"score_scaled\"] = score_scaled\n",
    "    dfauthorscore.at[index, \"score_scaled_avg\"] = score_scaled_avg"
   ]
  },
  {
   "cell_type": "code",
   "execution_count": 31,
   "id": "b4f7ed1f-cff1-409a-a1f4-74822fbd1b00",
   "metadata": {
    "tags": []
   },
   "outputs": [
    {
     "data": {
      "text/html": [
       "<div>\n",
       "<style scoped>\n",
       "    .dataframe tbody tr th:only-of-type {\n",
       "        vertical-align: middle;\n",
       "    }\n",
       "\n",
       "    .dataframe tbody tr th {\n",
       "        vertical-align: top;\n",
       "    }\n",
       "\n",
       "    .dataframe thead th {\n",
       "        text-align: right;\n",
       "    }\n",
       "</style>\n",
       "<table border=\"1\" class=\"dataframe\">\n",
       "  <thead>\n",
       "    <tr style=\"text-align: right;\">\n",
       "      <th></th>\n",
       "      <th>score</th>\n",
       "      <th>score_scaled</th>\n",
       "      <th>score_scaled_avg</th>\n",
       "    </tr>\n",
       "  </thead>\n",
       "  <tbody>\n",
       "    <tr>\n",
       "      <th>count</th>\n",
       "      <td>16202.000000</td>\n",
       "      <td>16202.000000</td>\n",
       "      <td>16202.000000</td>\n",
       "    </tr>\n",
       "    <tr>\n",
       "      <th>mean</th>\n",
       "      <td>5.289280</td>\n",
       "      <td>0.004814</td>\n",
       "      <td>77.147363</td>\n",
       "    </tr>\n",
       "    <tr>\n",
       "      <th>std</th>\n",
       "      <td>8.421237</td>\n",
       "      <td>0.007913</td>\n",
       "      <td>4.119078</td>\n",
       "    </tr>\n",
       "    <tr>\n",
       "      <th>min</th>\n",
       "      <td>0.007387</td>\n",
       "      <td>0.000009</td>\n",
       "      <td>51.392457</td>\n",
       "    </tr>\n",
       "    <tr>\n",
       "      <th>25%</th>\n",
       "      <td>0.831027</td>\n",
       "      <td>0.000694</td>\n",
       "      <td>75.005517</td>\n",
       "    </tr>\n",
       "    <tr>\n",
       "      <th>50%</th>\n",
       "      <td>2.286453</td>\n",
       "      <td>0.002037</td>\n",
       "      <td>78.250880</td>\n",
       "    </tr>\n",
       "    <tr>\n",
       "      <th>75%</th>\n",
       "      <td>6.095181</td>\n",
       "      <td>0.005407</td>\n",
       "      <td>80.331681</td>\n",
       "    </tr>\n",
       "    <tr>\n",
       "      <th>max</th>\n",
       "      <td>109.848482</td>\n",
       "      <td>0.135769</td>\n",
       "      <td>82.157568</td>\n",
       "    </tr>\n",
       "  </tbody>\n",
       "</table>\n",
       "</div>"
      ],
      "text/plain": [
       "              score  score_scaled  score_scaled_avg\n",
       "count  16202.000000  16202.000000      16202.000000\n",
       "mean       5.289280      0.004814         77.147363\n",
       "std        8.421237      0.007913          4.119078\n",
       "min        0.007387      0.000009         51.392457\n",
       "25%        0.831027      0.000694         75.005517\n",
       "50%        2.286453      0.002037         78.250880\n",
       "75%        6.095181      0.005407         80.331681\n",
       "max      109.848482      0.135769         82.157568"
      ]
     },
     "execution_count": 31,
     "metadata": {},
     "output_type": "execute_result"
    }
   ],
   "source": [
    "dfauthorscore.describe()"
   ]
  },
  {
   "cell_type": "code",
   "execution_count": 32,
   "id": "909315a9-c4a5-4155-a26e-2ce05c0c38aa",
   "metadata": {
    "collapsed": false,
    "jupyter": {
     "outputs_hidden": false
    }
   },
   "outputs": [
    {
     "name": "stdout",
     "output_type": "stream",
     "text": [
      "<class 'pandas.core.frame.DataFrame'>\n",
      "Index: 16202 entries, 0 to 16201\n",
      "Data columns (total 6 columns):\n",
      " #   Column            Non-Null Count  Dtype  \n",
      "---  ------            --------------  -----  \n",
      " 0   name              16202 non-null  object \n",
      " 1   university        16202 non-null  object \n",
      " 2   score             16202 non-null  float64\n",
      " 3   score_scaled_raw  16202 non-null  object \n",
      " 4   score_scaled      16202 non-null  float64\n",
      " 5   score_scaled_avg  16202 non-null  float64\n",
      "dtypes: float64(3), object(3)\n",
      "memory usage: 1.4+ MB\n"
     ]
    }
   ],
   "source": [
    "dfauthorscore.info()"
   ]
  },
  {
   "cell_type": "code",
   "execution_count": 33,
   "id": "0c1ddb56-3882-4e40-bd33-ea2b485531b1",
   "metadata": {
    "collapsed": false,
    "jupyter": {
     "outputs_hidden": false
    }
   },
   "outputs": [
    {
     "data": {
      "text/html": [
       "<div>\n",
       "<style scoped>\n",
       "    .dataframe tbody tr th:only-of-type {\n",
       "        vertical-align: middle;\n",
       "    }\n",
       "\n",
       "    .dataframe tbody tr th {\n",
       "        vertical-align: top;\n",
       "    }\n",
       "\n",
       "    .dataframe thead th {\n",
       "        text-align: right;\n",
       "    }\n",
       "</style>\n",
       "<table border=\"1\" class=\"dataframe\">\n",
       "  <thead>\n",
       "    <tr style=\"text-align: right;\">\n",
       "      <th></th>\n",
       "      <th>name</th>\n",
       "      <th>university</th>\n",
       "      <th>score</th>\n",
       "      <th>score_scaled_raw</th>\n",
       "      <th>score_scaled</th>\n",
       "      <th>score_scaled_avg</th>\n",
       "    </tr>\n",
       "  </thead>\n",
       "  <tbody>\n",
       "    <tr>\n",
       "      <th>4058</th>\n",
       "      <td>Fabio Ramos 0001</td>\n",
       "      <td>University of Sydney</td>\n",
       "      <td>34.213562</td>\n",
       "      <td>[0.0, 5.786758078153808, 5.797884782083074, 0....</td>\n",
       "      <td>0.019322</td>\n",
       "      <td>69.820418</td>\n",
       "    </tr>\n",
       "    <tr>\n",
       "      <th>9400</th>\n",
       "      <td>Michael J. Franklin</td>\n",
       "      <td>University of Chicago</td>\n",
       "      <td>34.626740</td>\n",
       "      <td>[3.9694686178340075, 0.0, 0.0, 0.0, 0.0, 0.0, ...</td>\n",
       "      <td>0.028497</td>\n",
       "      <td>70.121827</td>\n",
       "    </tr>\n",
       "    <tr>\n",
       "      <th>9132</th>\n",
       "      <td>Matthew Wright 0001</td>\n",
       "      <td>Rochester Institute of Technology</td>\n",
       "      <td>6.793662</td>\n",
       "      <td>[0.0, 0.0, 0.0, 0.4212388463433335, 0.0, 0.0, ...</td>\n",
       "      <td>0.014774</td>\n",
       "      <td>77.980789</td>\n",
       "    </tr>\n",
       "  </tbody>\n",
       "</table>\n",
       "</div>"
      ],
      "text/plain": [
       "                     name                         university      score  \\\n",
       "4058     Fabio Ramos 0001               University of Sydney  34.213562   \n",
       "9400  Michael J. Franklin              University of Chicago  34.626740   \n",
       "9132  Matthew Wright 0001  Rochester Institute of Technology   6.793662   \n",
       "\n",
       "                                       score_scaled_raw  score_scaled  \\\n",
       "4058  [0.0, 5.786758078153808, 5.797884782083074, 0....      0.019322   \n",
       "9400  [3.9694686178340075, 0.0, 0.0, 0.0, 0.0, 0.0, ...      0.028497   \n",
       "9132  [0.0, 0.0, 0.0, 0.4212388463433335, 0.0, 0.0, ...      0.014774   \n",
       "\n",
       "      score_scaled_avg  \n",
       "4058         69.820418  \n",
       "9400         70.121827  \n",
       "9132         77.980789  "
      ]
     },
     "execution_count": 33,
     "metadata": {},
     "output_type": "execute_result"
    }
   ],
   "source": [
    "dfauthorscore.sample(3)"
   ]
  },
  {
   "cell_type": "code",
   "execution_count": 34,
   "id": "66398e2d-8754-4301-a294-05cc674e202c",
   "metadata": {
    "collapsed": false,
    "editable": true,
    "jupyter": {
     "outputs_hidden": false
    },
    "slideshow": {
     "slide_type": ""
    },
    "tags": []
   },
   "outputs": [
    {
     "name": "stderr",
     "output_type": "stream",
     "text": [
      "Best Paper Scores: 100%|██████████| 4815/4815 [00:12<00:00, 374.14item/s]\n"
     ]
    }
   ],
   "source": [
    "dfpaperscore = pd.DataFrame(\n",
    "    columns=[\n",
    "        \"name\",\n",
    "        \"university\",\n",
    "        \"score\",\n",
    "        \"score_scaled_raw\",\n",
    "        \"score_scaled\",\n",
    "        \"score_scaled_avg\",\n",
    "    ]\n",
    ")\n",
    "for index, row in tqdm(\n",
    "    dfbestpaper.iterrows(),\n",
    "    desc=\"Best Paper Scores\",\n",
    "    unit=\"item\",\n",
    "    total=len(dfbestpaper),\n",
    "):\n",
    "    name = row[\"Author\"]\n",
    "    university = row[\"University\"]\n",
    "\n",
    "    year = row[\"Year\"]\n",
    "    area = row[\"Area\"]\n",
    "    coauthors = 1.0 / float(row[\"Coauthors\"])\n",
    "\n",
    "    yearweight = year_weight(year)\n",
    "    areaindex, areaweight = area_weight(area, True)\n",
    "\n",
    "    count = yearweight * areaweight * coauthors\n",
    "\n",
    "    existing_rows = dfpaperscore[dfpaperscore[\"name\"] == name]\n",
    "\n",
    "    if existing_rows.empty:\n",
    "        add_array = list(scaled_arrays)\n",
    "        add_array[areaindex] = count\n",
    "        dfpaperscore.loc[len(dfpaperscore)] = [\n",
    "            name,\n",
    "            university,\n",
    "            count,\n",
    "            add_array,\n",
    "            0.0,\n",
    "            0.0,\n",
    "        ]\n",
    "    else:\n",
    "        for idx in existing_rows.index:\n",
    "            dfpaperscore.at[idx, \"score_scaled_raw\"][areaindex] += count\n",
    "            dfpaperscore.at[idx, \"score\"] += count"
   ]
  },
  {
   "cell_type": "code",
   "execution_count": 35,
   "id": "3138cd3c-36a6-417a-a36c-e1604e5c67d7",
   "metadata": {
    "tags": []
   },
   "outputs": [
    {
     "name": "stderr",
     "output_type": "stream",
     "text": [
      "Prof Scores: 100%|██████████| 4099/4099 [00:00<00:00, 11386.79item/s]\n"
     ]
    }
   ],
   "source": [
    "sum_scaled_arrays_paper_avg = list(scaled_arrays)\n",
    "sum_scaled_arrays_paper = list(scaled_arrays)\n",
    "for index, row in tqdm(\n",
    "    dfpaperscore.iterrows(), desc=\"Prof Scores\", unit=\"item\", total=len(dfpaperscore)\n",
    "):\n",
    "    scaled_raw = row[\"score_scaled_raw\"]\n",
    "    for i, v in enumerate(scaled_raw):\n",
    "        if v != 0:\n",
    "            sum_scaled_arrays_paper[i] += v\n",
    "            sum_scaled_arrays_paper_avg[i] += 1"
   ]
  },
  {
   "cell_type": "code",
   "execution_count": 36,
   "id": "ecfc6193-4b74-4add-ab84-353d6b150fc4",
   "metadata": {
    "tags": []
   },
   "outputs": [],
   "source": [
    "for index, val in enumerate(sum_scaled_arrays_paper):\n",
    "    if sum_scaled_arrays_paper_avg[index] != 0.0:\n",
    "        sum_scaled_arrays_paper_avg[index] = val / sum_scaled_arrays_paper_avg[index]"
   ]
  },
  {
   "cell_type": "code",
   "execution_count": 37,
   "id": "1ae4d8f7-8edd-4b30-8e0f-e7ce0959f921",
   "metadata": {},
   "outputs": [
    {
     "name": "stderr",
     "output_type": "stream",
     "text": [
      "Prof Scores: 100%|██████████| 4099/4099 [00:00<00:00, 4910.52item/s]\n"
     ]
    }
   ],
   "source": [
    "for index, row in tqdm(\n",
    "    dfpaperscore.iterrows(), desc=\"Prof Scores\", unit=\"item\", total=len(dfpaperscore)\n",
    "):\n",
    "    score_scaled = 0.0\n",
    "    score_scaled_avg = 0.0\n",
    "    for i, v in enumerate(row[\"score_scaled_raw\"]):\n",
    "        if v == 0.0:\n",
    "            score_scaled += 0.0\n",
    "            score_scaled_avg += sum_scaled_arrays_paper_avg[i]\n",
    "        else:\n",
    "            score_scaled += v / sum_scaled_arrays_paper[i]\n",
    "            score_scaled_avg += v / sum_scaled_arrays_paper[i]\n",
    "\n",
    "    dfpaperscore.at[index, \"score_scaled\"] = score_scaled\n",
    "    dfpaperscore.at[index, \"score_scaled_avg\"] = score_scaled_avg"
   ]
  },
  {
   "cell_type": "code",
   "execution_count": 38,
   "id": "b4bf74a7-5dd6-46b8-9db9-ea5be47c72a2",
   "metadata": {
    "collapsed": false,
    "jupyter": {
     "outputs_hidden": false
    }
   },
   "outputs": [
    {
     "data": {
      "text/html": [
       "<div>\n",
       "<style scoped>\n",
       "    .dataframe tbody tr th:only-of-type {\n",
       "        vertical-align: middle;\n",
       "    }\n",
       "\n",
       "    .dataframe tbody tr th {\n",
       "        vertical-align: top;\n",
       "    }\n",
       "\n",
       "    .dataframe thead th {\n",
       "        text-align: right;\n",
       "    }\n",
       "</style>\n",
       "<table border=\"1\" class=\"dataframe\">\n",
       "  <thead>\n",
       "    <tr style=\"text-align: right;\">\n",
       "      <th></th>\n",
       "      <th>score</th>\n",
       "      <th>score_scaled</th>\n",
       "      <th>score_scaled_avg</th>\n",
       "    </tr>\n",
       "  </thead>\n",
       "  <tbody>\n",
       "    <tr>\n",
       "      <th>count</th>\n",
       "      <td>4099.000000</td>\n",
       "      <td>4099.000000</td>\n",
       "      <td>4099.000000</td>\n",
       "    </tr>\n",
       "    <tr>\n",
       "      <th>mean</th>\n",
       "      <td>0.363439</td>\n",
       "      <td>0.005123</td>\n",
       "      <td>7.030055</td>\n",
       "    </tr>\n",
       "    <tr>\n",
       "      <th>std</th>\n",
       "      <td>0.417404</td>\n",
       "      <td>0.012055</td>\n",
       "      <td>0.164583</td>\n",
       "    </tr>\n",
       "    <tr>\n",
       "      <th>min</th>\n",
       "      <td>0.016968</td>\n",
       "      <td>0.000174</td>\n",
       "      <td>6.028081</td>\n",
       "    </tr>\n",
       "    <tr>\n",
       "      <th>25%</th>\n",
       "      <td>0.141717</td>\n",
       "      <td>0.000925</td>\n",
       "      <td>7.024425</td>\n",
       "    </tr>\n",
       "    <tr>\n",
       "      <th>50%</th>\n",
       "      <td>0.236656</td>\n",
       "      <td>0.002263</td>\n",
       "      <td>7.090929</td>\n",
       "    </tr>\n",
       "    <tr>\n",
       "      <th>75%</th>\n",
       "      <td>0.398169</td>\n",
       "      <td>0.005314</td>\n",
       "      <td>7.113757</td>\n",
       "    </tr>\n",
       "    <tr>\n",
       "      <th>max</th>\n",
       "      <td>5.022018</td>\n",
       "      <td>0.333333</td>\n",
       "      <td>7.599636</td>\n",
       "    </tr>\n",
       "  </tbody>\n",
       "</table>\n",
       "</div>"
      ],
      "text/plain": [
       "             score  score_scaled  score_scaled_avg\n",
       "count  4099.000000   4099.000000       4099.000000\n",
       "mean      0.363439      0.005123          7.030055\n",
       "std       0.417404      0.012055          0.164583\n",
       "min       0.016968      0.000174          6.028081\n",
       "25%       0.141717      0.000925          7.024425\n",
       "50%       0.236656      0.002263          7.090929\n",
       "75%       0.398169      0.005314          7.113757\n",
       "max       5.022018      0.333333          7.599636"
      ]
     },
     "execution_count": 38,
     "metadata": {},
     "output_type": "execute_result"
    }
   ],
   "source": [
    "dfpaperscore.describe()"
   ]
  },
  {
   "cell_type": "code",
   "execution_count": 39,
   "id": "f019e27a-2ba3-4e9d-8a9e-3ef5093a1132",
   "metadata": {
    "collapsed": false,
    "jupyter": {
     "outputs_hidden": false
    }
   },
   "outputs": [
    {
     "name": "stdout",
     "output_type": "stream",
     "text": [
      "<class 'pandas.core.frame.DataFrame'>\n",
      "Index: 4099 entries, 0 to 4098\n",
      "Data columns (total 6 columns):\n",
      " #   Column            Non-Null Count  Dtype  \n",
      "---  ------            --------------  -----  \n",
      " 0   name              4099 non-null   object \n",
      " 1   university        4099 non-null   object \n",
      " 2   score             4099 non-null   float64\n",
      " 3   score_scaled_raw  4099 non-null   object \n",
      " 4   score_scaled      4099 non-null   float64\n",
      " 5   score_scaled_avg  4099 non-null   float64\n",
      "dtypes: float64(3), object(3)\n",
      "memory usage: 353.2+ KB\n"
     ]
    }
   ],
   "source": [
    "dfpaperscore.info()"
   ]
  },
  {
   "cell_type": "code",
   "execution_count": 40,
   "id": "4b5d3f3d-529c-45f8-83b7-eab0f53281e8",
   "metadata": {
    "collapsed": false,
    "jupyter": {
     "outputs_hidden": false
    }
   },
   "outputs": [
    {
     "data": {
      "text/html": [
       "<div>\n",
       "<style scoped>\n",
       "    .dataframe tbody tr th:only-of-type {\n",
       "        vertical-align: middle;\n",
       "    }\n",
       "\n",
       "    .dataframe tbody tr th {\n",
       "        vertical-align: top;\n",
       "    }\n",
       "\n",
       "    .dataframe thead th {\n",
       "        text-align: right;\n",
       "    }\n",
       "</style>\n",
       "<table border=\"1\" class=\"dataframe\">\n",
       "  <thead>\n",
       "    <tr style=\"text-align: right;\">\n",
       "      <th></th>\n",
       "      <th>name</th>\n",
       "      <th>university</th>\n",
       "      <th>score</th>\n",
       "      <th>score_scaled_raw</th>\n",
       "      <th>score_scaled</th>\n",
       "      <th>score_scaled_avg</th>\n",
       "    </tr>\n",
       "  </thead>\n",
       "  <tbody>\n",
       "    <tr>\n",
       "      <th>1299</th>\n",
       "      <td>Jerome Leroux</td>\n",
       "      <td>National Center for Scientific Research</td>\n",
       "      <td>0.215890</td>\n",
       "      <td>[0.0, 0.0, 0.0, 0.0, 0.0, 0.0, 0.0, 0.0, 0.0, ...</td>\n",
       "      <td>0.001486</td>\n",
       "      <td>6.582897</td>\n",
       "    </tr>\n",
       "    <tr>\n",
       "      <th>145</th>\n",
       "      <td>Thi Avrahami</td>\n",
       "      <td>Rulai</td>\n",
       "      <td>0.101810</td>\n",
       "      <td>[0.0, 0.0, 0.0, 0.0, 0.0, 0.0, 0.0, 0.0, 0.0, ...</td>\n",
       "      <td>0.000348</td>\n",
       "      <td>7.091069</td>\n",
       "    </tr>\n",
       "    <tr>\n",
       "      <th>1568</th>\n",
       "      <td>Abbas Mehrabian</td>\n",
       "      <td>McGill University</td>\n",
       "      <td>0.199084</td>\n",
       "      <td>[0.0, 0.0, 0.0, 0.0, 0.0, 0.0, 0.0, 0.0, 0.0, ...</td>\n",
       "      <td>0.002899</td>\n",
       "      <td>7.033555</td>\n",
       "    </tr>\n",
       "  </tbody>\n",
       "</table>\n",
       "</div>"
      ],
      "text/plain": [
       "                 name                               university     score  \\\n",
       "1299    Jerome Leroux  National Center for Scientific Research  0.215890   \n",
       "145      Thi Avrahami                                    Rulai  0.101810   \n",
       "1568  Abbas Mehrabian                        McGill University  0.199084   \n",
       "\n",
       "                                       score_scaled_raw  score_scaled  \\\n",
       "1299  [0.0, 0.0, 0.0, 0.0, 0.0, 0.0, 0.0, 0.0, 0.0, ...      0.001486   \n",
       "145   [0.0, 0.0, 0.0, 0.0, 0.0, 0.0, 0.0, 0.0, 0.0, ...      0.000348   \n",
       "1568  [0.0, 0.0, 0.0, 0.0, 0.0, 0.0, 0.0, 0.0, 0.0, ...      0.002899   \n",
       "\n",
       "      score_scaled_avg  \n",
       "1299          6.582897  \n",
       "145           7.091069  \n",
       "1568          7.033555  "
      ]
     },
     "execution_count": 40,
     "metadata": {},
     "output_type": "execute_result"
    }
   ],
   "source": [
    "dfpaperscore.sample(3)"
   ]
  },
  {
   "cell_type": "code",
   "execution_count": 41,
   "id": "bb22034a-13ae-4ff8-89d0-a1db57438d16",
   "metadata": {
    "collapsed": false,
    "jupyter": {
     "outputs_hidden": false
    }
   },
   "outputs": [
    {
     "name": "stderr",
     "output_type": "stream",
     "text": [
      "Merge Scores: 100%|██████████| 4099/4099 [00:59<00:00, 69.13item/s]\n"
     ]
    }
   ],
   "source": [
    "warnings.simplefilter(action=\"ignore\", category=FutureWarning)\n",
    "\n",
    "dfscore = dfauthorscore.copy()\n",
    "\n",
    "dfscore.rename(\n",
    "    columns={\n",
    "        \"score\": \"author_score\",\n",
    "        \"score_scaled\": \"author_score_scaled\",\n",
    "        \"score_scaled_avg\": \"author_score_scaled_avg\",\n",
    "    },\n",
    "    inplace=True,\n",
    ")\n",
    "\n",
    "dfscore = dfscore.drop([\"score_scaled_raw\"], axis=1)\n",
    "dfscore[\"paper_score\"] = None\n",
    "dfscore[\"paper_score_scaled\"] = None\n",
    "dfscore[\"paper_score_scaled_avg\"] = None\n",
    "\n",
    "for index, row in tqdm(\n",
    "    dfpaperscore.iterrows(), desc=\"Merge Scores\", unit=\"item\", total=len(dfpaperscore)\n",
    "):\n",
    "    name = row[\"name\"]\n",
    "    university = row[\"university\"]\n",
    "    paper_score = row[\"score\"]\n",
    "    paper_score_scaled = row[\"score_scaled\"]\n",
    "    paper_score_scaled_avg = row[\"score_scaled_avg\"]\n",
    "\n",
    "    existing_rows = match_name(name, \"name\", dfscore)\n",
    "\n",
    "    if existing_rows.empty:\n",
    "        dfscore.loc[len(dfscore)] = [\n",
    "            name,\n",
    "            university,\n",
    "            None,\n",
    "            None,\n",
    "            None,\n",
    "            paper_score,\n",
    "            paper_score_scaled,\n",
    "            paper_score_scaled_avg,\n",
    "        ]\n",
    "    else:\n",
    "        for idx in existing_rows.index:\n",
    "            dfscore.loc[\n",
    "                idx,\n",
    "                [\n",
    "                    \"paper_score\",\n",
    "                    \"paper_score_scaled\",\n",
    "                    \"paper_score_scaled_avg\",\n",
    "                ],\n",
    "            ] = [\n",
    "                paper_score,\n",
    "                paper_score_scaled,\n",
    "                paper_score_scaled_avg,\n",
    "            ]"
   ]
  },
  {
   "cell_type": "code",
   "execution_count": 42,
   "id": "293e47ad-3075-4fb1-a370-fa7309012743",
   "metadata": {
    "collapsed": false,
    "jupyter": {
     "outputs_hidden": false
    }
   },
   "outputs": [
    {
     "data": {
      "text/html": [
       "<div>\n",
       "<style scoped>\n",
       "    .dataframe tbody tr th:only-of-type {\n",
       "        vertical-align: middle;\n",
       "    }\n",
       "\n",
       "    .dataframe tbody tr th {\n",
       "        vertical-align: top;\n",
       "    }\n",
       "\n",
       "    .dataframe thead th {\n",
       "        text-align: right;\n",
       "    }\n",
       "</style>\n",
       "<table border=\"1\" class=\"dataframe\">\n",
       "  <thead>\n",
       "    <tr style=\"text-align: right;\">\n",
       "      <th></th>\n",
       "      <th>author_score</th>\n",
       "      <th>author_score_scaled</th>\n",
       "      <th>author_score_scaled_avg</th>\n",
       "      <th>paper_score</th>\n",
       "      <th>paper_score_scaled</th>\n",
       "      <th>paper_score_scaled_avg</th>\n",
       "      <th>combined_score</th>\n",
       "    </tr>\n",
       "  </thead>\n",
       "  <tbody>\n",
       "    <tr>\n",
       "      <th>count</th>\n",
       "      <td>6224.000000</td>\n",
       "      <td>6224.000000</td>\n",
       "      <td>6224.000000</td>\n",
       "      <td>1732.000000</td>\n",
       "      <td>1732.000000</td>\n",
       "      <td>1732.000000</td>\n",
       "      <td>7493.000000</td>\n",
       "    </tr>\n",
       "    <tr>\n",
       "      <th>mean</th>\n",
       "      <td>7.105932</td>\n",
       "      <td>0.007176</td>\n",
       "      <td>76.334659</td>\n",
       "      <td>0.411352</td>\n",
       "      <td>0.005701</td>\n",
       "      <td>7.030447</td>\n",
       "      <td>5.997569</td>\n",
       "    </tr>\n",
       "    <tr>\n",
       "      <th>std</th>\n",
       "      <td>10.088763</td>\n",
       "      <td>0.010359</td>\n",
       "      <td>4.496159</td>\n",
       "      <td>0.457307</td>\n",
       "      <td>0.012018</td>\n",
       "      <td>0.168211</td>\n",
       "      <td>9.576129</td>\n",
       "    </tr>\n",
       "    <tr>\n",
       "      <th>min</th>\n",
       "      <td>0.007792</td>\n",
       "      <td>0.000013</td>\n",
       "      <td>51.392457</td>\n",
       "      <td>0.016968</td>\n",
       "      <td>0.000179</td>\n",
       "      <td>6.028081</td>\n",
       "      <td>0.007792</td>\n",
       "    </tr>\n",
       "    <tr>\n",
       "      <th>25%</th>\n",
       "      <td>1.289504</td>\n",
       "      <td>0.001216</td>\n",
       "      <td>73.990002</td>\n",
       "      <td>0.152715</td>\n",
       "      <td>0.001147</td>\n",
       "      <td>7.024408</td>\n",
       "      <td>0.618674</td>\n",
       "    </tr>\n",
       "    <tr>\n",
       "      <th>50%</th>\n",
       "      <td>3.424615</td>\n",
       "      <td>0.003506</td>\n",
       "      <td>77.428259</td>\n",
       "      <td>0.268240</td>\n",
       "      <td>0.002849</td>\n",
       "      <td>7.090900</td>\n",
       "      <td>2.430092</td>\n",
       "    </tr>\n",
       "    <tr>\n",
       "      <th>75%</th>\n",
       "      <td>8.729862</td>\n",
       "      <td>0.008655</td>\n",
       "      <td>79.747139</td>\n",
       "      <td>0.462260</td>\n",
       "      <td>0.006314</td>\n",
       "      <td>7.113877</td>\n",
       "      <td>7.217203</td>\n",
       "    </tr>\n",
       "    <tr>\n",
       "      <th>max</th>\n",
       "      <td>109.848482</td>\n",
       "      <td>0.135769</td>\n",
       "      <td>82.157354</td>\n",
       "      <td>5.022018</td>\n",
       "      <td>0.333333</td>\n",
       "      <td>7.599636</td>\n",
       "      <td>109.848482</td>\n",
       "    </tr>\n",
       "  </tbody>\n",
       "</table>\n",
       "</div>"
      ],
      "text/plain": [
       "       author_score  author_score_scaled  author_score_scaled_avg  \\\n",
       "count   6224.000000          6224.000000              6224.000000   \n",
       "mean       7.105932             0.007176                76.334659   \n",
       "std       10.088763             0.010359                 4.496159   \n",
       "min        0.007792             0.000013                51.392457   \n",
       "25%        1.289504             0.001216                73.990002   \n",
       "50%        3.424615             0.003506                77.428259   \n",
       "75%        8.729862             0.008655                79.747139   \n",
       "max      109.848482             0.135769                82.157354   \n",
       "\n",
       "       paper_score  paper_score_scaled  paper_score_scaled_avg  combined_score  \n",
       "count  1732.000000         1732.000000             1732.000000     7493.000000  \n",
       "mean      0.411352            0.005701                7.030447        5.997569  \n",
       "std       0.457307            0.012018                0.168211        9.576129  \n",
       "min       0.016968            0.000179                6.028081        0.007792  \n",
       "25%       0.152715            0.001147                7.024408        0.618674  \n",
       "50%       0.268240            0.002849                7.090900        2.430092  \n",
       "75%       0.462260            0.006314                7.113877        7.217203  \n",
       "max       5.022018            0.333333                7.599636      109.848482  "
      ]
     },
     "execution_count": 42,
     "metadata": {},
     "output_type": "execute_result"
    }
   ],
   "source": [
    "dfscore[\"university\"] = dfscore[\"university\"].apply(get_alias)\n",
    "dfscore = dfscore.dropna(subset=[\"university\"])\n",
    "dfscore[\"name_lower\"] = dfscore[\"name\"].str.lower()\n",
    "author_score_wnan = dfscore[\"author_score\"].copy()\n",
    "paper_score_wnan = dfscore[\"paper_score\"].copy()\n",
    "dfscore[\"combined_score\"] = author_score_wnan.fillna(0) + paper_score_wnan.fillna(0)\n",
    "dfscore.describe()"
   ]
  },
  {
   "cell_type": "code",
   "execution_count": 43,
   "id": "efab9c8d-01cd-4c79-b8c8-048a2d59ce69",
   "metadata": {
    "collapsed": false,
    "jupyter": {
     "outputs_hidden": false
    }
   },
   "outputs": [
    {
     "name": "stdout",
     "output_type": "stream",
     "text": [
      "<class 'pandas.core.frame.DataFrame'>\n",
      "Index: 7493 entries, 4 to 19418\n",
      "Data columns (total 10 columns):\n",
      " #   Column                   Non-Null Count  Dtype  \n",
      "---  ------                   --------------  -----  \n",
      " 0   name                     7493 non-null   object \n",
      " 1   university               7493 non-null   object \n",
      " 2   author_score             6224 non-null   float64\n",
      " 3   author_score_scaled      6224 non-null   float64\n",
      " 4   author_score_scaled_avg  6224 non-null   float64\n",
      " 5   paper_score              1732 non-null   float64\n",
      " 6   paper_score_scaled       1732 non-null   float64\n",
      " 7   paper_score_scaled_avg   1732 non-null   float64\n",
      " 8   name_lower               7493 non-null   object \n",
      " 9   combined_score           7493 non-null   float64\n",
      "dtypes: float64(7), object(3)\n",
      "memory usage: 643.9+ KB\n"
     ]
    }
   ],
   "source": [
    "dfscore.info()"
   ]
  },
  {
   "cell_type": "code",
   "execution_count": 44,
   "id": "6dd4bc73-643b-4ce1-98c2-abd9a68b7c58",
   "metadata": {
    "collapsed": false,
    "jupyter": {
     "outputs_hidden": false
    }
   },
   "outputs": [
    {
     "data": {
      "text/html": [
       "<div>\n",
       "<style scoped>\n",
       "    .dataframe tbody tr th:only-of-type {\n",
       "        vertical-align: middle;\n",
       "    }\n",
       "\n",
       "    .dataframe tbody tr th {\n",
       "        vertical-align: top;\n",
       "    }\n",
       "\n",
       "    .dataframe thead th {\n",
       "        text-align: right;\n",
       "    }\n",
       "</style>\n",
       "<table border=\"1\" class=\"dataframe\">\n",
       "  <thead>\n",
       "    <tr style=\"text-align: right;\">\n",
       "      <th></th>\n",
       "      <th>name</th>\n",
       "      <th>university</th>\n",
       "      <th>author_score</th>\n",
       "      <th>author_score_scaled</th>\n",
       "      <th>author_score_scaled_avg</th>\n",
       "      <th>paper_score</th>\n",
       "      <th>paper_score_scaled</th>\n",
       "      <th>paper_score_scaled_avg</th>\n",
       "      <th>name_lower</th>\n",
       "      <th>combined_score</th>\n",
       "    </tr>\n",
       "  </thead>\n",
       "  <tbody>\n",
       "    <tr>\n",
       "      <th>8589</th>\n",
       "      <td>Manuel E. Bermudez</td>\n",
       "      <td>University of Florida</td>\n",
       "      <td>0.723237</td>\n",
       "      <td>0.000389</td>\n",
       "      <td>81.009455</td>\n",
       "      <td>NaN</td>\n",
       "      <td>NaN</td>\n",
       "      <td>NaN</td>\n",
       "      <td>manuel e. bermudez</td>\n",
       "      <td>0.723237</td>\n",
       "    </tr>\n",
       "    <tr>\n",
       "      <th>11375</th>\n",
       "      <td>Rajiv Khanna</td>\n",
       "      <td>Purdue University</td>\n",
       "      <td>2.086723</td>\n",
       "      <td>0.001151</td>\n",
       "      <td>78.665526</td>\n",
       "      <td>0.315541</td>\n",
       "      <td>0.004594</td>\n",
       "      <td>7.035251</td>\n",
       "      <td>rajiv khanna</td>\n",
       "      <td>2.402265</td>\n",
       "    </tr>\n",
       "    <tr>\n",
       "      <th>10868</th>\n",
       "      <td>Peter Kazanzides</td>\n",
       "      <td>Johns Hopkins University</td>\n",
       "      <td>12.564875</td>\n",
       "      <td>0.004772</td>\n",
       "      <td>76.650438</td>\n",
       "      <td>NaN</td>\n",
       "      <td>NaN</td>\n",
       "      <td>NaN</td>\n",
       "      <td>peter kazanzides</td>\n",
       "      <td>12.564875</td>\n",
       "    </tr>\n",
       "  </tbody>\n",
       "</table>\n",
       "</div>"
      ],
      "text/plain": [
       "                     name                university  author_score  \\\n",
       "8589   Manuel E. Bermudez     University of Florida      0.723237   \n",
       "11375        Rajiv Khanna         Purdue University      2.086723   \n",
       "10868    Peter Kazanzides  Johns Hopkins University     12.564875   \n",
       "\n",
       "       author_score_scaled  author_score_scaled_avg  paper_score  \\\n",
       "8589              0.000389                81.009455          NaN   \n",
       "11375             0.001151                78.665526     0.315541   \n",
       "10868             0.004772                76.650438          NaN   \n",
       "\n",
       "       paper_score_scaled  paper_score_scaled_avg          name_lower  \\\n",
       "8589                  NaN                     NaN  manuel e. bermudez   \n",
       "11375            0.004594                7.035251        rajiv khanna   \n",
       "10868                 NaN                     NaN    peter kazanzides   \n",
       "\n",
       "       combined_score  \n",
       "8589         0.723237  \n",
       "11375        2.402265  \n",
       "10868       12.564875  "
      ]
     },
     "execution_count": 44,
     "metadata": {},
     "output_type": "execute_result"
    }
   ],
   "source": [
    "dfscore.sample(3)"
   ]
  },
  {
   "cell_type": "markdown",
   "id": "3567e8d2-6d82-486c-af41-d0a286b96e1a",
   "metadata": {
    "jupyter": {
     "outputs_hidden": false
    }
   },
   "source": [
    "# University dataframe\n",
    "\n",
    "Now I will create a dataframe which has all people who currently work at the university, got their bachelors there, or got their doctorate there.\n",
    "\n",
    "## Steps\n",
    "1. Drop any universities that do not fit `get_alias`. This comprises of a lot of international universities that I don't have enough data on (and I don't want to apply to). Quite a lot of universities were filtered out in this stage.\n",
    "2. Match the names and find out where profs got bachelors and phd from the `dfscore` and `dfcsprofs` dataframes. There will be a lot of misses here as well.\n",
    "3. Modulate the dataframe to pivot off of universities with an array of authors instead of single author university pairings. \n",
    "\n",
    "## Name matching\n",
    "\n",
    "Name matching will be done by lowering the case of everyones names and pivoting against the `name` field of the `dfscore` (which is from `dfcsrankings`) dataframe and the `FullName` field of the `dfcsprofs` dataframe. This will not end up with 100% matches (instead probably a lot less). There are also a lot of universities in both of these dataframes that wias filtered out with the `get_alias` function previously)\n"
   ]
  },
  {
   "cell_type": "code",
   "execution_count": 45,
   "id": "3526c098-6585-4274-9c1a-c0a367b0be40",
   "metadata": {
    "collapsed": false,
    "editable": true,
    "jupyter": {
     "outputs_hidden": false
    },
    "scrolled": true,
    "slideshow": {
     "slide_type": ""
    },
    "tags": []
   },
   "outputs": [
    {
     "name": "stderr",
     "output_type": "stream",
     "text": [
      "Merge Placement: 100%|██████████| 7493/7493 [00:39<00:00, 189.99item/s]\n"
     ]
    },
    {
     "data": {
      "text/html": [
       "<div>\n",
       "<style scoped>\n",
       "    .dataframe tbody tr th:only-of-type {\n",
       "        vertical-align: middle;\n",
       "    }\n",
       "\n",
       "    .dataframe tbody tr th {\n",
       "        vertical-align: top;\n",
       "    }\n",
       "\n",
       "    .dataframe thead th {\n",
       "        text-align: right;\n",
       "    }\n",
       "</style>\n",
       "<table border=\"1\" class=\"dataframe\">\n",
       "  <thead>\n",
       "    <tr style=\"text-align: right;\">\n",
       "      <th></th>\n",
       "      <th>author_score</th>\n",
       "      <th>author_score_scaled</th>\n",
       "      <th>author_score_scaled_avg</th>\n",
       "      <th>paper_score</th>\n",
       "      <th>paper_score_scaled</th>\n",
       "      <th>paper_score_scaled_avg</th>\n",
       "      <th>combined_score</th>\n",
       "    </tr>\n",
       "  </thead>\n",
       "  <tbody>\n",
       "    <tr>\n",
       "      <th>count</th>\n",
       "      <td>6224.000000</td>\n",
       "      <td>6224.000000</td>\n",
       "      <td>6224.000000</td>\n",
       "      <td>1732.000000</td>\n",
       "      <td>1732.000000</td>\n",
       "      <td>1732.000000</td>\n",
       "      <td>7493.000000</td>\n",
       "    </tr>\n",
       "    <tr>\n",
       "      <th>mean</th>\n",
       "      <td>7.105932</td>\n",
       "      <td>0.007176</td>\n",
       "      <td>76.334659</td>\n",
       "      <td>0.411352</td>\n",
       "      <td>0.005701</td>\n",
       "      <td>7.030447</td>\n",
       "      <td>5.997569</td>\n",
       "    </tr>\n",
       "    <tr>\n",
       "      <th>std</th>\n",
       "      <td>10.088763</td>\n",
       "      <td>0.010359</td>\n",
       "      <td>4.496159</td>\n",
       "      <td>0.457307</td>\n",
       "      <td>0.012018</td>\n",
       "      <td>0.168211</td>\n",
       "      <td>9.576129</td>\n",
       "    </tr>\n",
       "    <tr>\n",
       "      <th>min</th>\n",
       "      <td>0.007792</td>\n",
       "      <td>0.000013</td>\n",
       "      <td>51.392457</td>\n",
       "      <td>0.016968</td>\n",
       "      <td>0.000179</td>\n",
       "      <td>6.028081</td>\n",
       "      <td>0.007792</td>\n",
       "    </tr>\n",
       "    <tr>\n",
       "      <th>25%</th>\n",
       "      <td>1.289504</td>\n",
       "      <td>0.001216</td>\n",
       "      <td>73.990002</td>\n",
       "      <td>0.152715</td>\n",
       "      <td>0.001147</td>\n",
       "      <td>7.024408</td>\n",
       "      <td>0.618674</td>\n",
       "    </tr>\n",
       "    <tr>\n",
       "      <th>50%</th>\n",
       "      <td>3.424615</td>\n",
       "      <td>0.003506</td>\n",
       "      <td>77.428259</td>\n",
       "      <td>0.268240</td>\n",
       "      <td>0.002849</td>\n",
       "      <td>7.090900</td>\n",
       "      <td>2.430092</td>\n",
       "    </tr>\n",
       "    <tr>\n",
       "      <th>75%</th>\n",
       "      <td>8.729862</td>\n",
       "      <td>0.008655</td>\n",
       "      <td>79.747139</td>\n",
       "      <td>0.462260</td>\n",
       "      <td>0.006314</td>\n",
       "      <td>7.113877</td>\n",
       "      <td>7.217203</td>\n",
       "    </tr>\n",
       "    <tr>\n",
       "      <th>max</th>\n",
       "      <td>109.848482</td>\n",
       "      <td>0.135769</td>\n",
       "      <td>82.157354</td>\n",
       "      <td>5.022018</td>\n",
       "      <td>0.333333</td>\n",
       "      <td>7.599636</td>\n",
       "      <td>109.848482</td>\n",
       "    </tr>\n",
       "  </tbody>\n",
       "</table>\n",
       "</div>"
      ],
      "text/plain": [
       "       author_score  author_score_scaled  author_score_scaled_avg  \\\n",
       "count   6224.000000          6224.000000              6224.000000   \n",
       "mean       7.105932             0.007176                76.334659   \n",
       "std       10.088763             0.010359                 4.496159   \n",
       "min        0.007792             0.000013                51.392457   \n",
       "25%        1.289504             0.001216                73.990002   \n",
       "50%        3.424615             0.003506                77.428259   \n",
       "75%        8.729862             0.008655                79.747139   \n",
       "max      109.848482             0.135769                82.157354   \n",
       "\n",
       "       paper_score  paper_score_scaled  paper_score_scaled_avg  combined_score  \n",
       "count  1732.000000         1732.000000             1732.000000     7493.000000  \n",
       "mean      0.411352            0.005701                7.030447        5.997569  \n",
       "std       0.457307            0.012018                0.168211        9.576129  \n",
       "min       0.016968            0.000179                6.028081        0.007792  \n",
       "25%       0.152715            0.001147                7.024408        0.618674  \n",
       "50%       0.268240            0.002849                7.090900        2.430092  \n",
       "75%       0.462260            0.006314                7.113877        7.217203  \n",
       "max       5.022018            0.333333                7.599636      109.848482  "
      ]
     },
     "execution_count": 45,
     "metadata": {},
     "output_type": "execute_result"
    }
   ],
   "source": [
    "dfscore_placement = dfscore.copy()\n",
    "dfscore_placement[\"placement\"] = np.nan\n",
    "dfscore_placement[\"bachelors\"] = np.nan\n",
    "dfscore_placement[\"doctorate\"] = np.nan\n",
    "\n",
    "dfcsprofs_placement = dfcsprofs.copy()\n",
    "dfcsprofs_placement[\"placement\"] = dfcsprofs_placement[\"University\"].apply(get_alias)\n",
    "dfcsprofs_placement[\"bachelors\"] = dfcsprofs_placement[\"Bachelors\"].apply(get_alias)\n",
    "dfcsprofs_placement[\"doctorate\"] = dfcsprofs_placement[\"Doctorate\"].apply(get_alias)\n",
    "\n",
    "\n",
    "for index, row in tqdm(\n",
    "    dfscore_placement.iterrows(),\n",
    "    desc=\"Merge Placement\",\n",
    "    unit=\"item\",\n",
    "    total=len(dfscore_placement),\n",
    "):\n",
    "    prof_row = match_name(row[\"name\"], \"FullName\", dfcsprofs_placement, True)\n",
    "    if prof_row is not None:\n",
    "        dfscore_placement.loc[\n",
    "            index, [\"placement\", \"bachelors\", \"doctorate\"]\n",
    "        ] = dfcsprofs_placement.loc[\n",
    "            prof_row.iloc[0].index[0], [\"placement\", \"bachelors\", \"doctorate\"]\n",
    "        ]\n",
    "\n",
    "dfscore_placement.describe()"
   ]
  },
  {
   "cell_type": "code",
   "execution_count": 46,
   "id": "10860994-b197-4241-8ece-996c16be61c3",
   "metadata": {
    "collapsed": false,
    "jupyter": {
     "outputs_hidden": false
    }
   },
   "outputs": [
    {
     "name": "stdout",
     "output_type": "stream",
     "text": [
      "<class 'pandas.core.frame.DataFrame'>\n",
      "Index: 7493 entries, 4 to 19418\n",
      "Data columns (total 13 columns):\n",
      " #   Column                   Non-Null Count  Dtype  \n",
      "---  ------                   --------------  -----  \n",
      " 0   name                     7493 non-null   object \n",
      " 1   university               7493 non-null   object \n",
      " 2   author_score             6224 non-null   float64\n",
      " 3   author_score_scaled      6224 non-null   float64\n",
      " 4   author_score_scaled_avg  6224 non-null   float64\n",
      " 5   paper_score              1732 non-null   float64\n",
      " 6   paper_score_scaled       1732 non-null   float64\n",
      " 7   paper_score_scaled_avg   1732 non-null   float64\n",
      " 8   name_lower               7493 non-null   object \n",
      " 9   combined_score           7493 non-null   float64\n",
      " 10  placement                3175 non-null   object \n",
      " 11  bachelors                1263 non-null   object \n",
      " 12  doctorate                2673 non-null   object \n",
      "dtypes: float64(7), object(6)\n",
      "memory usage: 1.1+ MB\n"
     ]
    }
   ],
   "source": [
    "dfscore_placement.info()"
   ]
  },
  {
   "cell_type": "code",
   "execution_count": 47,
   "id": "ef4fdaab-6bf7-4402-9494-af385fa0d0a5",
   "metadata": {
    "collapsed": false,
    "jupyter": {
     "outputs_hidden": false
    }
   },
   "outputs": [
    {
     "data": {
      "text/html": [
       "<div>\n",
       "<style scoped>\n",
       "    .dataframe tbody tr th:only-of-type {\n",
       "        vertical-align: middle;\n",
       "    }\n",
       "\n",
       "    .dataframe tbody tr th {\n",
       "        vertical-align: top;\n",
       "    }\n",
       "\n",
       "    .dataframe thead th {\n",
       "        text-align: right;\n",
       "    }\n",
       "</style>\n",
       "<table border=\"1\" class=\"dataframe\">\n",
       "  <thead>\n",
       "    <tr style=\"text-align: right;\">\n",
       "      <th></th>\n",
       "      <th>name</th>\n",
       "      <th>university</th>\n",
       "      <th>author_score</th>\n",
       "      <th>author_score_scaled</th>\n",
       "      <th>author_score_scaled_avg</th>\n",
       "      <th>paper_score</th>\n",
       "      <th>paper_score_scaled</th>\n",
       "      <th>paper_score_scaled_avg</th>\n",
       "      <th>name_lower</th>\n",
       "      <th>combined_score</th>\n",
       "      <th>placement</th>\n",
       "      <th>bachelors</th>\n",
       "      <th>doctorate</th>\n",
       "    </tr>\n",
       "  </thead>\n",
       "  <tbody>\n",
       "    <tr>\n",
       "      <th>2774</th>\n",
       "      <td>Dakai Zhu 0001</td>\n",
       "      <td>University of Texas at San Antonio</td>\n",
       "      <td>4.988969</td>\n",
       "      <td>0.012200</td>\n",
       "      <td>77.613663</td>\n",
       "      <td>NaN</td>\n",
       "      <td>NaN</td>\n",
       "      <td>NaN</td>\n",
       "      <td>dakai zhu 0001</td>\n",
       "      <td>4.988969</td>\n",
       "      <td>NaN</td>\n",
       "      <td>NaN</td>\n",
       "      <td>NaN</td>\n",
       "    </tr>\n",
       "    <tr>\n",
       "      <th>13619</th>\n",
       "      <td>Taylor Berg-Kirkpatrick</td>\n",
       "      <td>Univ. of California - San Diego</td>\n",
       "      <td>15.533879</td>\n",
       "      <td>0.008949</td>\n",
       "      <td>72.629813</td>\n",
       "      <td>NaN</td>\n",
       "      <td>NaN</td>\n",
       "      <td>NaN</td>\n",
       "      <td>taylor berg-kirkpatrick</td>\n",
       "      <td>15.533879</td>\n",
       "      <td>None</td>\n",
       "      <td>None</td>\n",
       "      <td>None</td>\n",
       "    </tr>\n",
       "    <tr>\n",
       "      <th>7623</th>\n",
       "      <td>Kevin R. B. Butler</td>\n",
       "      <td>University of Florida</td>\n",
       "      <td>6.193431</td>\n",
       "      <td>0.010779</td>\n",
       "      <td>76.240184</td>\n",
       "      <td>NaN</td>\n",
       "      <td>NaN</td>\n",
       "      <td>NaN</td>\n",
       "      <td>kevin r. b. butler</td>\n",
       "      <td>6.193431</td>\n",
       "      <td>University of Florida</td>\n",
       "      <td>None</td>\n",
       "      <td>Pennsylvania State University</td>\n",
       "    </tr>\n",
       "  </tbody>\n",
       "</table>\n",
       "</div>"
      ],
      "text/plain": [
       "                          name                          university  \\\n",
       "2774            Dakai Zhu 0001  University of Texas at San Antonio   \n",
       "13619  Taylor Berg-Kirkpatrick     Univ. of California - San Diego   \n",
       "7623        Kevin R. B. Butler               University of Florida   \n",
       "\n",
       "       author_score  author_score_scaled  author_score_scaled_avg  \\\n",
       "2774       4.988969             0.012200                77.613663   \n",
       "13619     15.533879             0.008949                72.629813   \n",
       "7623       6.193431             0.010779                76.240184   \n",
       "\n",
       "       paper_score  paper_score_scaled  paper_score_scaled_avg  \\\n",
       "2774           NaN                 NaN                     NaN   \n",
       "13619          NaN                 NaN                     NaN   \n",
       "7623           NaN                 NaN                     NaN   \n",
       "\n",
       "                    name_lower  combined_score              placement  \\\n",
       "2774            dakai zhu 0001        4.988969                    NaN   \n",
       "13619  taylor berg-kirkpatrick       15.533879                   None   \n",
       "7623        kevin r. b. butler        6.193431  University of Florida   \n",
       "\n",
       "      bachelors                      doctorate  \n",
       "2774        NaN                            NaN  \n",
       "13619      None                           None  \n",
       "7623       None  Pennsylvania State University  "
      ]
     },
     "execution_count": 47,
     "metadata": {},
     "output_type": "execute_result"
    }
   ],
   "source": [
    "dfscore_placement.sample(3)"
   ]
  },
  {
   "cell_type": "code",
   "execution_count": 48,
   "id": "7c72cd8d-3018-4d47-af1b-9de8e7f2d4cd",
   "metadata": {
    "collapsed": false,
    "jupyter": {
     "outputs_hidden": false
    }
   },
   "outputs": [
    {
     "data": {
      "text/html": [
       "<div>\n",
       "<style scoped>\n",
       "    .dataframe tbody tr th:only-of-type {\n",
       "        vertical-align: middle;\n",
       "    }\n",
       "\n",
       "    .dataframe tbody tr th {\n",
       "        vertical-align: top;\n",
       "    }\n",
       "\n",
       "    .dataframe thead th {\n",
       "        text-align: right;\n",
       "    }\n",
       "</style>\n",
       "<table border=\"1\" class=\"dataframe\">\n",
       "  <thead>\n",
       "    <tr style=\"text-align: right;\">\n",
       "      <th></th>\n",
       "      <th>university</th>\n",
       "      <th>professors</th>\n",
       "      <th>bachelors</th>\n",
       "      <th>doctorate</th>\n",
       "    </tr>\n",
       "  </thead>\n",
       "  <tbody>\n",
       "    <tr>\n",
       "      <th>112</th>\n",
       "      <td>University of Colorado - Denver</td>\n",
       "      <td>[]</td>\n",
       "      <td>[]</td>\n",
       "      <td>[]</td>\n",
       "    </tr>\n",
       "    <tr>\n",
       "      <th>12</th>\n",
       "      <td>Case Western Reserve University</td>\n",
       "      <td>[]</td>\n",
       "      <td>[]</td>\n",
       "      <td>[]</td>\n",
       "    </tr>\n",
       "    <tr>\n",
       "      <th>75</th>\n",
       "      <td>Southern Methodist University</td>\n",
       "      <td>[]</td>\n",
       "      <td>[]</td>\n",
       "      <td>[]</td>\n",
       "    </tr>\n",
       "  </tbody>\n",
       "</table>\n",
       "</div>"
      ],
      "text/plain": [
       "                          university professors bachelors doctorate\n",
       "112  University of Colorado - Denver         []        []        []\n",
       "12   Case Western Reserve University         []        []        []\n",
       "75     Southern Methodist University         []        []        []"
      ]
     },
     "execution_count": 48,
     "metadata": {},
     "output_type": "execute_result"
    }
   ],
   "source": [
    "unique_unis = np.unique(\n",
    "    np.concatenate(\n",
    "        [\n",
    "            dfscore_placement[\"university\"].dropna(),\n",
    "            dfscore_placement[\"bachelors\"].dropna(),\n",
    "            dfscore_placement[\"doctorate\"].dropna(),\n",
    "        ]\n",
    "    )\n",
    ")\n",
    "\n",
    "length = len(unique_unis)\n",
    "inner_arrays = []\n",
    "for _ in range(length):\n",
    "    inner_arrays.append(np.array([]))\n",
    "\n",
    "dfuniversity = pd.DataFrame(\n",
    "    {\n",
    "        \"university\": unique_unis,\n",
    "        \"professors\": inner_arrays,\n",
    "        \"bachelors\": inner_arrays,\n",
    "        \"doctorate\": inner_arrays,\n",
    "    }\n",
    ")\n",
    "dfuniversity.sample(3)"
   ]
  },
  {
   "cell_type": "code",
   "execution_count": 49,
   "id": "0166e658-cd59-4509-8fca-537fee15c231",
   "metadata": {
    "collapsed": false,
    "jupyter": {
     "outputs_hidden": false
    }
   },
   "outputs": [
    {
     "name": "stderr",
     "output_type": "stream",
     "text": [
      "Merge Scores: 100%|██████████| 7493/7493 [00:08<00:00, 927.79item/s] \n"
     ]
    }
   ],
   "source": [
    "for index, row in tqdm(\n",
    "    dfscore_placement.iterrows(),\n",
    "    desc=\"Merge Scores\",\n",
    "    unit=\"item\",\n",
    "    total=len(dfscore_placement),\n",
    "):\n",
    "    name = row[\"name\"]\n",
    "    university = row[\"university\"]\n",
    "    bachelors = row[\"bachelors\"]\n",
    "    doctorate = row[\"doctorate\"]\n",
    "\n",
    "    existing_rows = dfuniversity[dfuniversity[\"university\"] == university]\n",
    "    if not existing_rows.empty:\n",
    "        for idx in existing_rows.index:\n",
    "            dfuniversity.at[idx, \"professors\"] = np.append(\n",
    "                dfuniversity.at[idx, \"professors\"], name\n",
    "            )\n",
    "\n",
    "    existing_rows = dfuniversity[dfuniversity[\"university\"] == bachelors]\n",
    "    if not existing_rows.empty:\n",
    "        for idx in existing_rows.index:\n",
    "            dfuniversity.at[idx, \"bachelors\"] = np.append(\n",
    "                dfuniversity.at[idx, \"bachelors\"], name\n",
    "            )\n",
    "\n",
    "    existing_rows = dfuniversity[dfuniversity[\"university\"] == doctorate]\n",
    "    if not existing_rows.empty:\n",
    "        for idx in existing_rows.index:\n",
    "            dfuniversity.at[idx, \"doctorate\"] = np.append(\n",
    "                dfuniversity.at[idx, \"doctorate\"], name\n",
    "            )"
   ]
  },
  {
   "cell_type": "code",
   "execution_count": 50,
   "id": "7ef4651f-3720-4960-8538-671f274ab37f",
   "metadata": {
    "collapsed": false,
    "jupyter": {
     "outputs_hidden": false
    }
   },
   "outputs": [
    {
     "data": {
      "text/html": [
       "<div>\n",
       "<style scoped>\n",
       "    .dataframe tbody tr th:only-of-type {\n",
       "        vertical-align: middle;\n",
       "    }\n",
       "\n",
       "    .dataframe tbody tr th {\n",
       "        vertical-align: top;\n",
       "    }\n",
       "\n",
       "    .dataframe thead th {\n",
       "        text-align: right;\n",
       "    }\n",
       "</style>\n",
       "<table border=\"1\" class=\"dataframe\">\n",
       "  <thead>\n",
       "    <tr style=\"text-align: right;\">\n",
       "      <th></th>\n",
       "      <th>university</th>\n",
       "      <th>professors</th>\n",
       "      <th>bachelors</th>\n",
       "      <th>doctorate</th>\n",
       "    </tr>\n",
       "  </thead>\n",
       "  <tbody>\n",
       "    <tr>\n",
       "      <th>119</th>\n",
       "      <td>University of Hawaii at Manoa</td>\n",
       "      <td>[Carleton A. Moore, Daniel D. Suthers, Dusko P...</td>\n",
       "      <td>[]</td>\n",
       "      <td>[]</td>\n",
       "    </tr>\n",
       "    <tr>\n",
       "      <th>128</th>\n",
       "      <td>University of Massachusetts Amherst</td>\n",
       "      <td>[Adam O'Neill, Alexandra Meliou, Amir Houmansa...</td>\n",
       "      <td>[Aaron M. Dollar, Andy Podgurski, Byron C. Wal...</td>\n",
       "      <td>[Abhishek Chandra, Alexander L. Wolf, Andy Pod...</td>\n",
       "    </tr>\n",
       "    <tr>\n",
       "      <th>161</th>\n",
       "      <td>University of Texas at Arlington</td>\n",
       "      <td>[Allison Sullivan, Ashraf Aboulnaga, Chengkai ...</td>\n",
       "      <td>[]</td>\n",
       "      <td>[Abolfazl Asudeh, Hua Wang 0007]</td>\n",
       "    </tr>\n",
       "  </tbody>\n",
       "</table>\n",
       "</div>"
      ],
      "text/plain": [
       "                              university  \\\n",
       "119        University of Hawaii at Manoa   \n",
       "128  University of Massachusetts Amherst   \n",
       "161     University of Texas at Arlington   \n",
       "\n",
       "                                            professors  \\\n",
       "119  [Carleton A. Moore, Daniel D. Suthers, Dusko P...   \n",
       "128  [Adam O'Neill, Alexandra Meliou, Amir Houmansa...   \n",
       "161  [Allison Sullivan, Ashraf Aboulnaga, Chengkai ...   \n",
       "\n",
       "                                             bachelors  \\\n",
       "119                                                 []   \n",
       "128  [Aaron M. Dollar, Andy Podgurski, Byron C. Wal...   \n",
       "161                                                 []   \n",
       "\n",
       "                                             doctorate  \n",
       "119                                                 []  \n",
       "128  [Abhishek Chandra, Alexander L. Wolf, Andy Pod...  \n",
       "161                   [Abolfazl Asudeh, Hua Wang 0007]  "
      ]
     },
     "execution_count": 50,
     "metadata": {},
     "output_type": "execute_result"
    }
   ],
   "source": [
    "dfuniversity.sample(3)"
   ]
  },
  {
   "cell_type": "markdown",
   "id": "567053a2-1298-4c00-a36b-488982291bf8",
   "metadata": {},
   "source": [
    "# Creating meta scores\n",
    "I will end up with 18 columns\n",
    "\n",
    "I will start with empty arrays and then add to them as I lookup the scores of the authors from the `dfscore` dataframe. Nonetypes will be filled with $0$"
   ]
  },
  {
   "cell_type": "code",
   "execution_count": 51,
   "id": "55a37c01-b7da-4ea7-815f-47a190580f0a",
   "metadata": {
    "tags": []
   },
   "outputs": [
    {
     "data": {
      "text/plain": [
       "{'author_score_professors': ('author_score', 'professors'),\n",
       " 'author_score_bachelors': ('author_score', 'bachelors'),\n",
       " 'author_score_doctorate': ('author_score', 'doctorate'),\n",
       " 'author_score_scaled_professors': ('author_score_scaled', 'professors'),\n",
       " 'author_score_scaled_bachelors': ('author_score_scaled', 'bachelors'),\n",
       " 'author_score_scaled_doctorate': ('author_score_scaled', 'doctorate'),\n",
       " 'author_score_scaled_avg_professors': ('author_score_scaled_avg',\n",
       "  'professors'),\n",
       " 'author_score_scaled_avg_bachelors': ('author_score_scaled_avg', 'bachelors'),\n",
       " 'author_score_scaled_avg_doctorate': ('author_score_scaled_avg', 'doctorate'),\n",
       " 'paper_score_professors': ('paper_score', 'professors'),\n",
       " 'paper_score_bachelors': ('paper_score', 'bachelors'),\n",
       " 'paper_score_doctorate': ('paper_score', 'doctorate'),\n",
       " 'paper_score_scaled_professors': ('paper_score_scaled', 'professors'),\n",
       " 'paper_score_scaled_bachelors': ('paper_score_scaled', 'bachelors'),\n",
       " 'paper_score_scaled_doctorate': ('paper_score_scaled', 'doctorate'),\n",
       " 'paper_score_scaled_avg_professors': ('paper_score_scaled_avg', 'professors'),\n",
       " 'paper_score_scaled_avg_bachelors': ('paper_score_scaled_avg', 'bachelors'),\n",
       " 'paper_score_scaled_avg_doctorate': ('paper_score_scaled_avg', 'doctorate')}"
      ]
     },
     "execution_count": 51,
     "metadata": {},
     "output_type": "execute_result"
    }
   ],
   "source": [
    "combinations = {}\n",
    "\n",
    "root = [\"author_score\", \"paper_score\"]\n",
    "extension = [\"\", \"_scaled\", \"_scaled_avg\"]\n",
    "level = [\"_professors\", \"_bachelors\", \"_doctorate\"]\n",
    "\n",
    "for r in root:\n",
    "    for e in extension:\n",
    "        for l in level:\n",
    "            combinations[f\"{r}{e}{l}\"] = (f\"{r}{e}\", l[1:])\n",
    "combinations"
   ]
  },
  {
   "cell_type": "code",
   "execution_count": 52,
   "id": "6a5bf2db-1f2e-4d82-b523-581e2b7d9a4c",
   "metadata": {
    "collapsed": false,
    "jupyter": {
     "outputs_hidden": false
    }
   },
   "outputs": [],
   "source": [
    "def get_match(name, type):\n",
    "    match = dfscore[dfscore[\"name_lower\"] == name.lower()]\n",
    "    if not match.empty:\n",
    "        value = match.iloc[0][type]\n",
    "        if not math.isnan(value):\n",
    "            return value\n",
    "    return None\n",
    "\n",
    "\n",
    "def clean_none_value(value):\n",
    "    if value == None:\n",
    "        return 0.0\n",
    "    return value\n",
    "\n",
    "\n",
    "def lookup_scores(names, t):\n",
    "    values = []\n",
    "    if isinstance(names, str):\n",
    "        res = get_match(names, t)\n",
    "        values.append(clean_none_value(res))\n",
    "        return values\n",
    "\n",
    "    if names.ndim == 0:\n",
    "        res = get_match(names.item(), t)\n",
    "        values.append(clean_none_value(res))\n",
    "        return values\n",
    "\n",
    "    for name in names:\n",
    "        res = get_match(name, t)\n",
    "        values.append(clean_none_value(res))\n",
    "    return values"
   ]
  },
  {
   "cell_type": "code",
   "execution_count": 53,
   "id": "ba285ca1-e504-4e29-94ba-32bdfc160412",
   "metadata": {
    "collapsed": false,
    "jupyter": {
     "outputs_hidden": false
    }
   },
   "outputs": [
    {
     "name": "stderr",
     "output_type": "stream",
     "text": [
      "Processing: 100%|██████████| 185/185 [00:08<00:00, 21.58it/s]\n",
      "Processing: 100%|██████████| 185/185 [00:01<00:00, 132.86it/s]\n",
      "Processing: 100%|██████████| 185/185 [00:03<00:00, 57.35it/s]\n",
      "Processing: 100%|██████████| 185/185 [00:08<00:00, 22.45it/s]\n",
      "Processing: 100%|██████████| 185/185 [00:01<00:00, 105.27it/s]\n",
      "Processing: 100%|██████████| 185/185 [00:02<00:00, 61.78it/s]\n",
      "Processing: 100%|██████████| 185/185 [00:08<00:00, 21.80it/s]\n",
      "Processing: 100%|██████████| 185/185 [00:01<00:00, 129.63it/s]\n",
      "Processing: 100%|██████████| 185/185 [00:02<00:00, 63.04it/s]\n",
      "Processing: 100%|██████████| 185/185 [00:08<00:00, 21.78it/s]\n",
      "Processing: 100%|██████████| 185/185 [00:01<00:00, 132.91it/s]\n",
      "Processing: 100%|██████████| 185/185 [00:02<00:00, 63.27it/s]\n",
      "Processing: 100%|██████████| 185/185 [00:08<00:00, 21.97it/s]\n",
      "Processing: 100%|██████████| 185/185 [00:01<00:00, 133.51it/s]\n",
      "Processing: 100%|██████████| 185/185 [00:03<00:00, 59.06it/s]\n",
      "Processing: 100%|██████████| 185/185 [00:08<00:00, 21.80it/s]\n",
      "Processing: 100%|██████████| 185/185 [00:01<00:00, 133.35it/s]\n",
      "Processing: 100%|██████████| 185/185 [00:02<00:00, 63.11it/s]\n"
     ]
    }
   ],
   "source": [
    "tqdm.pandas(desc=\"Processing\")\n",
    "\n",
    "for c, l in combinations.items():\n",
    "    dfuniversity[c] = dfuniversity[l[1]].progress_apply(\n",
    "        lambda x: lookup_scores(x, l[0])\n",
    "    )"
   ]
  },
  {
   "cell_type": "code",
   "execution_count": 54,
   "id": "0dfa1538-ee19-4576-80fd-a25845fb45a5",
   "metadata": {
    "collapsed": false,
    "jupyter": {
     "outputs_hidden": false
    },
    "scrolled": true
   },
   "outputs": [
    {
     "name": "stdout",
     "output_type": "stream",
     "text": [
      "<class 'pandas.core.frame.DataFrame'>\n",
      "RangeIndex: 185 entries, 0 to 184\n",
      "Data columns (total 22 columns):\n",
      " #   Column                              Non-Null Count  Dtype \n",
      "---  ------                              --------------  ----- \n",
      " 0   university                          185 non-null    object\n",
      " 1   professors                          185 non-null    object\n",
      " 2   bachelors                           185 non-null    object\n",
      " 3   doctorate                           185 non-null    object\n",
      " 4   author_score_professors             185 non-null    object\n",
      " 5   author_score_bachelors              185 non-null    object\n",
      " 6   author_score_doctorate              185 non-null    object\n",
      " 7   author_score_scaled_professors      185 non-null    object\n",
      " 8   author_score_scaled_bachelors       185 non-null    object\n",
      " 9   author_score_scaled_doctorate       185 non-null    object\n",
      " 10  author_score_scaled_avg_professors  185 non-null    object\n",
      " 11  author_score_scaled_avg_bachelors   185 non-null    object\n",
      " 12  author_score_scaled_avg_doctorate   185 non-null    object\n",
      " 13  paper_score_professors              185 non-null    object\n",
      " 14  paper_score_bachelors               185 non-null    object\n",
      " 15  paper_score_doctorate               185 non-null    object\n",
      " 16  paper_score_scaled_professors       185 non-null    object\n",
      " 17  paper_score_scaled_bachelors        185 non-null    object\n",
      " 18  paper_score_scaled_doctorate        185 non-null    object\n",
      " 19  paper_score_scaled_avg_professors   185 non-null    object\n",
      " 20  paper_score_scaled_avg_bachelors    185 non-null    object\n",
      " 21  paper_score_scaled_avg_doctorate    185 non-null    object\n",
      "dtypes: object(22)\n",
      "memory usage: 31.9+ KB\n"
     ]
    }
   ],
   "source": [
    "dfuniversity.info()"
   ]
  },
  {
   "cell_type": "markdown",
   "id": "e6dc7071-4426-4d79-8c64-b46c2c6d3f92",
   "metadata": {},
   "source": [
    "# Computing Statistics\n",
    "\n",
    "Here I am computing just a bunch of statistics. I iterate through each one of the arrays for all the different data type and compute statistics on each\n",
    "\n",
    "It is not too complicated, but allows for me a lot of granularity of control in the weighing stage and computing the final score. I will have $126$ stats, you can customize weights for this in `data/statistics.csv`"
   ]
  },
  {
   "cell_type": "code",
   "execution_count": 55,
   "id": "4f243519-b33b-4348-b9ee-0762a9a5dc80",
   "metadata": {
    "collapsed": false,
    "jupyter": {
     "outputs_hidden": false
    }
   },
   "outputs": [],
   "source": [
    "stats_columns = [\"sum\", \"mean\", \"median\", \"min\", \"max\", \"var\", \"std\"]"
   ]
  },
  {
   "cell_type": "code",
   "execution_count": 56,
   "id": "9f58145e-b801-489f-8619-b67258aa1169",
   "metadata": {
    "collapsed": false,
    "jupyter": {
     "outputs_hidden": false
    }
   },
   "outputs": [
    {
     "data": {
      "text/html": [
       "<div>\n",
       "<style scoped>\n",
       "    .dataframe tbody tr th:only-of-type {\n",
       "        vertical-align: middle;\n",
       "    }\n",
       "\n",
       "    .dataframe tbody tr th {\n",
       "        vertical-align: top;\n",
       "    }\n",
       "\n",
       "    .dataframe thead th {\n",
       "        text-align: right;\n",
       "    }\n",
       "</style>\n",
       "<table border=\"1\" class=\"dataframe\">\n",
       "  <thead>\n",
       "    <tr style=\"text-align: right;\">\n",
       "      <th></th>\n",
       "      <th>university</th>\n",
       "      <th>professors</th>\n",
       "      <th>bachelors</th>\n",
       "      <th>doctorate</th>\n",
       "      <th>author_score_professors</th>\n",
       "      <th>author_score_bachelors</th>\n",
       "      <th>author_score_doctorate</th>\n",
       "      <th>author_score_scaled_professors</th>\n",
       "      <th>author_score_scaled_bachelors</th>\n",
       "      <th>author_score_scaled_doctorate</th>\n",
       "      <th>...</th>\n",
       "      <th>paper_score_scaled_avg_bachelors_max</th>\n",
       "      <th>paper_score_scaled_avg_bachelors_var</th>\n",
       "      <th>paper_score_scaled_avg_bachelors_std</th>\n",
       "      <th>paper_score_scaled_avg_doctorate_sum</th>\n",
       "      <th>paper_score_scaled_avg_doctorate_mean</th>\n",
       "      <th>paper_score_scaled_avg_doctorate_median</th>\n",
       "      <th>paper_score_scaled_avg_doctorate_min</th>\n",
       "      <th>paper_score_scaled_avg_doctorate_max</th>\n",
       "      <th>paper_score_scaled_avg_doctorate_var</th>\n",
       "      <th>paper_score_scaled_avg_doctorate_std</th>\n",
       "    </tr>\n",
       "  </thead>\n",
       "  <tbody>\n",
       "    <tr>\n",
       "      <th>137</th>\n",
       "      <td>University of Missouri</td>\n",
       "      <td>[Chi-Ren Shyu, Dong Xu 0002, Jeffrey Uhlmann, ...</td>\n",
       "      <td>[Amy W. Apon, Kenneth E. Jansen, Ross Maciejew...</td>\n",
       "      <td>[]</td>\n",
       "      <td>[1.5627120503282383, 0.46422228372432056, 2.15...</td>\n",
       "      <td>[0.2962147386496157, 0.3231508005256841, 5.051...</td>\n",
       "      <td>[]</td>\n",
       "      <td>[0.00029351671347325114, 0.002367484072578553,...</td>\n",
       "      <td>[0.000673603604685216, 0.00044173610983528087,...</td>\n",
       "      <td>[]</td>\n",
       "      <td>...</td>\n",
       "      <td>None</td>\n",
       "      <td>None</td>\n",
       "      <td>None</td>\n",
       "      <td>None</td>\n",
       "      <td>None</td>\n",
       "      <td>None</td>\n",
       "      <td>None</td>\n",
       "      <td>None</td>\n",
       "      <td>None</td>\n",
       "      <td>None</td>\n",
       "    </tr>\n",
       "    <tr>\n",
       "      <th>73</th>\n",
       "      <td>Rutgers University</td>\n",
       "      <td>[Aaron Bernstein, Abdeslam Boularias, Ahmed M....</td>\n",
       "      <td>[Allan Borodin, Amy X. Zhang, Barbara Di Eugen...</td>\n",
       "      <td>[Aleksandar Nikolov, Anthony J. Bonner, Arunav...</td>\n",
       "      <td>[14.040284171108663, 9.858295111087115, 23.135...</td>\n",
       "      <td>[16.129786957029797, 3.0423068819163546, 7.976...</td>\n",
       "      <td>[7.845401405416958, 8.234495031808494, 3.99403...</td>\n",
       "      <td>[0.004349880082286023, 0.004274305712228606, 0...</td>\n",
       "      <td>[0.007758444195355574, 0.003243444188096129, 0...</td>\n",
       "      <td>[0.0027488721355590964, 0.01129526689050642, 0...</td>\n",
       "      <td>...</td>\n",
       "      <td>None</td>\n",
       "      <td>None</td>\n",
       "      <td>None</td>\n",
       "      <td>None</td>\n",
       "      <td>None</td>\n",
       "      <td>None</td>\n",
       "      <td>None</td>\n",
       "      <td>None</td>\n",
       "      <td>None</td>\n",
       "      <td>None</td>\n",
       "    </tr>\n",
       "    <tr>\n",
       "      <th>104</th>\n",
       "      <td>University of Amsterdam</td>\n",
       "      <td>[Ana Lucia Varbanescu, Andy D. Pimentel, Anuj ...</td>\n",
       "      <td>Frank Tip</td>\n",
       "      <td>[Daniel Leivant, Frank Tip, Mohammed El-Kebir,...</td>\n",
       "      <td>[0.37302108859991573, 1.3569825911471693, 0.87...</td>\n",
       "      <td>[12.432397234730333]</td>\n",
       "      <td>[15.899157631679365, 12.432397234730333, 0.946...</td>\n",
       "      <td>[0.0006004311923078333, 0.0018803654442503162,...</td>\n",
       "      <td>[0.023072066123549992]</td>\n",
       "      <td>[0.016451747973504873, 0.023072066123549992, 0...</td>\n",
       "      <td>...</td>\n",
       "      <td>None</td>\n",
       "      <td>None</td>\n",
       "      <td>None</td>\n",
       "      <td>None</td>\n",
       "      <td>None</td>\n",
       "      <td>None</td>\n",
       "      <td>None</td>\n",
       "      <td>None</td>\n",
       "      <td>None</td>\n",
       "      <td>None</td>\n",
       "    </tr>\n",
       "  </tbody>\n",
       "</table>\n",
       "<p>3 rows × 148 columns</p>\n",
       "</div>"
      ],
      "text/plain": [
       "                  university  \\\n",
       "137   University of Missouri   \n",
       "73        Rutgers University   \n",
       "104  University of Amsterdam   \n",
       "\n",
       "                                            professors  \\\n",
       "137  [Chi-Ren Shyu, Dong Xu 0002, Jeffrey Uhlmann, ...   \n",
       "73   [Aaron Bernstein, Abdeslam Boularias, Ahmed M....   \n",
       "104  [Ana Lucia Varbanescu, Andy D. Pimentel, Anuj ...   \n",
       "\n",
       "                                             bachelors  \\\n",
       "137  [Amy W. Apon, Kenneth E. Jansen, Ross Maciejew...   \n",
       "73   [Allan Borodin, Amy X. Zhang, Barbara Di Eugen...   \n",
       "104                                          Frank Tip   \n",
       "\n",
       "                                             doctorate  \\\n",
       "137                                                 []   \n",
       "73   [Aleksandar Nikolov, Anthony J. Bonner, Arunav...   \n",
       "104  [Daniel Leivant, Frank Tip, Mohammed El-Kebir,...   \n",
       "\n",
       "                               author_score_professors  \\\n",
       "137  [1.5627120503282383, 0.46422228372432056, 2.15...   \n",
       "73   [14.040284171108663, 9.858295111087115, 23.135...   \n",
       "104  [0.37302108859991573, 1.3569825911471693, 0.87...   \n",
       "\n",
       "                                author_score_bachelors  \\\n",
       "137  [0.2962147386496157, 0.3231508005256841, 5.051...   \n",
       "73   [16.129786957029797, 3.0423068819163546, 7.976...   \n",
       "104                               [12.432397234730333]   \n",
       "\n",
       "                                author_score_doctorate  \\\n",
       "137                                                 []   \n",
       "73   [7.845401405416958, 8.234495031808494, 3.99403...   \n",
       "104  [15.899157631679365, 12.432397234730333, 0.946...   \n",
       "\n",
       "                        author_score_scaled_professors  \\\n",
       "137  [0.00029351671347325114, 0.002367484072578553,...   \n",
       "73   [0.004349880082286023, 0.004274305712228606, 0...   \n",
       "104  [0.0006004311923078333, 0.0018803654442503162,...   \n",
       "\n",
       "                         author_score_scaled_bachelors  \\\n",
       "137  [0.000673603604685216, 0.00044173610983528087,...   \n",
       "73   [0.007758444195355574, 0.003243444188096129, 0...   \n",
       "104                             [0.023072066123549992]   \n",
       "\n",
       "                         author_score_scaled_doctorate  ...  \\\n",
       "137                                                 []  ...   \n",
       "73   [0.0027488721355590964, 0.01129526689050642, 0...  ...   \n",
       "104  [0.016451747973504873, 0.023072066123549992, 0...  ...   \n",
       "\n",
       "    paper_score_scaled_avg_bachelors_max paper_score_scaled_avg_bachelors_var  \\\n",
       "137                                 None                                 None   \n",
       "73                                  None                                 None   \n",
       "104                                 None                                 None   \n",
       "\n",
       "    paper_score_scaled_avg_bachelors_std paper_score_scaled_avg_doctorate_sum  \\\n",
       "137                                 None                                 None   \n",
       "73                                  None                                 None   \n",
       "104                                 None                                 None   \n",
       "\n",
       "    paper_score_scaled_avg_doctorate_mean  \\\n",
       "137                                  None   \n",
       "73                                   None   \n",
       "104                                  None   \n",
       "\n",
       "    paper_score_scaled_avg_doctorate_median  \\\n",
       "137                                    None   \n",
       "73                                     None   \n",
       "104                                    None   \n",
       "\n",
       "    paper_score_scaled_avg_doctorate_min paper_score_scaled_avg_doctorate_max  \\\n",
       "137                                 None                                 None   \n",
       "73                                  None                                 None   \n",
       "104                                 None                                 None   \n",
       "\n",
       "    paper_score_scaled_avg_doctorate_var paper_score_scaled_avg_doctorate_std  \n",
       "137                                 None                                 None  \n",
       "73                                  None                                 None  \n",
       "104                                 None                                 None  \n",
       "\n",
       "[3 rows x 148 columns]"
      ]
     },
     "execution_count": 56,
     "metadata": {},
     "output_type": "execute_result"
    }
   ],
   "source": [
    "add_columns = []\n",
    "for d in combinations.keys():\n",
    "    for s in stats_columns:\n",
    "        add_columns.append(f\"{d}_{s}\")\n",
    "\n",
    "\n",
    "default_value = None\n",
    "dfadd_columns = pd.DataFrame(\n",
    "    {column_name: [default_value] * len(dfuniversity) for column_name in add_columns}\n",
    ")\n",
    "\n",
    "dfuniversity = pd.concat([dfuniversity, dfadd_columns], axis=1)\n",
    "\n",
    "dfuniversity.sample(3)"
   ]
  },
  {
   "cell_type": "code",
   "execution_count": 57,
   "id": "c60b1a7b-4f08-42bb-b0be-71a2017cf22f",
   "metadata": {
    "scrolled": true
   },
   "outputs": [
    {
     "name": "stdout",
     "output_type": "stream",
     "text": [
      "<class 'pandas.core.frame.DataFrame'>\n",
      "RangeIndex: 185 entries, 0 to 184\n",
      "Columns: 148 entries, university to paper_score_scaled_avg_doctorate_std\n",
      "dtypes: object(148)\n",
      "memory usage: 214.0+ KB\n"
     ]
    }
   ],
   "source": [
    "dfuniversity.info()"
   ]
  },
  {
   "cell_type": "code",
   "execution_count": 58,
   "id": "96e04616-b745-438a-a40b-35713ac0c79f",
   "metadata": {},
   "outputs": [],
   "source": [
    "def filter_array(data):\n",
    "    data = list(filter(lambda x: x is not None, data))\n",
    "    data = [x for x in data if not math.isnan(x)]\n",
    "    data = [x for x in data if not np.isnan(x)]\n",
    "    return data\n",
    "\n",
    "\n",
    "def variance_hander(data):\n",
    "    if len(data) <= 1:\n",
    "        return 0\n",
    "    return np.nanvar(data, ddof=1)\n",
    "\n",
    "\n",
    "def get_handler(func, data):\n",
    "    filtered_data = filter_array(data)\n",
    "    if len(filtered_data) == 0:\n",
    "        return 0.0\n",
    "    return func(filtered_data)\n",
    "\n",
    "\n",
    "def get_sum(data):\n",
    "    return get_handler(np.nansum, data)\n",
    "\n",
    "\n",
    "def get_mean(data):\n",
    "    return get_handler(np.nanmean, data)\n",
    "\n",
    "\n",
    "def get_median(data):\n",
    "    return get_handler(np.nanmedian, data)\n",
    "\n",
    "\n",
    "def get_min(data):\n",
    "    return get_handler(np.nanmin, data)\n",
    "\n",
    "\n",
    "def get_max(data):\n",
    "    return get_handler(np.nanmax, data)\n",
    "\n",
    "\n",
    "def get_var(data):\n",
    "    return get_handler(variance_hander, data)\n",
    "\n",
    "\n",
    "def get_std(data):\n",
    "    return get_handler(np.nanstd, data)"
   ]
  },
  {
   "cell_type": "code",
   "execution_count": 59,
   "id": "ea09ea75-01c7-46b4-a5a2-28a9ef5b8675",
   "metadata": {},
   "outputs": [],
   "source": [
    "stat_function_map = {\n",
    "    \"sum\": get_sum,\n",
    "    \"mean\": get_mean,\n",
    "    \"median\": get_median,\n",
    "    \"min\": get_min,\n",
    "    \"max\": get_max,\n",
    "    \"var\": get_var,\n",
    "    \"std\": get_std,\n",
    "}"
   ]
  },
  {
   "cell_type": "code",
   "execution_count": 60,
   "id": "1d346aa1-a0df-405a-a7a2-a63162952932",
   "metadata": {
    "scrolled": true
   },
   "outputs": [
    {
     "name": "stderr",
     "output_type": "stream",
     "text": [
      "Data Types: 100%|██████████| 18/18 [00:04<00:00,  3.63item/s]\n"
     ]
    }
   ],
   "source": [
    "count = 0\n",
    "for data in tqdm(\n",
    "    combinations.keys(), desc=\"Data Types\", unit=\"item\", total=len(combinations.keys())\n",
    "):\n",
    "    for stat in stats_columns:\n",
    "        stat_name = data + \"_\" + stat\n",
    "        for index, row in dfuniversity.iterrows():\n",
    "            values = row[data]\n",
    "            dfuniversity.at[index, stat_name] = stat_function_map[stat](values)\n",
    "\n",
    "        sum_column = dfuniversity[stat_name].sum(skipna=True)\n",
    "        dfuniversity[stat_name] = dfuniversity[stat_name].apply(\n",
    "            lambda x: x / sum_column\n",
    "            if (pd.notna(x) or x == 0.0)\n",
    "            else sum_column / len(dfuniversity)\n",
    "        )"
   ]
  },
  {
   "cell_type": "code",
   "execution_count": 61,
   "id": "152827e1-0a78-4280-8d80-a632a8f0e0fa",
   "metadata": {
    "tags": []
   },
   "outputs": [],
   "source": [
    "def rewrite_stats_file(file_path):\n",
    "    with open(file_path, \"w\") as file:\n",
    "        file.write(f\"stat,weight\\n\")\n",
    "        for i, item in enumerate(add_columns):\n",
    "            file.write(f\"{str(item)},\")\n",
    "            if i < len(add_columns) - 1:\n",
    "                file.write(\"\\n\")\n",
    "\n",
    "\n",
    "# rewrite_stats_file(\"data/statistics.csv\")"
   ]
  },
  {
   "cell_type": "markdown",
   "id": "65e20a9c-90f4-4dc6-9951-081962e8a567",
   "metadata": {},
   "source": [
    "# Final Rank\n",
    "Here I take some weights I made manually and assign importance to each of the stats on a 1-5 scale. Then I can compute a final rank and see the colleges.\n",
    "\n",
    "Also, just for fun I can see who my top profs are as well."
   ]
  },
  {
   "cell_type": "code",
   "execution_count": 80,
   "id": "bd4e66d9-0513-4084-98a1-8d01cbb83440",
   "metadata": {},
   "outputs": [
    {
     "name": "stderr",
     "output_type": "stream",
     "text": [
      "Final Score: 100%|██████████| 185/185 [00:02<00:00, 85.17item/s]\n"
     ]
    }
   ],
   "source": [
    "dfuniversity[\"final_array\"] = inner_arrays\n",
    "dfuniversity[\"final_score\"] = np.nan\n",
    "\n",
    "for index, row_uni in tqdm(\n",
    "    dfuniversity.iterrows(), desc=\"Final Score\", unit=\"item\", total=len(dfuniversity)\n",
    "):\n",
    "    scores = []\n",
    "    for _, row_stat in dfstatistics.iterrows():\n",
    "        statistic = row_stat[\"stat\"]\n",
    "        weight = row_stat[\"weight\"]\n",
    "        if not np.isnan(weight):\n",
    "            partial_score = row_uni[statistic] * float(weight) * 0.2\n",
    "            scores.append(partial_score)\n",
    "        else:\n",
    "            scores.append(0.0)\n",
    "    dfuniversity.at[index, \"final_array\"] = scores\n",
    "    scores = list(filter(lambda x: x != 0.0, scores))\n",
    "    score = sum(scores) / len(scores) if scores else 0.0\n",
    "    dfuniversity.at[index, \"final_score\"] = score"
   ]
  },
  {
   "cell_type": "code",
   "execution_count": 81,
   "id": "2aa38718-18d4-4e7e-a87a-52dc9e8e5fa4",
   "metadata": {},
   "outputs": [
    {
     "data": {
      "text/html": [
       "<div>\n",
       "<style scoped>\n",
       "    .dataframe tbody tr th:only-of-type {\n",
       "        vertical-align: middle;\n",
       "    }\n",
       "\n",
       "    .dataframe tbody tr th {\n",
       "        vertical-align: top;\n",
       "    }\n",
       "\n",
       "    .dataframe thead th {\n",
       "        text-align: right;\n",
       "    }\n",
       "</style>\n",
       "<table border=\"1\" class=\"dataframe\">\n",
       "  <thead>\n",
       "    <tr style=\"text-align: right;\">\n",
       "      <th></th>\n",
       "      <th>university</th>\n",
       "      <th>professors</th>\n",
       "      <th>bachelors</th>\n",
       "      <th>doctorate</th>\n",
       "      <th>author_score_professors</th>\n",
       "      <th>author_score_bachelors</th>\n",
       "      <th>author_score_doctorate</th>\n",
       "      <th>author_score_scaled_professors</th>\n",
       "      <th>author_score_scaled_bachelors</th>\n",
       "      <th>author_score_scaled_doctorate</th>\n",
       "      <th>...</th>\n",
       "      <th>paper_score_scaled_avg_bachelors_std</th>\n",
       "      <th>paper_score_scaled_avg_doctorate_sum</th>\n",
       "      <th>paper_score_scaled_avg_doctorate_mean</th>\n",
       "      <th>paper_score_scaled_avg_doctorate_median</th>\n",
       "      <th>paper_score_scaled_avg_doctorate_min</th>\n",
       "      <th>paper_score_scaled_avg_doctorate_max</th>\n",
       "      <th>paper_score_scaled_avg_doctorate_var</th>\n",
       "      <th>paper_score_scaled_avg_doctorate_std</th>\n",
       "      <th>final_array</th>\n",
       "      <th>final_score</th>\n",
       "    </tr>\n",
       "  </thead>\n",
       "  <tbody>\n",
       "    <tr>\n",
       "      <th>11</th>\n",
       "      <td>Carnegie Mellon University</td>\n",
       "      <td>[Aarti Singh, Abhinav Gupta 0001, Alan M. Frie...</td>\n",
       "      <td>[Adam Chlipala, Adam Wierman, Alan L. Cox, Amy...</td>\n",
       "      <td>[Aaron C. Courville, Aarti Gupta, Abhinav Shri...</td>\n",
       "      <td>[7.495669736789303, 35.48159089255236, 37.0925...</td>\n",
       "      <td>[17.794084473461275, 10.221338636427244, 10.88...</td>\n",
       "      <td>[16.363269303720102, 16.209851394003906, 10.63...</td>\n",
       "      <td>[0.0023523690151653932, 0.01640452635754125, 0...</td>\n",
       "      <td>[0.04173350235612061, 0.019816286820570767, 0....</td>\n",
       "      <td>[0.010820034181411285, 0.02809384683776213, 0....</td>\n",
       "      <td>...</td>\n",
       "      <td>0.019559</td>\n",
       "      <td>0.133152</td>\n",
       "      <td>0.018244</td>\n",
       "      <td>0.0</td>\n",
       "      <td>0.0</td>\n",
       "      <td>0.018014</td>\n",
       "      <td>0.022434</td>\n",
       "      <td>0.022738</td>\n",
       "      <td>[0.02176167566973541, 0.0, 0.0, 0.0, 0.0042777...</td>\n",
       "      <td>0.034879</td>\n",
       "    </tr>\n",
       "    <tr>\n",
       "      <th>76</th>\n",
       "      <td>Stanford University</td>\n",
       "      <td>[Aaron Sidford, Alexander Aiken, Anshul Kundaj...</td>\n",
       "      <td>[Abe Davis, Alan J. Hu, Alvin Cheung, Andrew C...</td>\n",
       "      <td>[Aaron Stump, Adam Belay, Aditya G. Parameswar...</td>\n",
       "      <td>[15.02025624529837, 35.54670642244019, 1.69454...</td>\n",
       "      <td>[2.437684577358209, 10.769116231332792, 8.0876...</td>\n",
       "      <td>[1.8074169876576829, 2.0743199057136525, 13.11...</td>\n",
       "      <td>[0.0049212410483450006, 0.06524383016301472, 0...</td>\n",
       "      <td>[0.0027859031738970757, 0.01896773370244168, 0...</td>\n",
       "      <td>[0.003537488992078679, 0.007857115377774797, 0...</td>\n",
       "      <td>...</td>\n",
       "      <td>0.018999</td>\n",
       "      <td>0.112073</td>\n",
       "      <td>0.017965</td>\n",
       "      <td>0.0</td>\n",
       "      <td>0.0</td>\n",
       "      <td>0.018355</td>\n",
       "      <td>0.022099</td>\n",
       "      <td>0.022559</td>\n",
       "      <td>[0.011559297139425955, 0.0, 0.0, 0.0, 0.002868...</td>\n",
       "      <td>0.028381</td>\n",
       "    </tr>\n",
       "    <tr>\n",
       "      <th>45</th>\n",
       "      <td>Massachusetts Institute of Technology</td>\n",
       "      <td>[Adam Belay, Adam Chlipala, Alan S. Willsky, A...</td>\n",
       "      <td>[Al Davis, Aleksandra Korolova, Ali José Masht...</td>\n",
       "      <td>[Aaron Sidford, Abe Davis, Abhi Shelat, Adam D...</td>\n",
       "      <td>[2.0743199057136525, 17.794084473461275, 10.01...</td>\n",
       "      <td>[4.839140830537145, 2.2228809626730164, 2.0926...</td>\n",
       "      <td>[15.02025624529837, 2.437684577358209, 14.5295...</td>\n",
       "      <td>[0.007857115377774797, 0.04173350235612061, 0....</td>\n",
       "      <td>[0.008440165620591649, 0.0029941047537538987, ...</td>\n",
       "      <td>[0.0049212410483450006, 0.0027859031738970757,...</td>\n",
       "      <td>...</td>\n",
       "      <td>0.016292</td>\n",
       "      <td>0.134114</td>\n",
       "      <td>0.014520</td>\n",
       "      <td>0.0</td>\n",
       "      <td>0.0</td>\n",
       "      <td>0.018111</td>\n",
       "      <td>0.018364</td>\n",
       "      <td>0.020581</td>\n",
       "      <td>[0.014105829981101756, 0.0, 0.0, 0.0, 0.003622...</td>\n",
       "      <td>0.026924</td>\n",
       "    </tr>\n",
       "    <tr>\n",
       "      <th>89</th>\n",
       "      <td>Univ. of California - Berkeley</td>\n",
       "      <td>[Aditya G. Parameswaran, Alberto L. Sangiovann...</td>\n",
       "      <td>[]</td>\n",
       "      <td>[]</td>\n",
       "      <td>[13.110848793332744, 42.830826721045824, 2.590...</td>\n",
       "      <td>[]</td>\n",
       "      <td>[]</td>\n",
       "      <td>[0.007201208057755006, 0.09018401491202524, 0....</td>\n",
       "      <td>[]</td>\n",
       "      <td>[]</td>\n",
       "      <td>...</td>\n",
       "      <td>0.000000</td>\n",
       "      <td>0.000000</td>\n",
       "      <td>0.000000</td>\n",
       "      <td>0.0</td>\n",
       "      <td>0.0</td>\n",
       "      <td>0.000000</td>\n",
       "      <td>0.000000</td>\n",
       "      <td>0.000000</td>\n",
       "      <td>[0.013605458450634017, 0.0, 0.0, 0.0, 0.003389...</td>\n",
       "      <td>0.026611</td>\n",
       "    </tr>\n",
       "    <tr>\n",
       "      <th>169</th>\n",
       "      <td>University of Washington</td>\n",
       "      <td>[Abhishek Gupta, Adriana Schulz, Alan Borning,...</td>\n",
       "      <td>[Alanson P. Sample, Amit A. Levy, Emma Brunski...</td>\n",
       "      <td>[Adam Finkelstein, Adrian Sampson, Alan Ritter...</td>\n",
       "      <td>[1.4226146029242417, 1.5565551721784652, 8.126...</td>\n",
       "      <td>[2.993523543180013, 1.7984777680144832, 15.218...</td>\n",
       "      <td>[9.740836242698691, 2.8706979928756002, 8.1401...</td>\n",
       "      <td>[0.0012470241647356754, 0.002415904893347644, ...</td>\n",
       "      <td>[0.004507427263799344, 0.00594863658676706, 0....</td>\n",
       "      <td>[0.012166849186375927, 0.006748081728920419, 0...</td>\n",
       "      <td>...</td>\n",
       "      <td>0.018066</td>\n",
       "      <td>0.083173</td>\n",
       "      <td>0.027742</td>\n",
       "      <td>0.0</td>\n",
       "      <td>0.0</td>\n",
       "      <td>0.018009</td>\n",
       "      <td>0.030376</td>\n",
       "      <td>0.026379</td>\n",
       "      <td>[0.00901639443797794, 0.0, 0.0, 0.0, 0.0023013...</td>\n",
       "      <td>0.023543</td>\n",
       "    </tr>\n",
       "  </tbody>\n",
       "</table>\n",
       "<p>5 rows × 150 columns</p>\n",
       "</div>"
      ],
      "text/plain": [
       "                                university  \\\n",
       "11              Carnegie Mellon University   \n",
       "76                     Stanford University   \n",
       "45   Massachusetts Institute of Technology   \n",
       "89          Univ. of California - Berkeley   \n",
       "169               University of Washington   \n",
       "\n",
       "                                            professors  \\\n",
       "11   [Aarti Singh, Abhinav Gupta 0001, Alan M. Frie...   \n",
       "76   [Aaron Sidford, Alexander Aiken, Anshul Kundaj...   \n",
       "45   [Adam Belay, Adam Chlipala, Alan S. Willsky, A...   \n",
       "89   [Aditya G. Parameswaran, Alberto L. Sangiovann...   \n",
       "169  [Abhishek Gupta, Adriana Schulz, Alan Borning,...   \n",
       "\n",
       "                                             bachelors  \\\n",
       "11   [Adam Chlipala, Adam Wierman, Alan L. Cox, Amy...   \n",
       "76   [Abe Davis, Alan J. Hu, Alvin Cheung, Andrew C...   \n",
       "45   [Al Davis, Aleksandra Korolova, Ali José Masht...   \n",
       "89                                                  []   \n",
       "169  [Alanson P. Sample, Amit A. Levy, Emma Brunski...   \n",
       "\n",
       "                                             doctorate  \\\n",
       "11   [Aaron C. Courville, Aarti Gupta, Abhinav Shri...   \n",
       "76   [Aaron Stump, Adam Belay, Aditya G. Parameswar...   \n",
       "45   [Aaron Sidford, Abe Davis, Abhi Shelat, Adam D...   \n",
       "89                                                  []   \n",
       "169  [Adam Finkelstein, Adrian Sampson, Alan Ritter...   \n",
       "\n",
       "                               author_score_professors  \\\n",
       "11   [7.495669736789303, 35.48159089255236, 37.0925...   \n",
       "76   [15.02025624529837, 35.54670642244019, 1.69454...   \n",
       "45   [2.0743199057136525, 17.794084473461275, 10.01...   \n",
       "89   [13.110848793332744, 42.830826721045824, 2.590...   \n",
       "169  [1.4226146029242417, 1.5565551721784652, 8.126...   \n",
       "\n",
       "                                author_score_bachelors  \\\n",
       "11   [17.794084473461275, 10.221338636427244, 10.88...   \n",
       "76   [2.437684577358209, 10.769116231332792, 8.0876...   \n",
       "45   [4.839140830537145, 2.2228809626730164, 2.0926...   \n",
       "89                                                  []   \n",
       "169  [2.993523543180013, 1.7984777680144832, 15.218...   \n",
       "\n",
       "                                author_score_doctorate  \\\n",
       "11   [16.363269303720102, 16.209851394003906, 10.63...   \n",
       "76   [1.8074169876576829, 2.0743199057136525, 13.11...   \n",
       "45   [15.02025624529837, 2.437684577358209, 14.5295...   \n",
       "89                                                  []   \n",
       "169  [9.740836242698691, 2.8706979928756002, 8.1401...   \n",
       "\n",
       "                        author_score_scaled_professors  \\\n",
       "11   [0.0023523690151653932, 0.01640452635754125, 0...   \n",
       "76   [0.0049212410483450006, 0.06524383016301472, 0...   \n",
       "45   [0.007857115377774797, 0.04173350235612061, 0....   \n",
       "89   [0.007201208057755006, 0.09018401491202524, 0....   \n",
       "169  [0.0012470241647356754, 0.002415904893347644, ...   \n",
       "\n",
       "                         author_score_scaled_bachelors  \\\n",
       "11   [0.04173350235612061, 0.019816286820570767, 0....   \n",
       "76   [0.0027859031738970757, 0.01896773370244168, 0...   \n",
       "45   [0.008440165620591649, 0.0029941047537538987, ...   \n",
       "89                                                  []   \n",
       "169  [0.004507427263799344, 0.00594863658676706, 0....   \n",
       "\n",
       "                         author_score_scaled_doctorate  ...  \\\n",
       "11   [0.010820034181411285, 0.02809384683776213, 0....  ...   \n",
       "76   [0.003537488992078679, 0.007857115377774797, 0...  ...   \n",
       "45   [0.0049212410483450006, 0.0027859031738970757,...  ...   \n",
       "89                                                  []  ...   \n",
       "169  [0.012166849186375927, 0.006748081728920419, 0...  ...   \n",
       "\n",
       "    paper_score_scaled_avg_bachelors_std paper_score_scaled_avg_doctorate_sum  \\\n",
       "11                              0.019559                             0.133152   \n",
       "76                              0.018999                             0.112073   \n",
       "45                              0.016292                             0.134114   \n",
       "89                              0.000000                             0.000000   \n",
       "169                             0.018066                             0.083173   \n",
       "\n",
       "    paper_score_scaled_avg_doctorate_mean  \\\n",
       "11                               0.018244   \n",
       "76                               0.017965   \n",
       "45                               0.014520   \n",
       "89                               0.000000   \n",
       "169                              0.027742   \n",
       "\n",
       "    paper_score_scaled_avg_doctorate_median  \\\n",
       "11                                      0.0   \n",
       "76                                      0.0   \n",
       "45                                      0.0   \n",
       "89                                      0.0   \n",
       "169                                     0.0   \n",
       "\n",
       "    paper_score_scaled_avg_doctorate_min paper_score_scaled_avg_doctorate_max  \\\n",
       "11                                   0.0                             0.018014   \n",
       "76                                   0.0                             0.018355   \n",
       "45                                   0.0                             0.018111   \n",
       "89                                   0.0                             0.000000   \n",
       "169                                  0.0                             0.018009   \n",
       "\n",
       "    paper_score_scaled_avg_doctorate_var paper_score_scaled_avg_doctorate_std  \\\n",
       "11                              0.022434                             0.022738   \n",
       "76                              0.022099                             0.022559   \n",
       "45                              0.018364                             0.020581   \n",
       "89                              0.000000                             0.000000   \n",
       "169                             0.030376                             0.026379   \n",
       "\n",
       "                                           final_array final_score  \n",
       "11   [0.02176167566973541, 0.0, 0.0, 0.0, 0.0042777...    0.034879  \n",
       "76   [0.011559297139425955, 0.0, 0.0, 0.0, 0.002868...    0.028381  \n",
       "45   [0.014105829981101756, 0.0, 0.0, 0.0, 0.003622...    0.026924  \n",
       "89   [0.013605458450634017, 0.0, 0.0, 0.0, 0.003389...    0.026611  \n",
       "169  [0.00901639443797794, 0.0, 0.0, 0.0, 0.0023013...    0.023543  \n",
       "\n",
       "[5 rows x 150 columns]"
      ]
     },
     "execution_count": 81,
     "metadata": {},
     "output_type": "execute_result"
    }
   ],
   "source": [
    "final_results = dfuniversity.sort_values(\"final_score\", ascending=False)\n",
    "final_results.head(5)"
   ]
  },
  {
   "cell_type": "code",
   "execution_count": 82,
   "id": "6c4bff78-1a95-448a-918b-7020c9da4d80",
   "metadata": {
    "tags": []
   },
   "outputs": [
    {
     "data": {
      "text/html": [
       "<div>\n",
       "<style scoped>\n",
       "    .dataframe tbody tr th:only-of-type {\n",
       "        vertical-align: middle;\n",
       "    }\n",
       "\n",
       "    .dataframe tbody tr th {\n",
       "        vertical-align: top;\n",
       "    }\n",
       "\n",
       "    .dataframe thead th {\n",
       "        text-align: right;\n",
       "    }\n",
       "</style>\n",
       "<table border=\"1\" class=\"dataframe\">\n",
       "  <thead>\n",
       "    <tr style=\"text-align: right;\">\n",
       "      <th></th>\n",
       "      <th>index</th>\n",
       "      <th>university</th>\n",
       "      <th>final_score</th>\n",
       "    </tr>\n",
       "  </thead>\n",
       "  <tbody>\n",
       "    <tr>\n",
       "      <th>0</th>\n",
       "      <td>11</td>\n",
       "      <td>Carnegie Mellon University</td>\n",
       "      <td>0.034879</td>\n",
       "    </tr>\n",
       "    <tr>\n",
       "      <th>1</th>\n",
       "      <td>76</td>\n",
       "      <td>Stanford University</td>\n",
       "      <td>0.028381</td>\n",
       "    </tr>\n",
       "    <tr>\n",
       "      <th>2</th>\n",
       "      <td>45</td>\n",
       "      <td>Massachusetts Institute of Technology</td>\n",
       "      <td>0.026924</td>\n",
       "    </tr>\n",
       "    <tr>\n",
       "      <th>3</th>\n",
       "      <td>89</td>\n",
       "      <td>Univ. of California - Berkeley</td>\n",
       "      <td>0.026611</td>\n",
       "    </tr>\n",
       "    <tr>\n",
       "      <th>4</th>\n",
       "      <td>169</td>\n",
       "      <td>University of Washington</td>\n",
       "      <td>0.023543</td>\n",
       "    </tr>\n",
       "    <tr>\n",
       "      <th>5</th>\n",
       "      <td>95</td>\n",
       "      <td>Univ. of California - San Diego</td>\n",
       "      <td>0.022270</td>\n",
       "    </tr>\n",
       "    <tr>\n",
       "      <th>6</th>\n",
       "      <td>98</td>\n",
       "      <td>Univ. of Illinois at Urbana-Champaign</td>\n",
       "      <td>0.020136</td>\n",
       "    </tr>\n",
       "    <tr>\n",
       "      <th>7</th>\n",
       "      <td>171</td>\n",
       "      <td>University of Wisconsin - Madison</td>\n",
       "      <td>0.018206</td>\n",
       "    </tr>\n",
       "    <tr>\n",
       "      <th>8</th>\n",
       "      <td>21</td>\n",
       "      <td>Cornell University</td>\n",
       "      <td>0.017878</td>\n",
       "    </tr>\n",
       "    <tr>\n",
       "      <th>9</th>\n",
       "      <td>133</td>\n",
       "      <td>University of Michigan</td>\n",
       "      <td>0.017192</td>\n",
       "    </tr>\n",
       "    <tr>\n",
       "      <th>10</th>\n",
       "      <td>165</td>\n",
       "      <td>University of Toronto</td>\n",
       "      <td>0.016922</td>\n",
       "    </tr>\n",
       "    <tr>\n",
       "      <th>11</th>\n",
       "      <td>32</td>\n",
       "      <td>Georgia Institute of Technology</td>\n",
       "      <td>0.014461</td>\n",
       "    </tr>\n",
       "    <tr>\n",
       "      <th>12</th>\n",
       "      <td>91</td>\n",
       "      <td>Univ. of California - Irvine</td>\n",
       "      <td>0.012269</td>\n",
       "    </tr>\n",
       "    <tr>\n",
       "      <th>13</th>\n",
       "      <td>92</td>\n",
       "      <td>Univ. of California - Los Angeles</td>\n",
       "      <td>0.012219</td>\n",
       "    </tr>\n",
       "    <tr>\n",
       "      <th>14</th>\n",
       "      <td>162</td>\n",
       "      <td>University of Texas at Austin</td>\n",
       "      <td>0.012100</td>\n",
       "    </tr>\n",
       "    <tr>\n",
       "      <th>15</th>\n",
       "      <td>128</td>\n",
       "      <td>University of Massachusetts Amherst</td>\n",
       "      <td>0.012029</td>\n",
       "    </tr>\n",
       "    <tr>\n",
       "      <th>16</th>\n",
       "      <td>127</td>\n",
       "      <td>University of Maryland - College Park</td>\n",
       "      <td>0.012024</td>\n",
       "    </tr>\n",
       "    <tr>\n",
       "      <th>17</th>\n",
       "      <td>20</td>\n",
       "      <td>Columbia University</td>\n",
       "      <td>0.011715</td>\n",
       "    </tr>\n",
       "    <tr>\n",
       "      <th>18</th>\n",
       "      <td>68</td>\n",
       "      <td>Princeton University</td>\n",
       "      <td>0.011326</td>\n",
       "    </tr>\n",
       "    <tr>\n",
       "      <th>19</th>\n",
       "      <td>152</td>\n",
       "      <td>University of Pennsylvania</td>\n",
       "      <td>0.011239</td>\n",
       "    </tr>\n",
       "    <tr>\n",
       "      <th>20</th>\n",
       "      <td>56</td>\n",
       "      <td>New York University</td>\n",
       "      <td>0.009743</td>\n",
       "    </tr>\n",
       "    <tr>\n",
       "      <th>21</th>\n",
       "      <td>69</td>\n",
       "      <td>Purdue University</td>\n",
       "      <td>0.009173</td>\n",
       "    </tr>\n",
       "    <tr>\n",
       "      <th>22</th>\n",
       "      <td>170</td>\n",
       "      <td>University of Waterloo</td>\n",
       "      <td>0.008938</td>\n",
       "    </tr>\n",
       "    <tr>\n",
       "      <th>23</th>\n",
       "      <td>96</td>\n",
       "      <td>Univ. of California - Santa Barbara</td>\n",
       "      <td>0.008824</td>\n",
       "    </tr>\n",
       "    <tr>\n",
       "      <th>24</th>\n",
       "      <td>59</td>\n",
       "      <td>Northeastern University</td>\n",
       "      <td>0.008386</td>\n",
       "    </tr>\n",
       "    <tr>\n",
       "      <th>25</th>\n",
       "      <td>108</td>\n",
       "      <td>University of British Columbia</td>\n",
       "      <td>0.008351</td>\n",
       "    </tr>\n",
       "    <tr>\n",
       "      <th>26</th>\n",
       "      <td>157</td>\n",
       "      <td>University of Southern California</td>\n",
       "      <td>0.008344</td>\n",
       "    </tr>\n",
       "    <tr>\n",
       "      <th>27</th>\n",
       "      <td>73</td>\n",
       "      <td>Rutgers University</td>\n",
       "      <td>0.008074</td>\n",
       "    </tr>\n",
       "    <tr>\n",
       "      <th>28</th>\n",
       "      <td>94</td>\n",
       "      <td>Univ. of California - Riverside</td>\n",
       "      <td>0.007560</td>\n",
       "    </tr>\n",
       "    <tr>\n",
       "      <th>29</th>\n",
       "      <td>34</td>\n",
       "      <td>Harvard University</td>\n",
       "      <td>0.007416</td>\n",
       "    </tr>\n",
       "  </tbody>\n",
       "</table>\n",
       "</div>"
      ],
      "text/plain": [
       "    index                             university  final_score\n",
       "0      11             Carnegie Mellon University     0.034879\n",
       "1      76                    Stanford University     0.028381\n",
       "2      45  Massachusetts Institute of Technology     0.026924\n",
       "3      89         Univ. of California - Berkeley     0.026611\n",
       "4     169               University of Washington     0.023543\n",
       "5      95        Univ. of California - San Diego     0.022270\n",
       "6      98  Univ. of Illinois at Urbana-Champaign     0.020136\n",
       "7     171      University of Wisconsin - Madison     0.018206\n",
       "8      21                     Cornell University     0.017878\n",
       "9     133                 University of Michigan     0.017192\n",
       "10    165                  University of Toronto     0.016922\n",
       "11     32        Georgia Institute of Technology     0.014461\n",
       "12     91           Univ. of California - Irvine     0.012269\n",
       "13     92      Univ. of California - Los Angeles     0.012219\n",
       "14    162          University of Texas at Austin     0.012100\n",
       "15    128    University of Massachusetts Amherst     0.012029\n",
       "16    127  University of Maryland - College Park     0.012024\n",
       "17     20                    Columbia University     0.011715\n",
       "18     68                   Princeton University     0.011326\n",
       "19    152             University of Pennsylvania     0.011239\n",
       "20     56                    New York University     0.009743\n",
       "21     69                      Purdue University     0.009173\n",
       "22    170                 University of Waterloo     0.008938\n",
       "23     96    Univ. of California - Santa Barbara     0.008824\n",
       "24     59                Northeastern University     0.008386\n",
       "25    108         University of British Columbia     0.008351\n",
       "26    157      University of Southern California     0.008344\n",
       "27     73                     Rutgers University     0.008074\n",
       "28     94        Univ. of California - Riverside     0.007560\n",
       "29     34                     Harvard University     0.007416"
      ]
     },
     "execution_count": 82,
     "metadata": {},
     "output_type": "execute_result"
    }
   ],
   "source": [
    "number_of_results = 30\n",
    "\n",
    "final_results.head(number_of_results)[\n",
    "    [\n",
    "        \"university\",\n",
    "        \"final_score\",\n",
    "    ]\n",
    "].reset_index()"
   ]
  },
  {
   "cell_type": "code",
   "execution_count": 83,
   "id": "57cf4b1c-ad0b-4772-820b-19203b9ebf64",
   "metadata": {
    "tags": []
   },
   "outputs": [],
   "source": [
    "def get_signed_lists(data, labels):\n",
    "    pos_val = []\n",
    "    pos_label = []\n",
    "    neg_val = []\n",
    "    neg_label = []\n",
    "    for i in range(len(data)):\n",
    "        if data[i] > 0:\n",
    "            pos_val.append(data[i])\n",
    "            pos_label.append(labels[i])\n",
    "        if data[i] < 0:\n",
    "            neg_val.append(data[i] * -1)\n",
    "            neg_label.append(labels[i])\n",
    "    return pos_val, pos_label, neg_val, neg_label"
   ]
  },
  {
   "cell_type": "code",
   "execution_count": 84,
   "id": "7879f34a-965d-41cf-b7c7-2b74d3cf6278",
   "metadata": {
    "tags": []
   },
   "outputs": [
    {
     "data": {
      "application/vnd.plotly.v1+json": {
       "config": {
        "plotlyServerURL": "https://plot.ly"
       },
       "data": [
        {
         "domain": {
          "x": [
           0,
           0.082
          ],
          "y": [
           0.9027777777777777,
           0.9999999999999999
          ]
         },
         "hole": 0.4,
         "hoverinfo": "label+percent",
         "labels": [
          "author_score_professors_sum",
          "author_score_professors_max",
          "author_score_scaled_professors_sum",
          "author_score_scaled_professors_mean",
          "author_score_scaled_doctorate_max",
          "author_score_scaled_avg_professors_sum",
          "author_score_scaled_avg_professors_max",
          "author_score_scaled_avg_professors_std",
          "author_score_scaled_avg_doctorate_sum",
          "author_score_scaled_avg_doctorate_mean",
          "paper_score_professors_sum",
          "paper_score_doctorate_max",
          "paper_score_scaled_professors_sum",
          "paper_score_scaled_doctorate_sum",
          "paper_score_scaled_avg_professors_sum"
         ],
         "textinfo": "none",
         "type": "pie",
         "values": [
          0.02176167566973541,
          0.004277795986942349,
          0.22370826155363677,
          0.006233599830257692,
          0.007085537072921923,
          0.039371588679636804,
          0.004428953445249321,
          0.002822713017964766,
          0.01743047379860899,
          0.0018570877677345995,
          0.03312251571891605,
          0.008335876544799564,
          0.13619027633051325,
          0.01969248810427276,
          0.0354331790016728
         ]
        },
        {
         "domain": {
          "x": [
           0.10200000000000001,
           0.184
          ],
          "y": [
           0.9027777777777777,
           0.9999999999999999
          ]
         },
         "hole": 0.4,
         "hoverinfo": "label+percent",
         "labels": [
          "author_score_scaled_professors_var"
         ],
         "textinfo": "none",
         "type": "pie",
         "values": [
          0.0036908794743356708
         ]
        },
        {
         "domain": {
          "x": [
           0.20400000000000001,
           0.28600000000000003
          ],
          "y": [
           0.9027777777777777,
           0.9999999999999999
          ]
         },
         "hole": 0.4,
         "hoverinfo": "label+percent",
         "labels": [
          "author_score_professors_sum",
          "author_score_professors_max",
          "author_score_scaled_professors_sum",
          "author_score_scaled_professors_mean",
          "author_score_scaled_doctorate_max",
          "author_score_scaled_avg_professors_sum",
          "author_score_scaled_avg_professors_max",
          "author_score_scaled_avg_professors_std",
          "author_score_scaled_avg_doctorate_sum",
          "author_score_scaled_avg_doctorate_mean",
          "paper_score_professors_sum",
          "paper_score_doctorate_max",
          "paper_score_scaled_professors_sum",
          "paper_score_scaled_doctorate_sum",
          "paper_score_scaled_avg_professors_sum"
         ],
         "textinfo": "none",
         "type": "pie",
         "values": [
          0.011559297139425955,
          0.0028685902622868097,
          0.1387594674369508,
          0.006081921089606805,
          0.006276114277562989,
          0.014920386286987218,
          0.004347072651886287,
          0.0027130870136355153,
          0.015028112255082757,
          0.0018731712768048352,
          0.033135377870806365,
          0.007544834717146501,
          0.16154988043908733,
          0.02136886464120002,
          0.03132418917671009
         ]
        },
        {
         "domain": {
          "x": [
           0.306,
           0.388
          ],
          "y": [
           0.9027777777777777,
           0.9999999999999999
          ]
         },
         "hole": 0.4,
         "hoverinfo": "label+percent",
         "labels": [
          "author_score_scaled_professors_var"
         ],
         "textinfo": "none",
         "type": "pie",
         "values": [
          0.005261185633468657
         ]
        },
        {
         "domain": {
          "x": [
           0.40800000000000003,
           0.49000000000000005
          ],
          "y": [
           0.9027777777777777,
           0.9999999999999999
          ]
         },
         "hole": 0.4,
         "hoverinfo": "label+percent",
         "labels": [
          "author_score_professors_sum",
          "author_score_professors_max",
          "author_score_scaled_professors_sum",
          "author_score_scaled_professors_mean",
          "author_score_scaled_doctorate_max",
          "author_score_scaled_avg_professors_sum",
          "author_score_scaled_avg_professors_max",
          "author_score_scaled_avg_professors_std",
          "author_score_scaled_avg_doctorate_sum",
          "author_score_scaled_avg_doctorate_mean",
          "paper_score_professors_sum",
          "paper_score_doctorate_max",
          "paper_score_scaled_professors_sum",
          "paper_score_scaled_doctorate_sum",
          "paper_score_scaled_avg_professors_sum"
         ],
         "textinfo": "none",
         "type": "pie",
         "values": [
          0.014105829981101756,
          0.0036220430129799406,
          0.16673361583778534,
          0.007078474736733388,
          0.0046868675017908805,
          0.022713033544096164,
          0.004468036194641498,
          0.002837139943292918,
          0.022217401484137672,
          0.0018703965957824102,
          0.02546013272153922,
          0.00876057492052459,
          0.1064529755597583,
          0.0235724614965078,
          0.022821603650537765
         ]
        },
        {
         "domain": {
          "x": [
           0.51,
           0.592
          ],
          "y": [
           0.9027777777777777,
           0.9999999999999999
          ]
         },
         "hole": 0.4,
         "hoverinfo": "label+percent",
         "labels": [
          "author_score_scaled_professors_var"
         ],
         "textinfo": "none",
         "type": "pie",
         "values": [
          0.006612373089021699
         ]
        },
        {
         "domain": {
          "x": [
           0.6120000000000001,
           0.6940000000000001
          ],
          "y": [
           0.9027777777777777,
           0.9999999999999999
          ]
         },
         "hole": 0.4,
         "hoverinfo": "label+percent",
         "labels": [
          "author_score_professors_sum",
          "author_score_professors_max",
          "author_score_scaled_professors_sum",
          "author_score_scaled_professors_mean",
          "author_score_scaled_avg_professors_sum",
          "author_score_scaled_avg_professors_max",
          "author_score_scaled_avg_professors_std",
          "paper_score_professors_sum",
          "paper_score_scaled_professors_sum",
          "paper_score_scaled_avg_professors_sum"
         ],
         "textinfo": "none",
         "type": "pie",
         "values": [
          0.013605458450634017,
          0.0033896114545729442,
          0.14496548362759443,
          0.00778462231047265,
          0.021111505825901832,
          0.004448245021793991,
          0.002747407525263971,
          0.019059829413246923,
          0.06746895888405602,
          0.015687457490569875
         ]
        },
        {
         "domain": {
          "x": [
           0.7140000000000001,
           0.796
          ],
          "y": [
           0.9027777777777777,
           0.9999999999999999
          ]
         },
         "hole": 0.4,
         "hoverinfo": "label+percent",
         "labels": [
          "author_score_scaled_professors_var"
         ],
         "textinfo": "none",
         "type": "pie",
         "values": [
          0.007546957149848882
         ]
        },
        {
         "domain": {
          "x": [
           0.8160000000000001,
           0.898
          ],
          "y": [
           0.9027777777777777,
           0.9999999999999999
          ]
         },
         "hole": 0.4,
         "hoverinfo": "label+percent",
         "labels": [
          "author_score_professors_sum",
          "author_score_professors_max",
          "author_score_scaled_professors_sum",
          "author_score_scaled_professors_mean",
          "author_score_scaled_doctorate_max",
          "author_score_scaled_avg_professors_sum",
          "author_score_scaled_avg_professors_max",
          "author_score_scaled_avg_professors_std",
          "author_score_scaled_avg_doctorate_sum",
          "author_score_scaled_avg_doctorate_mean",
          "paper_score_professors_sum",
          "paper_score_doctorate_max",
          "paper_score_scaled_professors_sum",
          "paper_score_scaled_doctorate_sum",
          "paper_score_scaled_avg_professors_sum"
         ],
         "textinfo": "none",
         "type": "pie",
         "values": [
          0.00901639443797794,
          0.002301327089500534,
          0.10678722150733547,
          0.004373246745571557,
          0.005272326383009749,
          0.01786114427640862,
          0.004448224438253072,
          0.002844103924328578,
          0.007025714977096787,
          0.0018221981951789847,
          0.036776170725519336,
          0.01085419403988593,
          0.12641008106830495,
          0.009564075924352853,
          0.03434741125242488
         ]
        },
        {
         "domain": {
          "x": [
           0.9179999999999999,
           0.9999999999999999
          ],
          "y": [
           0.9027777777777777,
           0.9999999999999999
          ]
         },
         "hole": 0.4,
         "hoverinfo": "label+percent",
         "labels": [
          "author_score_scaled_professors_var"
         ],
         "textinfo": "none",
         "type": "pie",
         "values": [
          0.00300862060018605
         ]
        },
        {
         "domain": {
          "x": [
           0,
           0.082
          ],
          "y": [
           0.7222222222222222,
           0.8194444444444444
          ]
         },
         "hole": 0.4,
         "hoverinfo": "label+percent",
         "labels": [
          "author_score_professors_sum",
          "author_score_professors_max",
          "author_score_scaled_professors_sum",
          "author_score_scaled_professors_mean",
          "author_score_scaled_avg_professors_sum",
          "author_score_scaled_avg_professors_max",
          "author_score_scaled_avg_professors_std",
          "paper_score_professors_sum",
          "paper_score_scaled_professors_sum",
          "paper_score_scaled_avg_professors_sum"
         ],
         "textinfo": "none",
         "type": "pie",
         "values": [
          0.011114965875374071,
          0.003027010580476126,
          0.1306156641028686,
          0.006703290812845631,
          0.02903770881511447,
          0.004462976384650485,
          0.002229771505395458,
          0.01018322669479207,
          0.04116014528558609,
          0.009928740660127364
         ]
        },
        {
         "domain": {
          "x": [
           0.10200000000000001,
           0.184
          ],
          "y": [
           0.7222222222222222,
           0.8194444444444444
          ]
         },
         "hole": 0.4,
         "hoverinfo": "label+percent",
         "labels": [
          "author_score_scaled_professors_var"
         ],
         "textinfo": "none",
         "type": "pie",
         "values": [
          0.003496299608963679
         ]
        },
        {
         "domain": {
          "x": [
           0.20400000000000001,
           0.28600000000000003
          ],
          "y": [
           0.7222222222222222,
           0.8194444444444444
          ]
         },
         "hole": 0.4,
         "hoverinfo": "label+percent",
         "labels": [
          "author_score_professors_sum",
          "author_score_professors_max",
          "author_score_scaled_professors_sum",
          "author_score_scaled_professors_mean",
          "author_score_scaled_avg_professors_sum",
          "author_score_scaled_avg_professors_max",
          "author_score_scaled_avg_professors_std",
          "paper_score_professors_sum",
          "paper_score_scaled_professors_sum",
          "paper_score_scaled_avg_professors_sum"
         ],
         "textinfo": "none",
         "type": "pie",
         "values": [
          0.012225446056157795,
          0.004424106718698861,
          0.15084521983307514,
          0.009555897170945094,
          0.028151294826189978,
          0.0044467954528909425,
          0.0003616418671084754,
          0.00267539769521275,
          0.010702863558051522,
          0.0025191091238790566
         ]
        },
        {
         "domain": {
          "x": [
           0.306,
           0.388
          ],
          "y": [
           0.7222222222222222,
           0.8194444444444444
          ]
         },
         "hole": 0.4,
         "hoverinfo": "label+percent",
         "labels": [
          "author_score_scaled_professors_var"
         ],
         "textinfo": "none",
         "type": "pie",
         "values": [
          0.004410863738519684
         ]
        },
        {
         "domain": {
          "x": [
           0.40800000000000003,
           0.49000000000000005
          ],
          "y": [
           0.7222222222222222,
           0.8194444444444444
          ]
         },
         "hole": 0.4,
         "hoverinfo": "label+percent",
         "labels": [
          "author_score_professors_sum",
          "author_score_professors_max",
          "author_score_scaled_professors_sum",
          "author_score_scaled_professors_mean",
          "author_score_scaled_avg_professors_sum",
          "author_score_scaled_avg_professors_max",
          "author_score_scaled_avg_professors_std",
          "paper_score_professors_sum",
          "paper_score_scaled_professors_sum",
          "paper_score_scaled_avg_professors_sum"
         ],
         "textinfo": "none",
         "type": "pie",
         "values": [
          0.005758954437138175,
          0.0014823284206056959,
          0.09467512289552363,
          0.009477651684238772,
          0.018072686558930462,
          0.004462869704231421,
          0.00034080992201016393,
          0.002721100399437511,
          0.07084264617382008,
          0.0030336899683291183
         ]
        },
        {
         "domain": {
          "x": [
           0.51,
           0.592
          ],
          "y": [
           0.7222222222222222,
           0.8194444444444444
          ]
         },
         "hole": 0.4,
         "hoverinfo": "label+percent",
         "labels": [
          "author_score_scaled_professors_var"
         ],
         "textinfo": "none",
         "type": "pie",
         "values": [
          0.010603802500534833
         ]
        },
        {
         "domain": {
          "x": [
           0.6120000000000001,
           0.6940000000000001
          ],
          "y": [
           0.7222222222222222,
           0.8194444444444444
          ]
         },
         "hole": 0.4,
         "hoverinfo": "label+percent",
         "labels": [
          "author_score_professors_sum",
          "author_score_professors_max",
          "author_score_scaled_professors_sum",
          "author_score_scaled_professors_mean",
          "author_score_scaled_doctorate_max",
          "author_score_scaled_avg_professors_sum",
          "author_score_scaled_avg_professors_max",
          "author_score_scaled_avg_professors_std",
          "author_score_scaled_avg_doctorate_sum",
          "author_score_scaled_avg_doctorate_mean",
          "paper_score_professors_sum",
          "paper_score_doctorate_max",
          "paper_score_scaled_professors_sum",
          "paper_score_scaled_doctorate_sum",
          "paper_score_scaled_avg_professors_sum"
         ],
         "textinfo": "none",
         "type": "pie",
         "values": [
          0.010724267476136135,
          0.0033833171218781316,
          0.10339840627296414,
          0.006816455730206021,
          0.010252080150843376,
          0.018933440410303662,
          0.004448231679706793,
          0.002633850207777944,
          0.0077383811020491486,
          0.0018744960453822086,
          0.014923770123016178,
          0.007032467260150173,
          0.06984194580989103,
          0.015431034473477002,
          0.01169978591030326
         ]
        },
        {
         "domain": {
          "x": [
           0.7140000000000001,
           0.796
          ],
          "y": [
           0.7222222222222222,
           0.8194444444444444
          ]
         },
         "hole": 0.4,
         "hoverinfo": "label+percent",
         "labels": [
          "author_score_scaled_professors_var"
         ],
         "textinfo": "none",
         "type": "pie",
         "values": [
          0.0030905692050302545
         ]
        },
        {
         "domain": {
          "x": [
           0.8160000000000001,
           0.898
          ],
          "y": [
           0.7222222222222222,
           0.8194444444444444
          ]
         },
         "hole": 0.4,
         "hoverinfo": "label+percent",
         "labels": [
          "author_score_professors_sum",
          "author_score_professors_max",
          "author_score_scaled_professors_sum",
          "author_score_scaled_professors_mean",
          "author_score_scaled_doctorate_max",
          "author_score_scaled_avg_professors_sum",
          "author_score_scaled_avg_professors_max",
          "author_score_scaled_avg_professors_std",
          "author_score_scaled_avg_doctorate_sum",
          "author_score_scaled_avg_doctorate_mean",
          "paper_score_professors_sum",
          "paper_score_doctorate_max",
          "paper_score_scaled_professors_sum",
          "paper_score_scaled_doctorate_sum",
          "paper_score_scaled_avg_professors_sum"
         ],
         "textinfo": "none",
         "type": "pie",
         "values": [
          0.009070289171212208,
          0.003226907751586488,
          0.11193126176606563,
          0.004986891238538025,
          0.003370037650938176,
          0.02341397948022903,
          0.00445634085116463,
          0.0029211062375022415,
          0.004613234200339387,
          0.00197421538604682,
          0.01633735797033654,
          0.0021056247821986825,
          0.06787911961325983,
          0.0017237096831532524,
          0.021714238939601695
         ]
        },
        {
         "domain": {
          "x": [
           0.9179999999999999,
           0.9999999999999999
          ],
          "y": [
           0.7222222222222222,
           0.8194444444444444
          ]
         },
         "hole": 0.4,
         "hoverinfo": "label+percent",
         "labels": [
          "author_score_scaled_professors_var"
         ],
         "textinfo": "none",
         "type": "pie",
         "values": [
          0.004646192431807936
         ]
        },
        {
         "domain": {
          "x": [
           0,
           0.082
          ],
          "y": [
           0.5416666666666667,
           0.638888888888889
          ]
         },
         "hole": 0.4,
         "hoverinfo": "label+percent",
         "labels": [
          "author_score_professors_sum",
          "author_score_professors_max",
          "author_score_scaled_professors_sum",
          "author_score_scaled_professors_mean",
          "author_score_scaled_doctorate_max",
          "author_score_scaled_avg_professors_sum",
          "author_score_scaled_avg_professors_max",
          "author_score_scaled_avg_professors_std",
          "author_score_scaled_avg_doctorate_sum",
          "author_score_scaled_avg_doctorate_mean",
          "paper_score_professors_sum",
          "paper_score_doctorate_max",
          "paper_score_scaled_professors_sum",
          "paper_score_scaled_doctorate_sum",
          "paper_score_scaled_avg_professors_sum"
         ],
         "textinfo": "none",
         "type": "pie",
         "values": [
          0.007072301529236056,
          0.0016419329224434673,
          0.07667815968886989,
          0.004571751939574701,
          0.003917911239775569,
          0.02511487681681586,
          0.004462825506038096,
          0.0023259351096531246,
          0.006239210255091634,
          0.0019301533210498959,
          0.010567721643680882,
          0.007670569809164799,
          0.074164707448084,
          0.03723672947665871,
          0.008612633970796028
         ]
        },
        {
         "domain": {
          "x": [
           0.10200000000000001,
           0.184
          ],
          "y": [
           0.5416666666666667,
           0.638888888888889
          ]
         },
         "hole": 0.4,
         "hoverinfo": "label+percent",
         "labels": [
          "author_score_scaled_professors_var"
         ],
         "textinfo": "none",
         "type": "pie",
         "values": [
          0.0014489229643340857
         ]
        },
        {
         "domain": {
          "x": [
           0.20400000000000001,
           0.28600000000000003
          ],
          "y": [
           0.5416666666666667,
           0.638888888888889
          ]
         },
         "hole": 0.4,
         "hoverinfo": "label+percent",
         "labels": [
          "author_score_professors_sum",
          "author_score_professors_max",
          "author_score_scaled_professors_sum",
          "author_score_scaled_professors_mean",
          "author_score_scaled_doctorate_max",
          "author_score_scaled_avg_professors_sum",
          "author_score_scaled_avg_professors_max",
          "author_score_scaled_avg_professors_std",
          "author_score_scaled_avg_doctorate_sum",
          "author_score_scaled_avg_doctorate_mean",
          "paper_score_professors_sum",
          "paper_score_doctorate_max",
          "paper_score_scaled_professors_sum",
          "paper_score_scaled_doctorate_sum",
          "paper_score_scaled_avg_professors_sum"
         ],
         "textinfo": "none",
         "type": "pie",
         "values": [
          0.010214934634065781,
          0.00245773315752873,
          0.10737337270793926,
          0.004918959124928753,
          0.0033119937805365417,
          0.03471251894639117,
          0.004467462328935349,
          0.0019792981142440903,
          0.0076550966090824695,
          0.0020056949447761273,
          0.006596891663718577,
          0.009304035408181826,
          0.025574523437317073,
          0.005517445939934883,
          0.006918889256379745
         ]
        },
        {
         "domain": {
          "x": [
           0.306,
           0.388
          ],
          "y": [
           0.5416666666666667,
           0.638888888888889
          ]
         },
         "hole": 0.4,
         "hoverinfo": "label+percent",
         "labels": [
          "author_score_scaled_professors_var"
         ],
         "textinfo": "none",
         "type": "pie",
         "values": [
          0.0016362055049640091
         ]
        },
        {
         "domain": {
          "x": [
           0.40800000000000003,
           0.49000000000000005
          ],
          "y": [
           0.5416666666666667,
           0.638888888888889
          ]
         },
         "hole": 0.4,
         "hoverinfo": "label+percent",
         "labels": [
          "author_score_professors_sum",
          "author_score_professors_max",
          "author_score_scaled_professors_sum",
          "author_score_scaled_professors_mean",
          "author_score_scaled_avg_professors_sum",
          "author_score_scaled_avg_professors_max",
          "author_score_scaled_avg_professors_std",
          "paper_score_professors_sum",
          "paper_score_scaled_professors_sum",
          "paper_score_scaled_avg_professors_sum"
         ],
         "textinfo": "none",
         "type": "pie",
         "values": [
          0.006295239025009543,
          0.0025568824004483597,
          0.06183019874234838,
          0.00491530369137,
          0.019252033485285782,
          0.004445658799832233,
          0.0022489775627741113,
          0.005672048043045637,
          0.023502327386735616,
          0.005805685113087972
         ]
        },
        {
         "domain": {
          "x": [
           0.51,
           0.592
          ],
          "y": [
           0.5416666666666667,
           0.638888888888889
          ]
         },
         "hole": 0.4,
         "hoverinfo": "label+percent",
         "labels": [
          "author_score_scaled_professors_var"
         ],
         "textinfo": "none",
         "type": "pie",
         "values": [
          0.001567924404129395
         ]
        },
        {
         "domain": {
          "x": [
           0.6120000000000001,
           0.6940000000000001
          ],
          "y": [
           0.5416666666666667,
           0.638888888888889
          ]
         },
         "hole": 0.4,
         "hoverinfo": "label+percent",
         "labels": [
          "author_score_professors_sum",
          "author_score_professors_max",
          "author_score_scaled_professors_sum",
          "author_score_scaled_professors_mean",
          "author_score_scaled_avg_professors_sum",
          "author_score_scaled_avg_professors_max",
          "author_score_scaled_avg_professors_std",
          "paper_score_professors_sum",
          "paper_score_scaled_professors_sum",
          "paper_score_scaled_avg_professors_sum"
         ],
         "textinfo": "none",
         "type": "pie",
         "values": [
          0.006927645559647976,
          0.0029463068933647724,
          0.06790967994301073,
          0.009333178181948763,
          0.010214676063489884,
          0.004382091321013519,
          0.0023355714357726235,
          0.0033669138790320694,
          0.02711215495756969,
          0.004574069526599793
         ]
        },
        {
         "domain": {
          "x": [
           0.7140000000000001,
           0.796
          ],
          "y": [
           0.5416666666666667,
           0.638888888888889
          ]
         },
         "hole": 0.4,
         "hoverinfo": "label+percent",
         "labels": [
          "author_score_scaled_professors_var"
         ],
         "textinfo": "none",
         "type": "pie",
         "values": [
          0.004692925798628784
         ]
        },
        {
         "domain": {
          "x": [
           0.8160000000000001,
           0.898
          ],
          "y": [
           0.5416666666666667,
           0.638888888888889
          ]
         },
         "hole": 0.4,
         "hoverinfo": "label+percent",
         "labels": [
          "author_score_professors_sum",
          "author_score_professors_max",
          "author_score_scaled_professors_sum",
          "author_score_scaled_professors_mean",
          "author_score_scaled_doctorate_max",
          "author_score_scaled_avg_professors_sum",
          "author_score_scaled_avg_professors_max",
          "author_score_scaled_avg_professors_std",
          "author_score_scaled_avg_doctorate_sum",
          "author_score_scaled_avg_doctorate_mean",
          "paper_score_professors_sum",
          "paper_score_doctorate_max",
          "paper_score_scaled_professors_sum",
          "paper_score_scaled_doctorate_sum",
          "paper_score_scaled_avg_professors_sum"
         ],
         "textinfo": "none",
         "type": "pie",
         "values": [
          0.007092763347467824,
          0.002975367008118148,
          0.07238759473499633,
          0.006450191952937244,
          0.004618712978249132,
          0.013036198872062392,
          0.004428982699472294,
          0.0027351715198826137,
          0.007045876689689948,
          0.0019246309451820696,
          0.010595739273117208,
          0.001864061150213036,
          0.047911282071320116,
          0.005175797366966956,
          0.008525914412596253
         ]
        },
        {
         "domain": {
          "x": [
           0.9179999999999999,
           0.9999999999999999
          ],
          "y": [
           0.5416666666666667,
           0.638888888888889
          ]
         },
         "hole": 0.4,
         "hoverinfo": "label+percent",
         "labels": [
          "author_score_scaled_professors_var"
         ],
         "textinfo": "none",
         "type": "pie",
         "values": [
          0.0031757345410159455
         ]
        },
        {
         "domain": {
          "x": [
           0,
           0.082
          ],
          "y": [
           0.3611111111111111,
           0.4583333333333333
          ]
         },
         "hole": 0.4,
         "hoverinfo": "label+percent",
         "labels": [
          "author_score_professors_sum",
          "author_score_professors_max",
          "author_score_scaled_professors_sum",
          "author_score_scaled_professors_mean",
          "author_score_scaled_doctorate_max",
          "author_score_scaled_avg_professors_sum",
          "author_score_scaled_avg_professors_max",
          "author_score_scaled_avg_professors_std",
          "author_score_scaled_avg_doctorate_sum",
          "author_score_scaled_avg_doctorate_mean",
          "paper_score_professors_sum",
          "paper_score_doctorate_max",
          "paper_score_scaled_professors_sum",
          "paper_score_scaled_doctorate_sum",
          "paper_score_scaled_avg_professors_sum"
         ],
         "textinfo": "none",
         "type": "pie",
         "values": [
          0.0052121753520164085,
          0.002597188383090443,
          0.059774004301944676,
          0.005156254940501554,
          0.003692359404904677,
          0.015264022604403038,
          0.004458390278565142,
          0.0026019244224750153,
          0.004513153887120093,
          0.001964121773513316,
          0.007959663801094904,
          0.004140007892617062,
          0.06344142921588877,
          0.006660409877618411,
          0.0078502054700309
         ]
        },
        {
         "domain": {
          "x": [
           0.10200000000000001,
           0.184
          ],
          "y": [
           0.3611111111111111,
           0.4583333333333333
          ]
         },
         "hole": 0.4,
         "hoverinfo": "label+percent",
         "labels": [
          "author_score_scaled_professors_var"
         ],
         "textinfo": "none",
         "type": "pie",
         "values": [
          0.0028262186978243783
         ]
        },
        {
         "domain": {
          "x": [
           0.20400000000000001,
           0.28600000000000003
          ],
          "y": [
           0.3611111111111111,
           0.4583333333333333
          ]
         },
         "hole": 0.4,
         "hoverinfo": "label+percent",
         "labels": [
          "author_score_professors_sum",
          "author_score_professors_max",
          "author_score_scaled_professors_sum",
          "author_score_scaled_professors_mean",
          "author_score_scaled_doctorate_max",
          "author_score_scaled_avg_professors_sum",
          "author_score_scaled_avg_professors_max",
          "author_score_scaled_avg_professors_std",
          "author_score_scaled_avg_doctorate_sum",
          "author_score_scaled_avg_doctorate_mean",
          "paper_score_professors_sum",
          "paper_score_doctorate_max",
          "paper_score_scaled_professors_sum",
          "paper_score_scaled_doctorate_sum",
          "paper_score_scaled_avg_professors_sum"
         ],
         "textinfo": "none",
         "type": "pie",
         "values": [
          0.008790916054570075,
          0.0027772336045181097,
          0.08520494178773248,
          0.005709910472741466,
          0.003409964558802023,
          0.02240417534358527,
          0.004456446337241686,
          0.0022052086245255226,
          0.0052959013994686825,
          0.0019707479323100457,
          0.007516823931228468,
          0.002968164487421855,
          0.033132182717204646,
          0.0025721113659694203,
          0.006265116740876041
         ]
        },
        {
         "domain": {
          "x": [
           0.306,
           0.388
          ],
          "y": [
           0.3611111111111111,
           0.4583333333333333
          ]
         },
         "hole": 0.4,
         "hoverinfo": "label+percent",
         "labels": [
          "author_score_scaled_professors_var"
         ],
         "textinfo": "none",
         "type": "pie",
         "values": [
          0.0022915013436185963
         ]
        },
        {
         "domain": {
          "x": [
           0.40800000000000003,
           0.49000000000000005
          ],
          "y": [
           0.3611111111111111,
           0.4583333333333333
          ]
         },
         "hole": 0.4,
         "hoverinfo": "label+percent",
         "labels": [
          "author_score_professors_sum",
          "author_score_professors_max",
          "author_score_scaled_professors_sum",
          "author_score_scaled_professors_mean",
          "author_score_scaled_doctorate_max",
          "author_score_scaled_avg_professors_sum",
          "author_score_scaled_avg_professors_max",
          "author_score_scaled_avg_professors_std",
          "author_score_scaled_avg_doctorate_sum",
          "author_score_scaled_avg_doctorate_mean",
          "paper_score_professors_sum",
          "paper_score_doctorate_max",
          "paper_score_scaled_professors_sum",
          "paper_score_scaled_doctorate_sum",
          "paper_score_scaled_avg_professors_sum"
         ],
         "textinfo": "none",
         "type": "pie",
         "values": [
          0.008932682279206327,
          0.003109123102177671,
          0.08244696121750761,
          0.008356694994492908,
          0.003052689165863863,
          0.013779403499691006,
          0.004403387455119809,
          0.002300344121918165,
          0.003673045926149981,
          0.0019247332913523004,
          0.007655588767401543,
          0.004000640102969267,
          0.03529502745674883,
          0.005363445231894078,
          0.006925904411757013
         ]
        },
        {
         "domain": {
          "x": [
           0.51,
           0.592
          ],
          "y": [
           0.3611111111111111,
           0.4583333333333333
          ]
         },
         "hole": 0.4,
         "hoverinfo": "label+percent",
         "labels": [
          "author_score_scaled_professors_var"
         ],
         "textinfo": "none",
         "type": "pie",
         "values": [
          0.00377672734663747
         ]
        },
        {
         "domain": {
          "x": [
           0.6120000000000001,
           0.6940000000000001
          ],
          "y": [
           0.3611111111111111,
           0.4583333333333333
          ]
         },
         "hole": 0.4,
         "hoverinfo": "label+percent",
         "labels": [
          "author_score_professors_sum",
          "author_score_professors_max",
          "author_score_scaled_professors_sum",
          "author_score_scaled_professors_mean",
          "author_score_scaled_doctorate_max",
          "author_score_scaled_avg_professors_sum",
          "author_score_scaled_avg_professors_max",
          "author_score_scaled_avg_professors_std",
          "author_score_scaled_avg_doctorate_sum",
          "author_score_scaled_avg_doctorate_mean",
          "paper_score_professors_sum",
          "paper_score_doctorate_max",
          "paper_score_scaled_professors_sum",
          "paper_score_scaled_doctorate_sum",
          "paper_score_scaled_avg_professors_sum"
         ],
         "textinfo": "none",
         "type": "pie",
         "values": [
          0.005584037663407341,
          0.0022444826937133406,
          0.0673615250328614,
          0.007187009247499306,
          0.005095437507303065,
          0.01346611707178565,
          0.004448227402287668,
          0.0023398108983726843,
          0.006008113247514447,
          0.0018586614753798789,
          0.009276693561898943,
          0.011225172935958181,
          0.03581662299194128,
          0.00742900185721165,
          0.005476607506329376
         ]
        },
        {
         "domain": {
          "x": [
           0.7140000000000001,
           0.796
          ],
          "y": [
           0.3611111111111111,
           0.4583333333333333
          ]
         },
         "hole": 0.4,
         "hoverinfo": "label+percent",
         "labels": [
          "author_score_scaled_professors_var"
         ],
         "textinfo": "none",
         "type": "pie",
         "values": [
          0.0036001146705041983
         ]
        },
        {
         "domain": {
          "x": [
           0.8160000000000001,
           0.898
          ],
          "y": [
           0.3611111111111111,
           0.4583333333333333
          ]
         },
         "hole": 0.4,
         "hoverinfo": "label+percent",
         "labels": [
          "author_score_professors_sum",
          "author_score_professors_max",
          "author_score_scaled_professors_sum",
          "author_score_scaled_professors_mean",
          "author_score_scaled_doctorate_max",
          "author_score_scaled_avg_professors_sum",
          "author_score_scaled_avg_professors_max",
          "author_score_scaled_avg_professors_std",
          "author_score_scaled_avg_doctorate_sum",
          "author_score_scaled_avg_doctorate_mean",
          "paper_score_professors_sum",
          "paper_score_doctorate_max",
          "paper_score_scaled_professors_sum",
          "paper_score_scaled_doctorate_sum",
          "paper_score_scaled_avg_professors_sum"
         ],
         "textinfo": "none",
         "type": "pie",
         "values": [
          0.00903826983620093,
          0.004159912737593493,
          0.08568661407038099,
          0.008794998621749832,
          0.003003531091229767,
          0.016217202864714775,
          0.004426416627278134,
          0.0013208508821377924,
          0.004977575842483355,
          0.0018795299604730275,
          0.00471330733282404,
          0.009228900305158457,
          0.018421292086612095,
          0.009534414228149173,
          0.0024994865723475266
         ]
        },
        {
         "domain": {
          "x": [
           0.9179999999999999,
           0.9999999999999999
          ],
          "y": [
           0.3611111111111111,
           0.4583333333333333
          ]
         },
         "hole": 0.4,
         "hoverinfo": "label+percent",
         "labels": [
          "author_score_scaled_professors_var"
         ],
         "textinfo": "none",
         "type": "pie",
         "values": [
          0.004070382793366707
         ]
        },
        {
         "domain": {
          "x": [
           0,
           0.082
          ],
          "y": [
           0.18055555555555555,
           0.2777777777777778
          ]
         },
         "hole": 0.4,
         "hoverinfo": "label+percent",
         "labels": [
          "author_score_professors_sum",
          "author_score_professors_max",
          "author_score_scaled_professors_sum",
          "author_score_scaled_professors_mean",
          "author_score_scaled_doctorate_max",
          "author_score_scaled_avg_professors_sum",
          "author_score_scaled_avg_professors_max",
          "author_score_scaled_avg_professors_std",
          "author_score_scaled_avg_doctorate_sum",
          "author_score_scaled_avg_doctorate_mean",
          "paper_score_professors_sum",
          "paper_score_doctorate_max",
          "paper_score_scaled_professors_sum",
          "paper_score_scaled_doctorate_sum",
          "paper_score_scaled_avg_professors_sum"
         ],
         "textinfo": "none",
         "type": "pie",
         "values": [
          0.005854690191382992,
          0.0017754202289677395,
          0.0565408383920441,
          0.005209900833631532,
          0.0032468181799216195,
          0.016117952202652372,
          0.004467472195533665,
          0.002130384791041694,
          0.0025467574539511165,
          0.0018683568180864756,
          0.006313550099155333,
          0.002344155753383391,
          0.04168098683713653,
          0.0022194258611509944,
          0.004857294744897436
         ]
        },
        {
         "domain": {
          "x": [
           0.10200000000000001,
           0.184
          ],
          "y": [
           0.18055555555555555,
           0.2777777777777778
          ]
         },
         "hole": 0.4,
         "hoverinfo": "label+percent",
         "labels": [
          "author_score_scaled_professors_var"
         ],
         "textinfo": "none",
         "type": "pie",
         "values": [
          0.0012923309620398206
         ]
        },
        {
         "domain": {
          "x": [
           0.20400000000000001,
           0.28600000000000003
          ],
          "y": [
           0.18055555555555555,
           0.2777777777777778
          ]
         },
         "hole": 0.4,
         "hoverinfo": "label+percent",
         "labels": [
          "author_score_professors_sum",
          "author_score_professors_max",
          "author_score_scaled_professors_sum",
          "author_score_scaled_professors_mean",
          "author_score_scaled_doctorate_max",
          "author_score_scaled_avg_professors_sum",
          "author_score_scaled_avg_professors_max",
          "author_score_scaled_avg_professors_std",
          "author_score_scaled_avg_doctorate_sum",
          "author_score_scaled_avg_doctorate_mean",
          "paper_score_professors_sum",
          "paper_score_doctorate_max",
          "paper_score_scaled_professors_sum",
          "paper_score_scaled_doctorate_sum",
          "paper_score_scaled_avg_professors_sum"
         ],
         "textinfo": "none",
         "type": "pie",
         "values": [
          0.005637558726624494,
          0.0015727273252735523,
          0.0725088655653335,
          0.005879508134473355,
          0.004098579321086507,
          0.019543245869280787,
          0.004462904649577596,
          0.001935383462776242,
          0.004199090046045096,
          0.001960346212568197,
          0.003414067596476401,
          0.001865762242374228,
          0.017797056567061816,
          0.0007874264587057543,
          0.0034855932038357763
         ]
        },
        {
         "domain": {
          "x": [
           0.306,
           0.388
          ],
          "y": [
           0.18055555555555555,
           0.2777777777777778
          ]
         },
         "hole": 0.4,
         "hoverinfo": "label+percent",
         "labels": [
          "author_score_scaled_professors_var"
         ],
         "textinfo": "none",
         "type": "pie",
         "values": [
          0.0023847743535930317
         ]
        },
        {
         "domain": {
          "x": [
           0.40800000000000003,
           0.49000000000000005
          ],
          "y": [
           0.18055555555555555,
           0.2777777777777778
          ]
         },
         "hole": 0.4,
         "hoverinfo": "label+percent",
         "labels": [
          "author_score_professors_sum",
          "author_score_professors_max",
          "author_score_scaled_professors_sum",
          "author_score_scaled_professors_mean",
          "author_score_scaled_doctorate_max",
          "author_score_scaled_avg_professors_sum",
          "author_score_scaled_avg_professors_max",
          "author_score_scaled_avg_professors_std",
          "author_score_scaled_avg_doctorate_sum",
          "author_score_scaled_avg_doctorate_mean",
          "paper_score_professors_sum",
          "paper_score_doctorate_max",
          "paper_score_scaled_professors_sum",
          "paper_score_scaled_doctorate_sum",
          "paper_score_scaled_avg_professors_sum"
         ],
         "textinfo": "none",
         "type": "pie",
         "values": [
          0.006118016759414397,
          0.0011095434364095614,
          0.05970837215311001,
          0.0038122501941227796,
          0.005145757291868381,
          0.025246868944654277,
          0.004463061629396751,
          0.00194032556649914,
          0.001556721498533471,
          0.001903408077550046,
          0.00604314820930935,
          0.001715083708563321,
          0.020659746396617572,
          0.000277976503202707,
          0.004574750138414209
         ]
        },
        {
         "domain": {
          "x": [
           0.51,
           0.592
          ],
          "y": [
           0.18055555555555555,
           0.2777777777777778
          ]
         },
         "hole": 0.4,
         "hoverinfo": "label+percent",
         "labels": [
          "author_score_scaled_professors_var"
         ],
         "textinfo": "none",
         "type": "pie",
         "values": [
          0.001262498231010245
         ]
        },
        {
         "domain": {
          "x": [
           0.6120000000000001,
           0.6940000000000001
          ],
          "y": [
           0.18055555555555555,
           0.2777777777777778
          ]
         },
         "hole": 0.4,
         "hoverinfo": "label+percent",
         "labels": [
          "author_score_professors_sum",
          "author_score_professors_max",
          "author_score_scaled_professors_sum",
          "author_score_scaled_professors_mean",
          "author_score_scaled_avg_professors_sum",
          "author_score_scaled_avg_professors_max",
          "author_score_scaled_avg_professors_std",
          "paper_score_professors_sum",
          "paper_score_scaled_professors_sum",
          "paper_score_scaled_avg_professors_sum"
         ],
         "textinfo": "none",
         "type": "pie",
         "values": [
          0.004439448821791383,
          0.001678334673512177,
          0.05631465896993637,
          0.00951327620774113,
          0.010056525478919949,
          0.004429567284707463,
          0.0012107876726128396,
          0.0014987329374350751,
          0.010614548028020417,
          0.0009207794078655197
         ]
        },
        {
         "domain": {
          "x": [
           0.7140000000000001,
           0.796
          ],
          "y": [
           0.18055555555555555,
           0.2777777777777778
          ]
         },
         "hole": 0.4,
         "hoverinfo": "label+percent",
         "labels": [
          "author_score_scaled_professors_var"
         ],
         "textinfo": "none",
         "type": "pie",
         "values": [
          0.0036102573311233956
         ]
        },
        {
         "domain": {
          "x": [
           0.8160000000000001,
           0.898
          ],
          "y": [
           0.18055555555555555,
           0.2777777777777778
          ]
         },
         "hole": 0.4,
         "hoverinfo": "label+percent",
         "labels": [
          "author_score_professors_sum",
          "author_score_professors_max",
          "author_score_scaled_professors_sum",
          "author_score_scaled_professors_mean",
          "author_score_scaled_doctorate_max",
          "author_score_scaled_avg_professors_sum",
          "author_score_scaled_avg_professors_max",
          "author_score_scaled_avg_professors_std",
          "author_score_scaled_avg_doctorate_sum",
          "author_score_scaled_avg_doctorate_mean",
          "paper_score_professors_sum",
          "paper_score_scaled_professors_sum",
          "paper_score_scaled_avg_professors_sum"
         ],
         "textinfo": "none",
         "type": "pie",
         "values": [
          0.005041852536860995,
          0.0013539021564567112,
          0.06648431305048491,
          0.005337620555291269,
          0.0007912458799789203,
          0.01883684845299418,
          0.004448224438253072,
          0.002162340147702967,
          0.0007753436463840643,
          0.001990831537734357,
          0.001978013715918486,
          0.0054586880082989194,
          0.004409197869123309
         ]
        },
        {
         "domain": {
          "x": [
           0.9179999999999999,
           0.9999999999999999
          ],
          "y": [
           0.18055555555555555,
           0.2777777777777778
          ]
         },
         "hole": 0.4,
         "hoverinfo": "label+percent",
         "labels": [
          "author_score_scaled_professors_var"
         ],
         "textinfo": "none",
         "type": "pie",
         "values": [
          0.0016600672259960568
         ]
        },
        {
         "domain": {
          "x": [
           0,
           0.082
          ],
          "y": [
           0,
           0.09722222222222222
          ]
         },
         "hole": 0.4,
         "hoverinfo": "label+percent",
         "labels": [
          "author_score_professors_sum",
          "author_score_professors_max",
          "author_score_scaled_professors_sum",
          "author_score_scaled_professors_mean",
          "author_score_scaled_doctorate_max",
          "author_score_scaled_avg_professors_sum",
          "author_score_scaled_avg_professors_max",
          "author_score_scaled_avg_professors_std",
          "author_score_scaled_avg_doctorate_sum",
          "author_score_scaled_avg_doctorate_mean",
          "paper_score_professors_sum",
          "paper_score_doctorate_max",
          "paper_score_scaled_professors_sum",
          "paper_score_scaled_doctorate_sum",
          "paper_score_scaled_avg_professors_sum"
         ],
         "textinfo": "none",
         "type": "pie",
         "values": [
          0.004857559574062754,
          0.0016149895102146275,
          0.04818968811505185,
          0.0038688565472678837,
          0.0016193036082091908,
          0.014742687892527785,
          0.004436038111495433,
          0.0028202734027698803,
          0.0018203823260755166,
          0.002032240274802131,
          0.008256830647910005,
          0.005658674314420191,
          0.024297813892479977,
          0.0009174759082112168,
          0.009742869265899465
         ]
        },
        {
         "domain": {
          "x": [
           0.10200000000000001,
           0.184
          ],
          "y": [
           0,
           0.09722222222222222
          ]
         },
         "hole": 0.4,
         "hoverinfo": "label+percent",
         "labels": [
          "author_score_scaled_professors_var"
         ],
         "textinfo": "none",
         "type": "pie",
         "values": [
          0.0012674820087559963
         ]
        },
        {
         "domain": {
          "x": [
           0.20400000000000001,
           0.28600000000000003
          ],
          "y": [
           0,
           0.09722222222222222
          ]
         },
         "hole": 0.4,
         "hoverinfo": "label+percent",
         "labels": [
          "author_score_professors_sum",
          "author_score_professors_max",
          "author_score_scaled_professors_sum",
          "author_score_scaled_professors_mean",
          "author_score_scaled_doctorate_max",
          "author_score_scaled_avg_professors_sum",
          "author_score_scaled_avg_professors_max",
          "author_score_scaled_avg_professors_std",
          "author_score_scaled_avg_doctorate_sum",
          "author_score_scaled_avg_doctorate_mean",
          "paper_score_professors_sum",
          "paper_score_doctorate_max",
          "paper_score_scaled_professors_sum",
          "paper_score_scaled_doctorate_sum",
          "paper_score_scaled_avg_professors_sum"
         ],
         "textinfo": "none",
         "type": "pie",
         "values": [
          0.006190128720391997,
          0.002974159096463036,
          0.060366758631784624,
          0.006196131854737085,
          0.002995944235205055,
          0.01562861271839244,
          0.00442287862728183,
          0.00178778676890872,
          0.0036915189872128115,
          0.0019747137436419747,
          0.003819713684276775,
          0.002418775148196074,
          0.019476371585330974,
          0.0004840726830901524,
          0.0039017278788907165
         ]
        },
        {
         "domain": {
          "x": [
           0.306,
           0.388
          ],
          "y": [
           0,
           0.09722222222222222
          ]
         },
         "hole": 0.4,
         "hoverinfo": "label+percent",
         "labels": [
          "author_score_scaled_professors_var"
         ],
         "textinfo": "none",
         "type": "pie",
         "values": [
          0.002823042052733198
         ]
        },
        {
         "domain": {
          "x": [
           0.40800000000000003,
           0.49000000000000005
          ],
          "y": [
           0,
           0.09722222222222222
          ]
         },
         "hole": 0.4,
         "hoverinfo": "label+percent",
         "labels": [
          "author_score_professors_sum",
          "author_score_professors_max",
          "author_score_scaled_professors_sum",
          "author_score_scaled_professors_mean",
          "author_score_scaled_doctorate_max",
          "author_score_scaled_avg_professors_sum",
          "author_score_scaled_avg_professors_max",
          "author_score_scaled_avg_professors_std",
          "author_score_scaled_avg_doctorate_sum",
          "author_score_scaled_avg_doctorate_mean",
          "paper_score_professors_sum",
          "paper_score_scaled_professors_sum",
          "paper_score_scaled_avg_professors_sum"
         ],
         "textinfo": "none",
         "type": "pie",
         "values": [
          0.004983914961363514,
          0.00218336271745218,
          0.042084870679242825,
          0.004611520699547277,
          0.0021355822272890552,
          0.012966109291161107,
          0.004468015715894696,
          0.002357144509290728,
          0.0014570373672784637,
          0.0019690528301892444,
          0.0026620511848341293,
          0.02745644149531136,
          0.004910809437682515
         ]
        },
        {
         "domain": {
          "x": [
           0.51,
           0.592
          ],
          "y": [
           0,
           0.09722222222222222
          ]
         },
         "hole": 0.4,
         "hoverinfo": "label+percent",
         "labels": [
          "author_score_scaled_professors_var"
         ],
         "textinfo": "none",
         "type": "pie",
         "values": [
          0.001208589964714453
         ]
        },
        {
         "domain": {
          "x": [
           0.6120000000000001,
           0.6940000000000001
          ],
          "y": [
           0,
           0.09722222222222222
          ]
         },
         "hole": 0.4,
         "hoverinfo": "label+percent",
         "labels": [
          "author_score_professors_sum",
          "author_score_professors_max",
          "author_score_scaled_professors_sum",
          "author_score_scaled_professors_mean",
          "author_score_scaled_avg_professors_sum",
          "author_score_scaled_avg_professors_max",
          "author_score_scaled_avg_professors_std",
          "paper_score_professors_sum",
          "paper_score_scaled_professors_sum",
          "paper_score_scaled_avg_professors_sum"
         ],
         "textinfo": "none",
         "type": "pie",
         "values": [
          0.0031086560224460377,
          0.0015465418965106973,
          0.04350552089680046,
          0.006299502186311482,
          0.011094173476934255,
          0.004412288083715327,
          0.0018297746455434303,
          0.0012917821444216801,
          0.011221495291184911,
          0.00179116650711799
         ]
        },
        {
         "domain": {
          "x": [
           0.7140000000000001,
           0.796
          ],
          "y": [
           0,
           0.09722222222222222
          ]
         },
         "hole": 0.4,
         "hoverinfo": "label+percent",
         "labels": [
          "author_score_scaled_professors_var"
         ],
         "textinfo": "none",
         "type": "pie",
         "values": [
          0.0029367235708018724
         ]
        },
        {
         "domain": {
          "x": [
           0.8160000000000001,
           0.898
          ],
          "y": [
           0,
           0.09722222222222222
          ]
         },
         "hole": 0.4,
         "hoverinfo": "label+percent",
         "labels": [
          "author_score_professors_sum",
          "author_score_professors_max",
          "author_score_scaled_professors_sum",
          "author_score_scaled_professors_mean",
          "author_score_scaled_doctorate_max",
          "author_score_scaled_avg_professors_sum",
          "author_score_scaled_avg_professors_max",
          "author_score_scaled_avg_professors_std",
          "author_score_scaled_avg_doctorate_sum",
          "author_score_scaled_avg_doctorate_mean",
          "paper_score_professors_sum",
          "paper_score_doctorate_max",
          "paper_score_scaled_professors_sum",
          "paper_score_scaled_doctorate_sum",
          "paper_score_scaled_avg_professors_sum"
         ],
         "textinfo": "none",
         "type": "pie",
         "values": [
          0.005165739528124517,
          0.0020187167630356306,
          0.04703481919448922,
          0.008869536156311343,
          0.0037258293268083737,
          0.007218385764284942,
          0.004463123014654912,
          0.0023216564728329218,
          0.004017313188170609,
          0.0019102148206739035,
          0.004161917399270346,
          0.01021528297495412,
          0.01463360063104642,
          0.002557660836310608,
          0.0034385886726009834
         ]
        },
        {
         "domain": {
          "x": [
           0.9179999999999999,
           0.9999999999999999
          ],
          "y": [
           0,
           0.09722222222222222
          ]
         },
         "hole": 0.4,
         "hoverinfo": "label+percent",
         "labels": [
          "author_score_scaled_professors_var"
         ],
         "textinfo": "none",
         "type": "pie",
         "values": [
          0.003097933084425755
         ]
        }
       ],
       "layout": {
        "annotations": [
         {
          "font": {
           "size": 16
          },
          "showarrow": false,
          "text": "Carnegie Mellon University Positive",
          "x": 0.041,
          "xanchor": "center",
          "xref": "paper",
          "y": 0.9999999999999999,
          "yanchor": "bottom",
          "yref": "paper"
         },
         {
          "font": {
           "size": 16
          },
          "showarrow": false,
          "text": "Carnegie Mellon University Negative",
          "x": 0.14300000000000002,
          "xanchor": "center",
          "xref": "paper",
          "y": 0.9999999999999999,
          "yanchor": "bottom",
          "yref": "paper"
         },
         {
          "font": {
           "size": 16
          },
          "showarrow": false,
          "text": "Stanford University Positive",
          "x": 0.24500000000000002,
          "xanchor": "center",
          "xref": "paper",
          "y": 0.9999999999999999,
          "yanchor": "bottom",
          "yref": "paper"
         },
         {
          "font": {
           "size": 16
          },
          "showarrow": false,
          "text": "Stanford University Negative",
          "x": 0.347,
          "xanchor": "center",
          "xref": "paper",
          "y": 0.9999999999999999,
          "yanchor": "bottom",
          "yref": "paper"
         },
         {
          "font": {
           "size": 16
          },
          "showarrow": false,
          "text": "Massachusetts Institute of Technology Positive",
          "x": 0.44900000000000007,
          "xanchor": "center",
          "xref": "paper",
          "y": 0.9999999999999999,
          "yanchor": "bottom",
          "yref": "paper"
         },
         {
          "font": {
           "size": 16
          },
          "showarrow": false,
          "text": "Massachusetts Institute of Technology Negative",
          "x": 0.5509999999999999,
          "xanchor": "center",
          "xref": "paper",
          "y": 0.9999999999999999,
          "yanchor": "bottom",
          "yref": "paper"
         },
         {
          "font": {
           "size": 16
          },
          "showarrow": false,
          "text": "Univ. of California - Berkeley Positive",
          "x": 0.653,
          "xanchor": "center",
          "xref": "paper",
          "y": 0.9999999999999999,
          "yanchor": "bottom",
          "yref": "paper"
         },
         {
          "font": {
           "size": 16
          },
          "showarrow": false,
          "text": "Univ. of California - Berkeley Negative",
          "x": 0.7550000000000001,
          "xanchor": "center",
          "xref": "paper",
          "y": 0.9999999999999999,
          "yanchor": "bottom",
          "yref": "paper"
         },
         {
          "font": {
           "size": 16
          },
          "showarrow": false,
          "text": "University of Washington Positive",
          "x": 0.857,
          "xanchor": "center",
          "xref": "paper",
          "y": 0.9999999999999999,
          "yanchor": "bottom",
          "yref": "paper"
         },
         {
          "font": {
           "size": 16
          },
          "showarrow": false,
          "text": "University of Washington Negative",
          "x": 0.9589999999999999,
          "xanchor": "center",
          "xref": "paper",
          "y": 0.9999999999999999,
          "yanchor": "bottom",
          "yref": "paper"
         },
         {
          "font": {
           "size": 16
          },
          "showarrow": false,
          "text": "Univ. of California - San Diego Positive",
          "x": 0.041,
          "xanchor": "center",
          "xref": "paper",
          "y": 0.8194444444444444,
          "yanchor": "bottom",
          "yref": "paper"
         },
         {
          "font": {
           "size": 16
          },
          "showarrow": false,
          "text": "Univ. of California - San Diego Negative",
          "x": 0.14300000000000002,
          "xanchor": "center",
          "xref": "paper",
          "y": 0.8194444444444444,
          "yanchor": "bottom",
          "yref": "paper"
         },
         {
          "font": {
           "size": 16
          },
          "showarrow": false,
          "text": "Univ. of Illinois at Urbana-Champaign Positive",
          "x": 0.24500000000000002,
          "xanchor": "center",
          "xref": "paper",
          "y": 0.8194444444444444,
          "yanchor": "bottom",
          "yref": "paper"
         },
         {
          "font": {
           "size": 16
          },
          "showarrow": false,
          "text": "Univ. of Illinois at Urbana-Champaign Negative",
          "x": 0.347,
          "xanchor": "center",
          "xref": "paper",
          "y": 0.8194444444444444,
          "yanchor": "bottom",
          "yref": "paper"
         },
         {
          "font": {
           "size": 16
          },
          "showarrow": false,
          "text": "University of Wisconsin - Madison Positive",
          "x": 0.44900000000000007,
          "xanchor": "center",
          "xref": "paper",
          "y": 0.8194444444444444,
          "yanchor": "bottom",
          "yref": "paper"
         },
         {
          "font": {
           "size": 16
          },
          "showarrow": false,
          "text": "University of Wisconsin - Madison Negative",
          "x": 0.5509999999999999,
          "xanchor": "center",
          "xref": "paper",
          "y": 0.8194444444444444,
          "yanchor": "bottom",
          "yref": "paper"
         },
         {
          "font": {
           "size": 16
          },
          "showarrow": false,
          "text": "Cornell University Positive",
          "x": 0.653,
          "xanchor": "center",
          "xref": "paper",
          "y": 0.8194444444444444,
          "yanchor": "bottom",
          "yref": "paper"
         },
         {
          "font": {
           "size": 16
          },
          "showarrow": false,
          "text": "Cornell University Negative",
          "x": 0.7550000000000001,
          "xanchor": "center",
          "xref": "paper",
          "y": 0.8194444444444444,
          "yanchor": "bottom",
          "yref": "paper"
         },
         {
          "font": {
           "size": 16
          },
          "showarrow": false,
          "text": "University of Michigan Positive",
          "x": 0.857,
          "xanchor": "center",
          "xref": "paper",
          "y": 0.8194444444444444,
          "yanchor": "bottom",
          "yref": "paper"
         },
         {
          "font": {
           "size": 16
          },
          "showarrow": false,
          "text": "University of Michigan Negative",
          "x": 0.9589999999999999,
          "xanchor": "center",
          "xref": "paper",
          "y": 0.8194444444444444,
          "yanchor": "bottom",
          "yref": "paper"
         },
         {
          "font": {
           "size": 16
          },
          "showarrow": false,
          "text": "University of Toronto Positive",
          "x": 0.041,
          "xanchor": "center",
          "xref": "paper",
          "y": 0.638888888888889,
          "yanchor": "bottom",
          "yref": "paper"
         },
         {
          "font": {
           "size": 16
          },
          "showarrow": false,
          "text": "University of Toronto Negative",
          "x": 0.14300000000000002,
          "xanchor": "center",
          "xref": "paper",
          "y": 0.638888888888889,
          "yanchor": "bottom",
          "yref": "paper"
         },
         {
          "font": {
           "size": 16
          },
          "showarrow": false,
          "text": "Georgia Institute of Technology Positive",
          "x": 0.24500000000000002,
          "xanchor": "center",
          "xref": "paper",
          "y": 0.638888888888889,
          "yanchor": "bottom",
          "yref": "paper"
         },
         {
          "font": {
           "size": 16
          },
          "showarrow": false,
          "text": "Georgia Institute of Technology Negative",
          "x": 0.347,
          "xanchor": "center",
          "xref": "paper",
          "y": 0.638888888888889,
          "yanchor": "bottom",
          "yref": "paper"
         },
         {
          "font": {
           "size": 16
          },
          "showarrow": false,
          "text": "Univ. of California - Irvine Positive",
          "x": 0.44900000000000007,
          "xanchor": "center",
          "xref": "paper",
          "y": 0.638888888888889,
          "yanchor": "bottom",
          "yref": "paper"
         },
         {
          "font": {
           "size": 16
          },
          "showarrow": false,
          "text": "Univ. of California - Irvine Negative",
          "x": 0.5509999999999999,
          "xanchor": "center",
          "xref": "paper",
          "y": 0.638888888888889,
          "yanchor": "bottom",
          "yref": "paper"
         },
         {
          "font": {
           "size": 16
          },
          "showarrow": false,
          "text": "Univ. of California - Los Angeles Positive",
          "x": 0.653,
          "xanchor": "center",
          "xref": "paper",
          "y": 0.638888888888889,
          "yanchor": "bottom",
          "yref": "paper"
         },
         {
          "font": {
           "size": 16
          },
          "showarrow": false,
          "text": "Univ. of California - Los Angeles Negative",
          "x": 0.7550000000000001,
          "xanchor": "center",
          "xref": "paper",
          "y": 0.638888888888889,
          "yanchor": "bottom",
          "yref": "paper"
         },
         {
          "font": {
           "size": 16
          },
          "showarrow": false,
          "text": "University of Texas at Austin Positive",
          "x": 0.857,
          "xanchor": "center",
          "xref": "paper",
          "y": 0.638888888888889,
          "yanchor": "bottom",
          "yref": "paper"
         },
         {
          "font": {
           "size": 16
          },
          "showarrow": false,
          "text": "University of Texas at Austin Negative",
          "x": 0.9589999999999999,
          "xanchor": "center",
          "xref": "paper",
          "y": 0.638888888888889,
          "yanchor": "bottom",
          "yref": "paper"
         },
         {
          "font": {
           "size": 16
          },
          "showarrow": false,
          "text": "University of Massachusetts Amherst Positive",
          "x": 0.041,
          "xanchor": "center",
          "xref": "paper",
          "y": 0.4583333333333333,
          "yanchor": "bottom",
          "yref": "paper"
         },
         {
          "font": {
           "size": 16
          },
          "showarrow": false,
          "text": "University of Massachusetts Amherst Negative",
          "x": 0.14300000000000002,
          "xanchor": "center",
          "xref": "paper",
          "y": 0.4583333333333333,
          "yanchor": "bottom",
          "yref": "paper"
         },
         {
          "font": {
           "size": 16
          },
          "showarrow": false,
          "text": "University of Maryland - College Park Positive",
          "x": 0.24500000000000002,
          "xanchor": "center",
          "xref": "paper",
          "y": 0.4583333333333333,
          "yanchor": "bottom",
          "yref": "paper"
         },
         {
          "font": {
           "size": 16
          },
          "showarrow": false,
          "text": "University of Maryland - College Park Negative",
          "x": 0.347,
          "xanchor": "center",
          "xref": "paper",
          "y": 0.4583333333333333,
          "yanchor": "bottom",
          "yref": "paper"
         },
         {
          "font": {
           "size": 16
          },
          "showarrow": false,
          "text": "Columbia University Positive",
          "x": 0.44900000000000007,
          "xanchor": "center",
          "xref": "paper",
          "y": 0.4583333333333333,
          "yanchor": "bottom",
          "yref": "paper"
         },
         {
          "font": {
           "size": 16
          },
          "showarrow": false,
          "text": "Columbia University Negative",
          "x": 0.5509999999999999,
          "xanchor": "center",
          "xref": "paper",
          "y": 0.4583333333333333,
          "yanchor": "bottom",
          "yref": "paper"
         },
         {
          "font": {
           "size": 16
          },
          "showarrow": false,
          "text": "Princeton University Positive",
          "x": 0.653,
          "xanchor": "center",
          "xref": "paper",
          "y": 0.4583333333333333,
          "yanchor": "bottom",
          "yref": "paper"
         },
         {
          "font": {
           "size": 16
          },
          "showarrow": false,
          "text": "Princeton University Negative",
          "x": 0.7550000000000001,
          "xanchor": "center",
          "xref": "paper",
          "y": 0.4583333333333333,
          "yanchor": "bottom",
          "yref": "paper"
         },
         {
          "font": {
           "size": 16
          },
          "showarrow": false,
          "text": "University of Pennsylvania Positive",
          "x": 0.857,
          "xanchor": "center",
          "xref": "paper",
          "y": 0.4583333333333333,
          "yanchor": "bottom",
          "yref": "paper"
         },
         {
          "font": {
           "size": 16
          },
          "showarrow": false,
          "text": "University of Pennsylvania Negative",
          "x": 0.9589999999999999,
          "xanchor": "center",
          "xref": "paper",
          "y": 0.4583333333333333,
          "yanchor": "bottom",
          "yref": "paper"
         },
         {
          "font": {
           "size": 16
          },
          "showarrow": false,
          "text": "New York University Positive",
          "x": 0.041,
          "xanchor": "center",
          "xref": "paper",
          "y": 0.2777777777777778,
          "yanchor": "bottom",
          "yref": "paper"
         },
         {
          "font": {
           "size": 16
          },
          "showarrow": false,
          "text": "New York University Negative",
          "x": 0.14300000000000002,
          "xanchor": "center",
          "xref": "paper",
          "y": 0.2777777777777778,
          "yanchor": "bottom",
          "yref": "paper"
         },
         {
          "font": {
           "size": 16
          },
          "showarrow": false,
          "text": "Purdue University Positive",
          "x": 0.24500000000000002,
          "xanchor": "center",
          "xref": "paper",
          "y": 0.2777777777777778,
          "yanchor": "bottom",
          "yref": "paper"
         },
         {
          "font": {
           "size": 16
          },
          "showarrow": false,
          "text": "Purdue University Negative",
          "x": 0.347,
          "xanchor": "center",
          "xref": "paper",
          "y": 0.2777777777777778,
          "yanchor": "bottom",
          "yref": "paper"
         },
         {
          "font": {
           "size": 16
          },
          "showarrow": false,
          "text": "University of Waterloo Positive",
          "x": 0.44900000000000007,
          "xanchor": "center",
          "xref": "paper",
          "y": 0.2777777777777778,
          "yanchor": "bottom",
          "yref": "paper"
         },
         {
          "font": {
           "size": 16
          },
          "showarrow": false,
          "text": "University of Waterloo Negative",
          "x": 0.5509999999999999,
          "xanchor": "center",
          "xref": "paper",
          "y": 0.2777777777777778,
          "yanchor": "bottom",
          "yref": "paper"
         },
         {
          "font": {
           "size": 16
          },
          "showarrow": false,
          "text": "Univ. of California - Santa Barbara Positive",
          "x": 0.653,
          "xanchor": "center",
          "xref": "paper",
          "y": 0.2777777777777778,
          "yanchor": "bottom",
          "yref": "paper"
         },
         {
          "font": {
           "size": 16
          },
          "showarrow": false,
          "text": "Univ. of California - Santa Barbara Negative",
          "x": 0.7550000000000001,
          "xanchor": "center",
          "xref": "paper",
          "y": 0.2777777777777778,
          "yanchor": "bottom",
          "yref": "paper"
         },
         {
          "font": {
           "size": 16
          },
          "showarrow": false,
          "text": "Northeastern University Positive",
          "x": 0.857,
          "xanchor": "center",
          "xref": "paper",
          "y": 0.2777777777777778,
          "yanchor": "bottom",
          "yref": "paper"
         },
         {
          "font": {
           "size": 16
          },
          "showarrow": false,
          "text": "Northeastern University Negative",
          "x": 0.9589999999999999,
          "xanchor": "center",
          "xref": "paper",
          "y": 0.2777777777777778,
          "yanchor": "bottom",
          "yref": "paper"
         },
         {
          "font": {
           "size": 16
          },
          "showarrow": false,
          "text": "University of British Columbia Positive",
          "x": 0.041,
          "xanchor": "center",
          "xref": "paper",
          "y": 0.09722222222222222,
          "yanchor": "bottom",
          "yref": "paper"
         },
         {
          "font": {
           "size": 16
          },
          "showarrow": false,
          "text": "University of British Columbia Negative",
          "x": 0.14300000000000002,
          "xanchor": "center",
          "xref": "paper",
          "y": 0.09722222222222222,
          "yanchor": "bottom",
          "yref": "paper"
         },
         {
          "font": {
           "size": 16
          },
          "showarrow": false,
          "text": "University of Southern California Positive",
          "x": 0.24500000000000002,
          "xanchor": "center",
          "xref": "paper",
          "y": 0.09722222222222222,
          "yanchor": "bottom",
          "yref": "paper"
         },
         {
          "font": {
           "size": 16
          },
          "showarrow": false,
          "text": "University of Southern California Negative",
          "x": 0.347,
          "xanchor": "center",
          "xref": "paper",
          "y": 0.09722222222222222,
          "yanchor": "bottom",
          "yref": "paper"
         },
         {
          "font": {
           "size": 16
          },
          "showarrow": false,
          "text": "Rutgers University Positive",
          "x": 0.44900000000000007,
          "xanchor": "center",
          "xref": "paper",
          "y": 0.09722222222222222,
          "yanchor": "bottom",
          "yref": "paper"
         },
         {
          "font": {
           "size": 16
          },
          "showarrow": false,
          "text": "Rutgers University Negative",
          "x": 0.5509999999999999,
          "xanchor": "center",
          "xref": "paper",
          "y": 0.09722222222222222,
          "yanchor": "bottom",
          "yref": "paper"
         },
         {
          "font": {
           "size": 16
          },
          "showarrow": false,
          "text": "Univ. of California - Riverside Positive",
          "x": 0.653,
          "xanchor": "center",
          "xref": "paper",
          "y": 0.09722222222222222,
          "yanchor": "bottom",
          "yref": "paper"
         },
         {
          "font": {
           "size": 16
          },
          "showarrow": false,
          "text": "Univ. of California - Riverside Negative",
          "x": 0.7550000000000001,
          "xanchor": "center",
          "xref": "paper",
          "y": 0.09722222222222222,
          "yanchor": "bottom",
          "yref": "paper"
         },
         {
          "font": {
           "size": 16
          },
          "showarrow": false,
          "text": "Harvard University Positive",
          "x": 0.857,
          "xanchor": "center",
          "xref": "paper",
          "y": 0.09722222222222222,
          "yanchor": "bottom",
          "yref": "paper"
         },
         {
          "font": {
           "size": 16
          },
          "showarrow": false,
          "text": "Harvard University Negative",
          "x": 0.9589999999999999,
          "xanchor": "center",
          "xref": "paper",
          "y": 0.09722222222222222,
          "yanchor": "bottom",
          "yref": "paper"
         }
        ],
        "autosize": true,
        "showlegend": true,
        "template": {
         "data": {
          "bar": [
           {
            "error_x": {
             "color": "#2a3f5f"
            },
            "error_y": {
             "color": "#2a3f5f"
            },
            "marker": {
             "line": {
              "color": "#E5ECF6",
              "width": 0.5
             },
             "pattern": {
              "fillmode": "overlay",
              "size": 10,
              "solidity": 0.2
             }
            },
            "type": "bar"
           }
          ],
          "barpolar": [
           {
            "marker": {
             "line": {
              "color": "#E5ECF6",
              "width": 0.5
             },
             "pattern": {
              "fillmode": "overlay",
              "size": 10,
              "solidity": 0.2
             }
            },
            "type": "barpolar"
           }
          ],
          "carpet": [
           {
            "aaxis": {
             "endlinecolor": "#2a3f5f",
             "gridcolor": "white",
             "linecolor": "white",
             "minorgridcolor": "white",
             "startlinecolor": "#2a3f5f"
            },
            "baxis": {
             "endlinecolor": "#2a3f5f",
             "gridcolor": "white",
             "linecolor": "white",
             "minorgridcolor": "white",
             "startlinecolor": "#2a3f5f"
            },
            "type": "carpet"
           }
          ],
          "choropleth": [
           {
            "colorbar": {
             "outlinewidth": 0,
             "ticks": ""
            },
            "type": "choropleth"
           }
          ],
          "contour": [
           {
            "colorbar": {
             "outlinewidth": 0,
             "ticks": ""
            },
            "colorscale": [
             [
              0,
              "#0d0887"
             ],
             [
              0.1111111111111111,
              "#46039f"
             ],
             [
              0.2222222222222222,
              "#7201a8"
             ],
             [
              0.3333333333333333,
              "#9c179e"
             ],
             [
              0.4444444444444444,
              "#bd3786"
             ],
             [
              0.5555555555555556,
              "#d8576b"
             ],
             [
              0.6666666666666666,
              "#ed7953"
             ],
             [
              0.7777777777777778,
              "#fb9f3a"
             ],
             [
              0.8888888888888888,
              "#fdca26"
             ],
             [
              1,
              "#f0f921"
             ]
            ],
            "type": "contour"
           }
          ],
          "contourcarpet": [
           {
            "colorbar": {
             "outlinewidth": 0,
             "ticks": ""
            },
            "type": "contourcarpet"
           }
          ],
          "heatmap": [
           {
            "colorbar": {
             "outlinewidth": 0,
             "ticks": ""
            },
            "colorscale": [
             [
              0,
              "#0d0887"
             ],
             [
              0.1111111111111111,
              "#46039f"
             ],
             [
              0.2222222222222222,
              "#7201a8"
             ],
             [
              0.3333333333333333,
              "#9c179e"
             ],
             [
              0.4444444444444444,
              "#bd3786"
             ],
             [
              0.5555555555555556,
              "#d8576b"
             ],
             [
              0.6666666666666666,
              "#ed7953"
             ],
             [
              0.7777777777777778,
              "#fb9f3a"
             ],
             [
              0.8888888888888888,
              "#fdca26"
             ],
             [
              1,
              "#f0f921"
             ]
            ],
            "type": "heatmap"
           }
          ],
          "heatmapgl": [
           {
            "colorbar": {
             "outlinewidth": 0,
             "ticks": ""
            },
            "colorscale": [
             [
              0,
              "#0d0887"
             ],
             [
              0.1111111111111111,
              "#46039f"
             ],
             [
              0.2222222222222222,
              "#7201a8"
             ],
             [
              0.3333333333333333,
              "#9c179e"
             ],
             [
              0.4444444444444444,
              "#bd3786"
             ],
             [
              0.5555555555555556,
              "#d8576b"
             ],
             [
              0.6666666666666666,
              "#ed7953"
             ],
             [
              0.7777777777777778,
              "#fb9f3a"
             ],
             [
              0.8888888888888888,
              "#fdca26"
             ],
             [
              1,
              "#f0f921"
             ]
            ],
            "type": "heatmapgl"
           }
          ],
          "histogram": [
           {
            "marker": {
             "pattern": {
              "fillmode": "overlay",
              "size": 10,
              "solidity": 0.2
             }
            },
            "type": "histogram"
           }
          ],
          "histogram2d": [
           {
            "colorbar": {
             "outlinewidth": 0,
             "ticks": ""
            },
            "colorscale": [
             [
              0,
              "#0d0887"
             ],
             [
              0.1111111111111111,
              "#46039f"
             ],
             [
              0.2222222222222222,
              "#7201a8"
             ],
             [
              0.3333333333333333,
              "#9c179e"
             ],
             [
              0.4444444444444444,
              "#bd3786"
             ],
             [
              0.5555555555555556,
              "#d8576b"
             ],
             [
              0.6666666666666666,
              "#ed7953"
             ],
             [
              0.7777777777777778,
              "#fb9f3a"
             ],
             [
              0.8888888888888888,
              "#fdca26"
             ],
             [
              1,
              "#f0f921"
             ]
            ],
            "type": "histogram2d"
           }
          ],
          "histogram2dcontour": [
           {
            "colorbar": {
             "outlinewidth": 0,
             "ticks": ""
            },
            "colorscale": [
             [
              0,
              "#0d0887"
             ],
             [
              0.1111111111111111,
              "#46039f"
             ],
             [
              0.2222222222222222,
              "#7201a8"
             ],
             [
              0.3333333333333333,
              "#9c179e"
             ],
             [
              0.4444444444444444,
              "#bd3786"
             ],
             [
              0.5555555555555556,
              "#d8576b"
             ],
             [
              0.6666666666666666,
              "#ed7953"
             ],
             [
              0.7777777777777778,
              "#fb9f3a"
             ],
             [
              0.8888888888888888,
              "#fdca26"
             ],
             [
              1,
              "#f0f921"
             ]
            ],
            "type": "histogram2dcontour"
           }
          ],
          "mesh3d": [
           {
            "colorbar": {
             "outlinewidth": 0,
             "ticks": ""
            },
            "type": "mesh3d"
           }
          ],
          "parcoords": [
           {
            "line": {
             "colorbar": {
              "outlinewidth": 0,
              "ticks": ""
             }
            },
            "type": "parcoords"
           }
          ],
          "pie": [
           {
            "automargin": true,
            "type": "pie"
           }
          ],
          "scatter": [
           {
            "fillpattern": {
             "fillmode": "overlay",
             "size": 10,
             "solidity": 0.2
            },
            "type": "scatter"
           }
          ],
          "scatter3d": [
           {
            "line": {
             "colorbar": {
              "outlinewidth": 0,
              "ticks": ""
             }
            },
            "marker": {
             "colorbar": {
              "outlinewidth": 0,
              "ticks": ""
             }
            },
            "type": "scatter3d"
           }
          ],
          "scattercarpet": [
           {
            "marker": {
             "colorbar": {
              "outlinewidth": 0,
              "ticks": ""
             }
            },
            "type": "scattercarpet"
           }
          ],
          "scattergeo": [
           {
            "marker": {
             "colorbar": {
              "outlinewidth": 0,
              "ticks": ""
             }
            },
            "type": "scattergeo"
           }
          ],
          "scattergl": [
           {
            "marker": {
             "colorbar": {
              "outlinewidth": 0,
              "ticks": ""
             }
            },
            "type": "scattergl"
           }
          ],
          "scattermapbox": [
           {
            "marker": {
             "colorbar": {
              "outlinewidth": 0,
              "ticks": ""
             }
            },
            "type": "scattermapbox"
           }
          ],
          "scatterpolar": [
           {
            "marker": {
             "colorbar": {
              "outlinewidth": 0,
              "ticks": ""
             }
            },
            "type": "scatterpolar"
           }
          ],
          "scatterpolargl": [
           {
            "marker": {
             "colorbar": {
              "outlinewidth": 0,
              "ticks": ""
             }
            },
            "type": "scatterpolargl"
           }
          ],
          "scatterternary": [
           {
            "marker": {
             "colorbar": {
              "outlinewidth": 0,
              "ticks": ""
             }
            },
            "type": "scatterternary"
           }
          ],
          "surface": [
           {
            "colorbar": {
             "outlinewidth": 0,
             "ticks": ""
            },
            "colorscale": [
             [
              0,
              "#0d0887"
             ],
             [
              0.1111111111111111,
              "#46039f"
             ],
             [
              0.2222222222222222,
              "#7201a8"
             ],
             [
              0.3333333333333333,
              "#9c179e"
             ],
             [
              0.4444444444444444,
              "#bd3786"
             ],
             [
              0.5555555555555556,
              "#d8576b"
             ],
             [
              0.6666666666666666,
              "#ed7953"
             ],
             [
              0.7777777777777778,
              "#fb9f3a"
             ],
             [
              0.8888888888888888,
              "#fdca26"
             ],
             [
              1,
              "#f0f921"
             ]
            ],
            "type": "surface"
           }
          ],
          "table": [
           {
            "cells": {
             "fill": {
              "color": "#EBF0F8"
             },
             "line": {
              "color": "white"
             }
            },
            "header": {
             "fill": {
              "color": "#C8D4E3"
             },
             "line": {
              "color": "white"
             }
            },
            "type": "table"
           }
          ]
         },
         "layout": {
          "annotationdefaults": {
           "arrowcolor": "#2a3f5f",
           "arrowhead": 0,
           "arrowwidth": 1
          },
          "autotypenumbers": "strict",
          "coloraxis": {
           "colorbar": {
            "outlinewidth": 0,
            "ticks": ""
           }
          },
          "colorscale": {
           "diverging": [
            [
             0,
             "#8e0152"
            ],
            [
             0.1,
             "#c51b7d"
            ],
            [
             0.2,
             "#de77ae"
            ],
            [
             0.3,
             "#f1b6da"
            ],
            [
             0.4,
             "#fde0ef"
            ],
            [
             0.5,
             "#f7f7f7"
            ],
            [
             0.6,
             "#e6f5d0"
            ],
            [
             0.7,
             "#b8e186"
            ],
            [
             0.8,
             "#7fbc41"
            ],
            [
             0.9,
             "#4d9221"
            ],
            [
             1,
             "#276419"
            ]
           ],
           "sequential": [
            [
             0,
             "#0d0887"
            ],
            [
             0.1111111111111111,
             "#46039f"
            ],
            [
             0.2222222222222222,
             "#7201a8"
            ],
            [
             0.3333333333333333,
             "#9c179e"
            ],
            [
             0.4444444444444444,
             "#bd3786"
            ],
            [
             0.5555555555555556,
             "#d8576b"
            ],
            [
             0.6666666666666666,
             "#ed7953"
            ],
            [
             0.7777777777777778,
             "#fb9f3a"
            ],
            [
             0.8888888888888888,
             "#fdca26"
            ],
            [
             1,
             "#f0f921"
            ]
           ],
           "sequentialminus": [
            [
             0,
             "#0d0887"
            ],
            [
             0.1111111111111111,
             "#46039f"
            ],
            [
             0.2222222222222222,
             "#7201a8"
            ],
            [
             0.3333333333333333,
             "#9c179e"
            ],
            [
             0.4444444444444444,
             "#bd3786"
            ],
            [
             0.5555555555555556,
             "#d8576b"
            ],
            [
             0.6666666666666666,
             "#ed7953"
            ],
            [
             0.7777777777777778,
             "#fb9f3a"
            ],
            [
             0.8888888888888888,
             "#fdca26"
            ],
            [
             1,
             "#f0f921"
            ]
           ]
          },
          "colorway": [
           "#636efa",
           "#EF553B",
           "#00cc96",
           "#ab63fa",
           "#FFA15A",
           "#19d3f3",
           "#FF6692",
           "#B6E880",
           "#FF97FF",
           "#FECB52"
          ],
          "font": {
           "color": "#2a3f5f"
          },
          "geo": {
           "bgcolor": "white",
           "lakecolor": "white",
           "landcolor": "#E5ECF6",
           "showlakes": true,
           "showland": true,
           "subunitcolor": "white"
          },
          "hoverlabel": {
           "align": "left"
          },
          "hovermode": "closest",
          "mapbox": {
           "style": "light"
          },
          "paper_bgcolor": "white",
          "plot_bgcolor": "#E5ECF6",
          "polar": {
           "angularaxis": {
            "gridcolor": "white",
            "linecolor": "white",
            "ticks": ""
           },
           "bgcolor": "#E5ECF6",
           "radialaxis": {
            "gridcolor": "white",
            "linecolor": "white",
            "ticks": ""
           }
          },
          "scene": {
           "xaxis": {
            "backgroundcolor": "#E5ECF6",
            "gridcolor": "white",
            "gridwidth": 2,
            "linecolor": "white",
            "showbackground": true,
            "ticks": "",
            "zerolinecolor": "white"
           },
           "yaxis": {
            "backgroundcolor": "#E5ECF6",
            "gridcolor": "white",
            "gridwidth": 2,
            "linecolor": "white",
            "showbackground": true,
            "ticks": "",
            "zerolinecolor": "white"
           },
           "zaxis": {
            "backgroundcolor": "#E5ECF6",
            "gridcolor": "white",
            "gridwidth": 2,
            "linecolor": "white",
            "showbackground": true,
            "ticks": "",
            "zerolinecolor": "white"
           }
          },
          "shapedefaults": {
           "line": {
            "color": "#2a3f5f"
           }
          },
          "ternary": {
           "aaxis": {
            "gridcolor": "white",
            "linecolor": "white",
            "ticks": ""
           },
           "baxis": {
            "gridcolor": "white",
            "linecolor": "white",
            "ticks": ""
           },
           "bgcolor": "#E5ECF6",
           "caxis": {
            "gridcolor": "white",
            "linecolor": "white",
            "ticks": ""
           }
          },
          "title": {
           "x": 0.05
          },
          "xaxis": {
           "automargin": true,
           "gridcolor": "white",
           "linecolor": "white",
           "ticks": "",
           "title": {
            "standoff": 15
           },
           "zerolinecolor": "white",
           "zerolinewidth": 2
          },
          "yaxis": {
           "automargin": true,
           "gridcolor": "white",
           "linecolor": "white",
           "ticks": "",
           "title": {
            "standoff": 15
           },
           "zerolinecolor": "white",
           "zerolinewidth": 2
          }
         }
        },
        "title": {
         "text": "Stats contributions"
        }
       }
      },
      "image/png": "[encoded data removed]",
      "text/html": [
       "<div>                            <div id=\"048e0f80-6a24-443d-bedd-1d69b3b533fa\" class=\"plotly-graph-div\" style=\"height:525px; width:100%;\"></div>            <script type=\"text/javascript\">                require([\"plotly\"], function(Plotly) {                    window.PLOTLYENV=window.PLOTLYENV || {};                                    if (document.getElementById(\"048e0f80-6a24-443d-bedd-1d69b3b533fa\")) {                    Plotly.newPlot(                        \"048e0f80-6a24-443d-bedd-1d69b3b533fa\",                        [{\"hole\":0.4,\"hoverinfo\":\"label+percent\",\"labels\":[\"author_score_professors_sum\",\"author_score_professors_max\",\"author_score_scaled_professors_sum\",\"author_score_scaled_professors_mean\",\"author_score_scaled_doctorate_max\",\"author_score_scaled_avg_professors_sum\",\"author_score_scaled_avg_professors_max\",\"author_score_scaled_avg_professors_std\",\"author_score_scaled_avg_doctorate_sum\",\"author_score_scaled_avg_doctorate_mean\",\"paper_score_professors_sum\",\"paper_score_doctorate_max\",\"paper_score_scaled_professors_sum\",\"paper_score_scaled_doctorate_sum\",\"paper_score_scaled_avg_professors_sum\"],\"textinfo\":\"none\",\"values\":[0.02176167566973541,0.004277795986942349,0.22370826155363677,0.006233599830257692,0.007085537072921923,0.039371588679636804,0.004428953445249321,0.002822713017964766,0.01743047379860899,0.0018570877677345995,0.03312251571891605,0.008335876544799564,0.13619027633051325,0.01969248810427276,0.0354331790016728],\"type\":\"pie\",\"domain\":{\"x\":[0.0,0.082],\"y\":[0.9027777777777777,0.9999999999999999]}},{\"hole\":0.4,\"hoverinfo\":\"label+percent\",\"labels\":[\"author_score_scaled_professors_var\"],\"textinfo\":\"none\",\"values\":[0.0036908794743356708],\"type\":\"pie\",\"domain\":{\"x\":[0.10200000000000001,0.184],\"y\":[0.9027777777777777,0.9999999999999999]}},{\"hole\":0.4,\"hoverinfo\":\"label+percent\",\"labels\":[\"author_score_professors_sum\",\"author_score_professors_max\",\"author_score_scaled_professors_sum\",\"author_score_scaled_professors_mean\",\"author_score_scaled_doctorate_max\",\"author_score_scaled_avg_professors_sum\",\"author_score_scaled_avg_professors_max\",\"author_score_scaled_avg_professors_std\",\"author_score_scaled_avg_doctorate_sum\",\"author_score_scaled_avg_doctorate_mean\",\"paper_score_professors_sum\",\"paper_score_doctorate_max\",\"paper_score_scaled_professors_sum\",\"paper_score_scaled_doctorate_sum\",\"paper_score_scaled_avg_professors_sum\"],\"textinfo\":\"none\",\"values\":[0.011559297139425955,0.0028685902622868097,0.1387594674369508,0.006081921089606805,0.006276114277562989,0.014920386286987218,0.004347072651886287,0.0027130870136355153,0.015028112255082757,0.0018731712768048352,0.033135377870806365,0.007544834717146501,0.16154988043908733,0.02136886464120002,0.03132418917671009],\"type\":\"pie\",\"domain\":{\"x\":[0.20400000000000001,0.28600000000000003],\"y\":[0.9027777777777777,0.9999999999999999]}},{\"hole\":0.4,\"hoverinfo\":\"label+percent\",\"labels\":[\"author_score_scaled_professors_var\"],\"textinfo\":\"none\",\"values\":[0.005261185633468657],\"type\":\"pie\",\"domain\":{\"x\":[0.306,0.388],\"y\":[0.9027777777777777,0.9999999999999999]}},{\"hole\":0.4,\"hoverinfo\":\"label+percent\",\"labels\":[\"author_score_professors_sum\",\"author_score_professors_max\",\"author_score_scaled_professors_sum\",\"author_score_scaled_professors_mean\",\"author_score_scaled_doctorate_max\",\"author_score_scaled_avg_professors_sum\",\"author_score_scaled_avg_professors_max\",\"author_score_scaled_avg_professors_std\",\"author_score_scaled_avg_doctorate_sum\",\"author_score_scaled_avg_doctorate_mean\",\"paper_score_professors_sum\",\"paper_score_doctorate_max\",\"paper_score_scaled_professors_sum\",\"paper_score_scaled_doctorate_sum\",\"paper_score_scaled_avg_professors_sum\"],\"textinfo\":\"none\",\"values\":[0.014105829981101756,0.0036220430129799406,0.16673361583778534,0.007078474736733388,0.0046868675017908805,0.022713033544096164,0.004468036194641498,0.002837139943292918,0.022217401484137672,0.0018703965957824102,0.02546013272153922,0.00876057492052459,0.1064529755597583,0.0235724614965078,0.022821603650537765],\"type\":\"pie\",\"domain\":{\"x\":[0.40800000000000003,0.49000000000000005],\"y\":[0.9027777777777777,0.9999999999999999]}},{\"hole\":0.4,\"hoverinfo\":\"label+percent\",\"labels\":[\"author_score_scaled_professors_var\"],\"textinfo\":\"none\",\"values\":[0.006612373089021699],\"type\":\"pie\",\"domain\":{\"x\":[0.51,0.592],\"y\":[0.9027777777777777,0.9999999999999999]}},{\"hole\":0.4,\"hoverinfo\":\"label+percent\",\"labels\":[\"author_score_professors_sum\",\"author_score_professors_max\",\"author_score_scaled_professors_sum\",\"author_score_scaled_professors_mean\",\"author_score_scaled_avg_professors_sum\",\"author_score_scaled_avg_professors_max\",\"author_score_scaled_avg_professors_std\",\"paper_score_professors_sum\",\"paper_score_scaled_professors_sum\",\"paper_score_scaled_avg_professors_sum\"],\"textinfo\":\"none\",\"values\":[0.013605458450634017,0.0033896114545729442,0.14496548362759443,0.00778462231047265,0.021111505825901832,0.004448245021793991,0.002747407525263971,0.019059829413246923,0.06746895888405602,0.015687457490569875],\"type\":\"pie\",\"domain\":{\"x\":[0.6120000000000001,0.6940000000000001],\"y\":[0.9027777777777777,0.9999999999999999]}},{\"hole\":0.4,\"hoverinfo\":\"label+percent\",\"labels\":[\"author_score_scaled_professors_var\"],\"textinfo\":\"none\",\"values\":[0.007546957149848882],\"type\":\"pie\",\"domain\":{\"x\":[0.7140000000000001,0.796],\"y\":[0.9027777777777777,0.9999999999999999]}},{\"hole\":0.4,\"hoverinfo\":\"label+percent\",\"labels\":[\"author_score_professors_sum\",\"author_score_professors_max\",\"author_score_scaled_professors_sum\",\"author_score_scaled_professors_mean\",\"author_score_scaled_doctorate_max\",\"author_score_scaled_avg_professors_sum\",\"author_score_scaled_avg_professors_max\",\"author_score_scaled_avg_professors_std\",\"author_score_scaled_avg_doctorate_sum\",\"author_score_scaled_avg_doctorate_mean\",\"paper_score_professors_sum\",\"paper_score_doctorate_max\",\"paper_score_scaled_professors_sum\",\"paper_score_scaled_doctorate_sum\",\"paper_score_scaled_avg_professors_sum\"],\"textinfo\":\"none\",\"values\":[0.00901639443797794,0.002301327089500534,0.10678722150733547,0.004373246745571557,0.005272326383009749,0.01786114427640862,0.004448224438253072,0.002844103924328578,0.007025714977096787,0.0018221981951789847,0.036776170725519336,0.01085419403988593,0.12641008106830495,0.009564075924352853,0.03434741125242488],\"type\":\"pie\",\"domain\":{\"x\":[0.8160000000000001,0.898],\"y\":[0.9027777777777777,0.9999999999999999]}},{\"hole\":0.4,\"hoverinfo\":\"label+percent\",\"labels\":[\"author_score_scaled_professors_var\"],\"textinfo\":\"none\",\"values\":[0.00300862060018605],\"type\":\"pie\",\"domain\":{\"x\":[0.9179999999999999,0.9999999999999999],\"y\":[0.9027777777777777,0.9999999999999999]}},{\"hole\":0.4,\"hoverinfo\":\"label+percent\",\"labels\":[\"author_score_professors_sum\",\"author_score_professors_max\",\"author_score_scaled_professors_sum\",\"author_score_scaled_professors_mean\",\"author_score_scaled_avg_professors_sum\",\"author_score_scaled_avg_professors_max\",\"author_score_scaled_avg_professors_std\",\"paper_score_professors_sum\",\"paper_score_scaled_professors_sum\",\"paper_score_scaled_avg_professors_sum\"],\"textinfo\":\"none\",\"values\":[0.011114965875374071,0.003027010580476126,0.1306156641028686,0.006703290812845631,0.02903770881511447,0.004462976384650485,0.002229771505395458,0.01018322669479207,0.04116014528558609,0.009928740660127364],\"type\":\"pie\",\"domain\":{\"x\":[0.0,0.082],\"y\":[0.7222222222222222,0.8194444444444444]}},{\"hole\":0.4,\"hoverinfo\":\"label+percent\",\"labels\":[\"author_score_scaled_professors_var\"],\"textinfo\":\"none\",\"values\":[0.003496299608963679],\"type\":\"pie\",\"domain\":{\"x\":[0.10200000000000001,0.184],\"y\":[0.7222222222222222,0.8194444444444444]}},{\"hole\":0.4,\"hoverinfo\":\"label+percent\",\"labels\":[\"author_score_professors_sum\",\"author_score_professors_max\",\"author_score_scaled_professors_sum\",\"author_score_scaled_professors_mean\",\"author_score_scaled_avg_professors_sum\",\"author_score_scaled_avg_professors_max\",\"author_score_scaled_avg_professors_std\",\"paper_score_professors_sum\",\"paper_score_scaled_professors_sum\",\"paper_score_scaled_avg_professors_sum\"],\"textinfo\":\"none\",\"values\":[0.012225446056157795,0.004424106718698861,0.15084521983307514,0.009555897170945094,0.028151294826189978,0.0044467954528909425,0.0003616418671084754,0.00267539769521275,0.010702863558051522,0.0025191091238790566],\"type\":\"pie\",\"domain\":{\"x\":[0.20400000000000001,0.28600000000000003],\"y\":[0.7222222222222222,0.8194444444444444]}},{\"hole\":0.4,\"hoverinfo\":\"label+percent\",\"labels\":[\"author_score_scaled_professors_var\"],\"textinfo\":\"none\",\"values\":[0.004410863738519684],\"type\":\"pie\",\"domain\":{\"x\":[0.306,0.388],\"y\":[0.7222222222222222,0.8194444444444444]}},{\"hole\":0.4,\"hoverinfo\":\"label+percent\",\"labels\":[\"author_score_professors_sum\",\"author_score_professors_max\",\"author_score_scaled_professors_sum\",\"author_score_scaled_professors_mean\",\"author_score_scaled_avg_professors_sum\",\"author_score_scaled_avg_professors_max\",\"author_score_scaled_avg_professors_std\",\"paper_score_professors_sum\",\"paper_score_scaled_professors_sum\",\"paper_score_scaled_avg_professors_sum\"],\"textinfo\":\"none\",\"values\":[0.005758954437138175,0.0014823284206056959,0.09467512289552363,0.009477651684238772,0.018072686558930462,0.004462869704231421,0.00034080992201016393,0.002721100399437511,0.07084264617382008,0.0030336899683291183],\"type\":\"pie\",\"domain\":{\"x\":[0.40800000000000003,0.49000000000000005],\"y\":[0.7222222222222222,0.8194444444444444]}},{\"hole\":0.4,\"hoverinfo\":\"label+percent\",\"labels\":[\"author_score_scaled_professors_var\"],\"textinfo\":\"none\",\"values\":[0.010603802500534833],\"type\":\"pie\",\"domain\":{\"x\":[0.51,0.592],\"y\":[0.7222222222222222,0.8194444444444444]}},{\"hole\":0.4,\"hoverinfo\":\"label+percent\",\"labels\":[\"author_score_professors_sum\",\"author_score_professors_max\",\"author_score_scaled_professors_sum\",\"author_score_scaled_professors_mean\",\"author_score_scaled_doctorate_max\",\"author_score_scaled_avg_professors_sum\",\"author_score_scaled_avg_professors_max\",\"author_score_scaled_avg_professors_std\",\"author_score_scaled_avg_doctorate_sum\",\"author_score_scaled_avg_doctorate_mean\",\"paper_score_professors_sum\",\"paper_score_doctorate_max\",\"paper_score_scaled_professors_sum\",\"paper_score_scaled_doctorate_sum\",\"paper_score_scaled_avg_professors_sum\"],\"textinfo\":\"none\",\"values\":[0.010724267476136135,0.0033833171218781316,0.10339840627296414,0.006816455730206021,0.010252080150843376,0.018933440410303662,0.004448231679706793,0.002633850207777944,0.0077383811020491486,0.0018744960453822086,0.014923770123016178,0.007032467260150173,0.06984194580989103,0.015431034473477002,0.01169978591030326],\"type\":\"pie\",\"domain\":{\"x\":[0.6120000000000001,0.6940000000000001],\"y\":[0.7222222222222222,0.8194444444444444]}},{\"hole\":0.4,\"hoverinfo\":\"label+percent\",\"labels\":[\"author_score_scaled_professors_var\"],\"textinfo\":\"none\",\"values\":[0.0030905692050302545],\"type\":\"pie\",\"domain\":{\"x\":[0.7140000000000001,0.796],\"y\":[0.7222222222222222,0.8194444444444444]}},{\"hole\":0.4,\"hoverinfo\":\"label+percent\",\"labels\":[\"author_score_professors_sum\",\"author_score_professors_max\",\"author_score_scaled_professors_sum\",\"author_score_scaled_professors_mean\",\"author_score_scaled_doctorate_max\",\"author_score_scaled_avg_professors_sum\",\"author_score_scaled_avg_professors_max\",\"author_score_scaled_avg_professors_std\",\"author_score_scaled_avg_doctorate_sum\",\"author_score_scaled_avg_doctorate_mean\",\"paper_score_professors_sum\",\"paper_score_doctorate_max\",\"paper_score_scaled_professors_sum\",\"paper_score_scaled_doctorate_sum\",\"paper_score_scaled_avg_professors_sum\"],\"textinfo\":\"none\",\"values\":[0.009070289171212208,0.003226907751586488,0.11193126176606563,0.004986891238538025,0.003370037650938176,0.02341397948022903,0.00445634085116463,0.0029211062375022415,0.004613234200339387,0.00197421538604682,0.01633735797033654,0.0021056247821986825,0.06787911961325983,0.0017237096831532524,0.021714238939601695],\"type\":\"pie\",\"domain\":{\"x\":[0.8160000000000001,0.898],\"y\":[0.7222222222222222,0.8194444444444444]}},{\"hole\":0.4,\"hoverinfo\":\"label+percent\",\"labels\":[\"author_score_scaled_professors_var\"],\"textinfo\":\"none\",\"values\":[0.004646192431807936],\"type\":\"pie\",\"domain\":{\"x\":[0.9179999999999999,0.9999999999999999],\"y\":[0.7222222222222222,0.8194444444444444]}},{\"hole\":0.4,\"hoverinfo\":\"label+percent\",\"labels\":[\"author_score_professors_sum\",\"author_score_professors_max\",\"author_score_scaled_professors_sum\",\"author_score_scaled_professors_mean\",\"author_score_scaled_doctorate_max\",\"author_score_scaled_avg_professors_sum\",\"author_score_scaled_avg_professors_max\",\"author_score_scaled_avg_professors_std\",\"author_score_scaled_avg_doctorate_sum\",\"author_score_scaled_avg_doctorate_mean\",\"paper_score_professors_sum\",\"paper_score_doctorate_max\",\"paper_score_scaled_professors_sum\",\"paper_score_scaled_doctorate_sum\",\"paper_score_scaled_avg_professors_sum\"],\"textinfo\":\"none\",\"values\":[0.007072301529236056,0.0016419329224434673,0.07667815968886989,0.004571751939574701,0.003917911239775569,0.02511487681681586,0.004462825506038096,0.0023259351096531246,0.006239210255091634,0.0019301533210498959,0.010567721643680882,0.007670569809164799,0.074164707448084,0.03723672947665871,0.008612633970796028],\"type\":\"pie\",\"domain\":{\"x\":[0.0,0.082],\"y\":[0.5416666666666667,0.638888888888889]}},{\"hole\":0.4,\"hoverinfo\":\"label+percent\",\"labels\":[\"author_score_scaled_professors_var\"],\"textinfo\":\"none\",\"values\":[0.0014489229643340857],\"type\":\"pie\",\"domain\":{\"x\":[0.10200000000000001,0.184],\"y\":[0.5416666666666667,0.638888888888889]}},{\"hole\":0.4,\"hoverinfo\":\"label+percent\",\"labels\":[\"author_score_professors_sum\",\"author_score_professors_max\",\"author_score_scaled_professors_sum\",\"author_score_scaled_professors_mean\",\"author_score_scaled_doctorate_max\",\"author_score_scaled_avg_professors_sum\",\"author_score_scaled_avg_professors_max\",\"author_score_scaled_avg_professors_std\",\"author_score_scaled_avg_doctorate_sum\",\"author_score_scaled_avg_doctorate_mean\",\"paper_score_professors_sum\",\"paper_score_doctorate_max\",\"paper_score_scaled_professors_sum\",\"paper_score_scaled_doctorate_sum\",\"paper_score_scaled_avg_professors_sum\"],\"textinfo\":\"none\",\"values\":[0.010214934634065781,0.00245773315752873,0.10737337270793926,0.004918959124928753,0.0033119937805365417,0.03471251894639117,0.004467462328935349,0.0019792981142440903,0.0076550966090824695,0.0020056949447761273,0.006596891663718577,0.009304035408181826,0.025574523437317073,0.005517445939934883,0.006918889256379745],\"type\":\"pie\",\"domain\":{\"x\":[0.20400000000000001,0.28600000000000003],\"y\":[0.5416666666666667,0.638888888888889]}},{\"hole\":0.4,\"hoverinfo\":\"label+percent\",\"labels\":[\"author_score_scaled_professors_var\"],\"textinfo\":\"none\",\"values\":[0.0016362055049640091],\"type\":\"pie\",\"domain\":{\"x\":[0.306,0.388],\"y\":[0.5416666666666667,0.638888888888889]}},{\"hole\":0.4,\"hoverinfo\":\"label+percent\",\"labels\":[\"author_score_professors_sum\",\"author_score_professors_max\",\"author_score_scaled_professors_sum\",\"author_score_scaled_professors_mean\",\"author_score_scaled_avg_professors_sum\",\"author_score_scaled_avg_professors_max\",\"author_score_scaled_avg_professors_std\",\"paper_score_professors_sum\",\"paper_score_scaled_professors_sum\",\"paper_score_scaled_avg_professors_sum\"],\"textinfo\":\"none\",\"values\":[0.006295239025009543,0.0025568824004483597,0.06183019874234838,0.00491530369137,0.019252033485285782,0.004445658799832233,0.0022489775627741113,0.005672048043045637,0.023502327386735616,0.005805685113087972],\"type\":\"pie\",\"domain\":{\"x\":[0.40800000000000003,0.49000000000000005],\"y\":[0.5416666666666667,0.638888888888889]}},{\"hole\":0.4,\"hoverinfo\":\"label+percent\",\"labels\":[\"author_score_scaled_professors_var\"],\"textinfo\":\"none\",\"values\":[0.001567924404129395],\"type\":\"pie\",\"domain\":{\"x\":[0.51,0.592],\"y\":[0.5416666666666667,0.638888888888889]}},{\"hole\":0.4,\"hoverinfo\":\"label+percent\",\"labels\":[\"author_score_professors_sum\",\"author_score_professors_max\",\"author_score_scaled_professors_sum\",\"author_score_scaled_professors_mean\",\"author_score_scaled_avg_professors_sum\",\"author_score_scaled_avg_professors_max\",\"author_score_scaled_avg_professors_std\",\"paper_score_professors_sum\",\"paper_score_scaled_professors_sum\",\"paper_score_scaled_avg_professors_sum\"],\"textinfo\":\"none\",\"values\":[0.006927645559647976,0.0029463068933647724,0.06790967994301073,0.009333178181948763,0.010214676063489884,0.004382091321013519,0.0023355714357726235,0.0033669138790320694,0.02711215495756969,0.004574069526599793],\"type\":\"pie\",\"domain\":{\"x\":[0.6120000000000001,0.6940000000000001],\"y\":[0.5416666666666667,0.638888888888889]}},{\"hole\":0.4,\"hoverinfo\":\"label+percent\",\"labels\":[\"author_score_scaled_professors_var\"],\"textinfo\":\"none\",\"values\":[0.004692925798628784],\"type\":\"pie\",\"domain\":{\"x\":[0.7140000000000001,0.796],\"y\":[0.5416666666666667,0.638888888888889]}},{\"hole\":0.4,\"hoverinfo\":\"label+percent\",\"labels\":[\"author_score_professors_sum\",\"author_score_professors_max\",\"author_score_scaled_professors_sum\",\"author_score_scaled_professors_mean\",\"author_score_scaled_doctorate_max\",\"author_score_scaled_avg_professors_sum\",\"author_score_scaled_avg_professors_max\",\"author_score_scaled_avg_professors_std\",\"author_score_scaled_avg_doctorate_sum\",\"author_score_scaled_avg_doctorate_mean\",\"paper_score_professors_sum\",\"paper_score_doctorate_max\",\"paper_score_scaled_professors_sum\",\"paper_score_scaled_doctorate_sum\",\"paper_score_scaled_avg_professors_sum\"],\"textinfo\":\"none\",\"values\":[0.007092763347467824,0.002975367008118148,0.07238759473499633,0.006450191952937244,0.004618712978249132,0.013036198872062392,0.004428982699472294,0.0027351715198826137,0.007045876689689948,0.0019246309451820696,0.010595739273117208,0.001864061150213036,0.047911282071320116,0.005175797366966956,0.008525914412596253],\"type\":\"pie\",\"domain\":{\"x\":[0.8160000000000001,0.898],\"y\":[0.5416666666666667,0.638888888888889]}},{\"hole\":0.4,\"hoverinfo\":\"label+percent\",\"labels\":[\"author_score_scaled_professors_var\"],\"textinfo\":\"none\",\"values\":[0.0031757345410159455],\"type\":\"pie\",\"domain\":{\"x\":[0.9179999999999999,0.9999999999999999],\"y\":[0.5416666666666667,0.638888888888889]}},{\"hole\":0.4,\"hoverinfo\":\"label+percent\",\"labels\":[\"author_score_professors_sum\",\"author_score_professors_max\",\"author_score_scaled_professors_sum\",\"author_score_scaled_professors_mean\",\"author_score_scaled_doctorate_max\",\"author_score_scaled_avg_professors_sum\",\"author_score_scaled_avg_professors_max\",\"author_score_scaled_avg_professors_std\",\"author_score_scaled_avg_doctorate_sum\",\"author_score_scaled_avg_doctorate_mean\",\"paper_score_professors_sum\",\"paper_score_doctorate_max\",\"paper_score_scaled_professors_sum\",\"paper_score_scaled_doctorate_sum\",\"paper_score_scaled_avg_professors_sum\"],\"textinfo\":\"none\",\"values\":[0.0052121753520164085,0.002597188383090443,0.059774004301944676,0.005156254940501554,0.003692359404904677,0.015264022604403038,0.004458390278565142,0.0026019244224750153,0.004513153887120093,0.001964121773513316,0.007959663801094904,0.004140007892617062,0.06344142921588877,0.006660409877618411,0.0078502054700309],\"type\":\"pie\",\"domain\":{\"x\":[0.0,0.082],\"y\":[0.3611111111111111,0.4583333333333333]}},{\"hole\":0.4,\"hoverinfo\":\"label+percent\",\"labels\":[\"author_score_scaled_professors_var\"],\"textinfo\":\"none\",\"values\":[0.0028262186978243783],\"type\":\"pie\",\"domain\":{\"x\":[0.10200000000000001,0.184],\"y\":[0.3611111111111111,0.4583333333333333]}},{\"hole\":0.4,\"hoverinfo\":\"label+percent\",\"labels\":[\"author_score_professors_sum\",\"author_score_professors_max\",\"author_score_scaled_professors_sum\",\"author_score_scaled_professors_mean\",\"author_score_scaled_doctorate_max\",\"author_score_scaled_avg_professors_sum\",\"author_score_scaled_avg_professors_max\",\"author_score_scaled_avg_professors_std\",\"author_score_scaled_avg_doctorate_sum\",\"author_score_scaled_avg_doctorate_mean\",\"paper_score_professors_sum\",\"paper_score_doctorate_max\",\"paper_score_scaled_professors_sum\",\"paper_score_scaled_doctorate_sum\",\"paper_score_scaled_avg_professors_sum\"],\"textinfo\":\"none\",\"values\":[0.008790916054570075,0.0027772336045181097,0.08520494178773248,0.005709910472741466,0.003409964558802023,0.02240417534358527,0.004456446337241686,0.0022052086245255226,0.0052959013994686825,0.0019707479323100457,0.007516823931228468,0.002968164487421855,0.033132182717204646,0.0025721113659694203,0.006265116740876041],\"type\":\"pie\",\"domain\":{\"x\":[0.20400000000000001,0.28600000000000003],\"y\":[0.3611111111111111,0.4583333333333333]}},{\"hole\":0.4,\"hoverinfo\":\"label+percent\",\"labels\":[\"author_score_scaled_professors_var\"],\"textinfo\":\"none\",\"values\":[0.0022915013436185963],\"type\":\"pie\",\"domain\":{\"x\":[0.306,0.388],\"y\":[0.3611111111111111,0.4583333333333333]}},{\"hole\":0.4,\"hoverinfo\":\"label+percent\",\"labels\":[\"author_score_professors_sum\",\"author_score_professors_max\",\"author_score_scaled_professors_sum\",\"author_score_scaled_professors_mean\",\"author_score_scaled_doctorate_max\",\"author_score_scaled_avg_professors_sum\",\"author_score_scaled_avg_professors_max\",\"author_score_scaled_avg_professors_std\",\"author_score_scaled_avg_doctorate_sum\",\"author_score_scaled_avg_doctorate_mean\",\"paper_score_professors_sum\",\"paper_score_doctorate_max\",\"paper_score_scaled_professors_sum\",\"paper_score_scaled_doctorate_sum\",\"paper_score_scaled_avg_professors_sum\"],\"textinfo\":\"none\",\"values\":[0.008932682279206327,0.003109123102177671,0.08244696121750761,0.008356694994492908,0.003052689165863863,0.013779403499691006,0.004403387455119809,0.002300344121918165,0.003673045926149981,0.0019247332913523004,0.007655588767401543,0.004000640102969267,0.03529502745674883,0.005363445231894078,0.006925904411757013],\"type\":\"pie\",\"domain\":{\"x\":[0.40800000000000003,0.49000000000000005],\"y\":[0.3611111111111111,0.4583333333333333]}},{\"hole\":0.4,\"hoverinfo\":\"label+percent\",\"labels\":[\"author_score_scaled_professors_var\"],\"textinfo\":\"none\",\"values\":[0.00377672734663747],\"type\":\"pie\",\"domain\":{\"x\":[0.51,0.592],\"y\":[0.3611111111111111,0.4583333333333333]}},{\"hole\":0.4,\"hoverinfo\":\"label+percent\",\"labels\":[\"author_score_professors_sum\",\"author_score_professors_max\",\"author_score_scaled_professors_sum\",\"author_score_scaled_professors_mean\",\"author_score_scaled_doctorate_max\",\"author_score_scaled_avg_professors_sum\",\"author_score_scaled_avg_professors_max\",\"author_score_scaled_avg_professors_std\",\"author_score_scaled_avg_doctorate_sum\",\"author_score_scaled_avg_doctorate_mean\",\"paper_score_professors_sum\",\"paper_score_doctorate_max\",\"paper_score_scaled_professors_sum\",\"paper_score_scaled_doctorate_sum\",\"paper_score_scaled_avg_professors_sum\"],\"textinfo\":\"none\",\"values\":[0.005584037663407341,0.0022444826937133406,0.0673615250328614,0.007187009247499306,0.005095437507303065,0.01346611707178565,0.004448227402287668,0.0023398108983726843,0.006008113247514447,0.0018586614753798789,0.009276693561898943,0.011225172935958181,0.03581662299194128,0.00742900185721165,0.005476607506329376],\"type\":\"pie\",\"domain\":{\"x\":[0.6120000000000001,0.6940000000000001],\"y\":[0.3611111111111111,0.4583333333333333]}},{\"hole\":0.4,\"hoverinfo\":\"label+percent\",\"labels\":[\"author_score_scaled_professors_var\"],\"textinfo\":\"none\",\"values\":[0.0036001146705041983],\"type\":\"pie\",\"domain\":{\"x\":[0.7140000000000001,0.796],\"y\":[0.3611111111111111,0.4583333333333333]}},{\"hole\":0.4,\"hoverinfo\":\"label+percent\",\"labels\":[\"author_score_professors_sum\",\"author_score_professors_max\",\"author_score_scaled_professors_sum\",\"author_score_scaled_professors_mean\",\"author_score_scaled_doctorate_max\",\"author_score_scaled_avg_professors_sum\",\"author_score_scaled_avg_professors_max\",\"author_score_scaled_avg_professors_std\",\"author_score_scaled_avg_doctorate_sum\",\"author_score_scaled_avg_doctorate_mean\",\"paper_score_professors_sum\",\"paper_score_doctorate_max\",\"paper_score_scaled_professors_sum\",\"paper_score_scaled_doctorate_sum\",\"paper_score_scaled_avg_professors_sum\"],\"textinfo\":\"none\",\"values\":[0.00903826983620093,0.004159912737593493,0.08568661407038099,0.008794998621749832,0.003003531091229767,0.016217202864714775,0.004426416627278134,0.0013208508821377924,0.004977575842483355,0.0018795299604730275,0.00471330733282404,0.009228900305158457,0.018421292086612095,0.009534414228149173,0.0024994865723475266],\"type\":\"pie\",\"domain\":{\"x\":[0.8160000000000001,0.898],\"y\":[0.3611111111111111,0.4583333333333333]}},{\"hole\":0.4,\"hoverinfo\":\"label+percent\",\"labels\":[\"author_score_scaled_professors_var\"],\"textinfo\":\"none\",\"values\":[0.004070382793366707],\"type\":\"pie\",\"domain\":{\"x\":[0.9179999999999999,0.9999999999999999],\"y\":[0.3611111111111111,0.4583333333333333]}},{\"hole\":0.4,\"hoverinfo\":\"label+percent\",\"labels\":[\"author_score_professors_sum\",\"author_score_professors_max\",\"author_score_scaled_professors_sum\",\"author_score_scaled_professors_mean\",\"author_score_scaled_doctorate_max\",\"author_score_scaled_avg_professors_sum\",\"author_score_scaled_avg_professors_max\",\"author_score_scaled_avg_professors_std\",\"author_score_scaled_avg_doctorate_sum\",\"author_score_scaled_avg_doctorate_mean\",\"paper_score_professors_sum\",\"paper_score_doctorate_max\",\"paper_score_scaled_professors_sum\",\"paper_score_scaled_doctorate_sum\",\"paper_score_scaled_avg_professors_sum\"],\"textinfo\":\"none\",\"values\":[0.005854690191382992,0.0017754202289677395,0.0565408383920441,0.005209900833631532,0.0032468181799216195,0.016117952202652372,0.004467472195533665,0.002130384791041694,0.0025467574539511165,0.0018683568180864756,0.006313550099155333,0.002344155753383391,0.04168098683713653,0.0022194258611509944,0.004857294744897436],\"type\":\"pie\",\"domain\":{\"x\":[0.0,0.082],\"y\":[0.18055555555555555,0.2777777777777778]}},{\"hole\":0.4,\"hoverinfo\":\"label+percent\",\"labels\":[\"author_score_scaled_professors_var\"],\"textinfo\":\"none\",\"values\":[0.0012923309620398206],\"type\":\"pie\",\"domain\":{\"x\":[0.10200000000000001,0.184],\"y\":[0.18055555555555555,0.2777777777777778]}},{\"hole\":0.4,\"hoverinfo\":\"label+percent\",\"labels\":[\"author_score_professors_sum\",\"author_score_professors_max\",\"author_score_scaled_professors_sum\",\"author_score_scaled_professors_mean\",\"author_score_scaled_doctorate_max\",\"author_score_scaled_avg_professors_sum\",\"author_score_scaled_avg_professors_max\",\"author_score_scaled_avg_professors_std\",\"author_score_scaled_avg_doctorate_sum\",\"author_score_scaled_avg_doctorate_mean\",\"paper_score_professors_sum\",\"paper_score_doctorate_max\",\"paper_score_scaled_professors_sum\",\"paper_score_scaled_doctorate_sum\",\"paper_score_scaled_avg_professors_sum\"],\"textinfo\":\"none\",\"values\":[0.005637558726624494,0.0015727273252735523,0.0725088655653335,0.005879508134473355,0.004098579321086507,0.019543245869280787,0.004462904649577596,0.001935383462776242,0.004199090046045096,0.001960346212568197,0.003414067596476401,0.001865762242374228,0.017797056567061816,0.0007874264587057543,0.0034855932038357763],\"type\":\"pie\",\"domain\":{\"x\":[0.20400000000000001,0.28600000000000003],\"y\":[0.18055555555555555,0.2777777777777778]}},{\"hole\":0.4,\"hoverinfo\":\"label+percent\",\"labels\":[\"author_score_scaled_professors_var\"],\"textinfo\":\"none\",\"values\":[0.0023847743535930317],\"type\":\"pie\",\"domain\":{\"x\":[0.306,0.388],\"y\":[0.18055555555555555,0.2777777777777778]}},{\"hole\":0.4,\"hoverinfo\":\"label+percent\",\"labels\":[\"author_score_professors_sum\",\"author_score_professors_max\",\"author_score_scaled_professors_sum\",\"author_score_scaled_professors_mean\",\"author_score_scaled_doctorate_max\",\"author_score_scaled_avg_professors_sum\",\"author_score_scaled_avg_professors_max\",\"author_score_scaled_avg_professors_std\",\"author_score_scaled_avg_doctorate_sum\",\"author_score_scaled_avg_doctorate_mean\",\"paper_score_professors_sum\",\"paper_score_doctorate_max\",\"paper_score_scaled_professors_sum\",\"paper_score_scaled_doctorate_sum\",\"paper_score_scaled_avg_professors_sum\"],\"textinfo\":\"none\",\"values\":[0.006118016759414397,0.0011095434364095614,0.05970837215311001,0.0038122501941227796,0.005145757291868381,0.025246868944654277,0.004463061629396751,0.00194032556649914,0.001556721498533471,0.001903408077550046,0.00604314820930935,0.001715083708563321,0.020659746396617572,0.000277976503202707,0.004574750138414209],\"type\":\"pie\",\"domain\":{\"x\":[0.40800000000000003,0.49000000000000005],\"y\":[0.18055555555555555,0.2777777777777778]}},{\"hole\":0.4,\"hoverinfo\":\"label+percent\",\"labels\":[\"author_score_scaled_professors_var\"],\"textinfo\":\"none\",\"values\":[0.001262498231010245],\"type\":\"pie\",\"domain\":{\"x\":[0.51,0.592],\"y\":[0.18055555555555555,0.2777777777777778]}},{\"hole\":0.4,\"hoverinfo\":\"label+percent\",\"labels\":[\"author_score_professors_sum\",\"author_score_professors_max\",\"author_score_scaled_professors_sum\",\"author_score_scaled_professors_mean\",\"author_score_scaled_avg_professors_sum\",\"author_score_scaled_avg_professors_max\",\"author_score_scaled_avg_professors_std\",\"paper_score_professors_sum\",\"paper_score_scaled_professors_sum\",\"paper_score_scaled_avg_professors_sum\"],\"textinfo\":\"none\",\"values\":[0.004439448821791383,0.001678334673512177,0.05631465896993637,0.00951327620774113,0.010056525478919949,0.004429567284707463,0.0012107876726128396,0.0014987329374350751,0.010614548028020417,0.0009207794078655197],\"type\":\"pie\",\"domain\":{\"x\":[0.6120000000000001,0.6940000000000001],\"y\":[0.18055555555555555,0.2777777777777778]}},{\"hole\":0.4,\"hoverinfo\":\"label+percent\",\"labels\":[\"author_score_scaled_professors_var\"],\"textinfo\":\"none\",\"values\":[0.0036102573311233956],\"type\":\"pie\",\"domain\":{\"x\":[0.7140000000000001,0.796],\"y\":[0.18055555555555555,0.2777777777777778]}},{\"hole\":0.4,\"hoverinfo\":\"label+percent\",\"labels\":[\"author_score_professors_sum\",\"author_score_professors_max\",\"author_score_scaled_professors_sum\",\"author_score_scaled_professors_mean\",\"author_score_scaled_doctorate_max\",\"author_score_scaled_avg_professors_sum\",\"author_score_scaled_avg_professors_max\",\"author_score_scaled_avg_professors_std\",\"author_score_scaled_avg_doctorate_sum\",\"author_score_scaled_avg_doctorate_mean\",\"paper_score_professors_sum\",\"paper_score_scaled_professors_sum\",\"paper_score_scaled_avg_professors_sum\"],\"textinfo\":\"none\",\"values\":[0.005041852536860995,0.0013539021564567112,0.06648431305048491,0.005337620555291269,0.0007912458799789203,0.01883684845299418,0.004448224438253072,0.002162340147702967,0.0007753436463840643,0.001990831537734357,0.001978013715918486,0.0054586880082989194,0.004409197869123309],\"type\":\"pie\",\"domain\":{\"x\":[0.8160000000000001,0.898],\"y\":[0.18055555555555555,0.2777777777777778]}},{\"hole\":0.4,\"hoverinfo\":\"label+percent\",\"labels\":[\"author_score_scaled_professors_var\"],\"textinfo\":\"none\",\"values\":[0.0016600672259960568],\"type\":\"pie\",\"domain\":{\"x\":[0.9179999999999999,0.9999999999999999],\"y\":[0.18055555555555555,0.2777777777777778]}},{\"hole\":0.4,\"hoverinfo\":\"label+percent\",\"labels\":[\"author_score_professors_sum\",\"author_score_professors_max\",\"author_score_scaled_professors_sum\",\"author_score_scaled_professors_mean\",\"author_score_scaled_doctorate_max\",\"author_score_scaled_avg_professors_sum\",\"author_score_scaled_avg_professors_max\",\"author_score_scaled_avg_professors_std\",\"author_score_scaled_avg_doctorate_sum\",\"author_score_scaled_avg_doctorate_mean\",\"paper_score_professors_sum\",\"paper_score_doctorate_max\",\"paper_score_scaled_professors_sum\",\"paper_score_scaled_doctorate_sum\",\"paper_score_scaled_avg_professors_sum\"],\"textinfo\":\"none\",\"values\":[0.004857559574062754,0.0016149895102146275,0.04818968811505185,0.0038688565472678837,0.0016193036082091908,0.014742687892527785,0.004436038111495433,0.0028202734027698803,0.0018203823260755166,0.002032240274802131,0.008256830647910005,0.005658674314420191,0.024297813892479977,0.0009174759082112168,0.009742869265899465],\"type\":\"pie\",\"domain\":{\"x\":[0.0,0.082],\"y\":[0.0,0.09722222222222222]}},{\"hole\":0.4,\"hoverinfo\":\"label+percent\",\"labels\":[\"author_score_scaled_professors_var\"],\"textinfo\":\"none\",\"values\":[0.0012674820087559963],\"type\":\"pie\",\"domain\":{\"x\":[0.10200000000000001,0.184],\"y\":[0.0,0.09722222222222222]}},{\"hole\":0.4,\"hoverinfo\":\"label+percent\",\"labels\":[\"author_score_professors_sum\",\"author_score_professors_max\",\"author_score_scaled_professors_sum\",\"author_score_scaled_professors_mean\",\"author_score_scaled_doctorate_max\",\"author_score_scaled_avg_professors_sum\",\"author_score_scaled_avg_professors_max\",\"author_score_scaled_avg_professors_std\",\"author_score_scaled_avg_doctorate_sum\",\"author_score_scaled_avg_doctorate_mean\",\"paper_score_professors_sum\",\"paper_score_doctorate_max\",\"paper_score_scaled_professors_sum\",\"paper_score_scaled_doctorate_sum\",\"paper_score_scaled_avg_professors_sum\"],\"textinfo\":\"none\",\"values\":[0.006190128720391997,0.002974159096463036,0.060366758631784624,0.006196131854737085,0.002995944235205055,0.01562861271839244,0.00442287862728183,0.00178778676890872,0.0036915189872128115,0.0019747137436419747,0.003819713684276775,0.002418775148196074,0.019476371585330974,0.0004840726830901524,0.0039017278788907165],\"type\":\"pie\",\"domain\":{\"x\":[0.20400000000000001,0.28600000000000003],\"y\":[0.0,0.09722222222222222]}},{\"hole\":0.4,\"hoverinfo\":\"label+percent\",\"labels\":[\"author_score_scaled_professors_var\"],\"textinfo\":\"none\",\"values\":[0.002823042052733198],\"type\":\"pie\",\"domain\":{\"x\":[0.306,0.388],\"y\":[0.0,0.09722222222222222]}},{\"hole\":0.4,\"hoverinfo\":\"label+percent\",\"labels\":[\"author_score_professors_sum\",\"author_score_professors_max\",\"author_score_scaled_professors_sum\",\"author_score_scaled_professors_mean\",\"author_score_scaled_doctorate_max\",\"author_score_scaled_avg_professors_sum\",\"author_score_scaled_avg_professors_max\",\"author_score_scaled_avg_professors_std\",\"author_score_scaled_avg_doctorate_sum\",\"author_score_scaled_avg_doctorate_mean\",\"paper_score_professors_sum\",\"paper_score_scaled_professors_sum\",\"paper_score_scaled_avg_professors_sum\"],\"textinfo\":\"none\",\"values\":[0.004983914961363514,0.00218336271745218,0.042084870679242825,0.004611520699547277,0.0021355822272890552,0.012966109291161107,0.004468015715894696,0.002357144509290728,0.0014570373672784637,0.0019690528301892444,0.0026620511848341293,0.02745644149531136,0.004910809437682515],\"type\":\"pie\",\"domain\":{\"x\":[0.40800000000000003,0.49000000000000005],\"y\":[0.0,0.09722222222222222]}},{\"hole\":0.4,\"hoverinfo\":\"label+percent\",\"labels\":[\"author_score_scaled_professors_var\"],\"textinfo\":\"none\",\"values\":[0.001208589964714453],\"type\":\"pie\",\"domain\":{\"x\":[0.51,0.592],\"y\":[0.0,0.09722222222222222]}},{\"hole\":0.4,\"hoverinfo\":\"label+percent\",\"labels\":[\"author_score_professors_sum\",\"author_score_professors_max\",\"author_score_scaled_professors_sum\",\"author_score_scaled_professors_mean\",\"author_score_scaled_avg_professors_sum\",\"author_score_scaled_avg_professors_max\",\"author_score_scaled_avg_professors_std\",\"paper_score_professors_sum\",\"paper_score_scaled_professors_sum\",\"paper_score_scaled_avg_professors_sum\"],\"textinfo\":\"none\",\"values\":[0.0031086560224460377,0.0015465418965106973,0.04350552089680046,0.006299502186311482,0.011094173476934255,0.004412288083715327,0.0018297746455434303,0.0012917821444216801,0.011221495291184911,0.00179116650711799],\"type\":\"pie\",\"domain\":{\"x\":[0.6120000000000001,0.6940000000000001],\"y\":[0.0,0.09722222222222222]}},{\"hole\":0.4,\"hoverinfo\":\"label+percent\",\"labels\":[\"author_score_scaled_professors_var\"],\"textinfo\":\"none\",\"values\":[0.0029367235708018724],\"type\":\"pie\",\"domain\":{\"x\":[0.7140000000000001,0.796],\"y\":[0.0,0.09722222222222222]}},{\"hole\":0.4,\"hoverinfo\":\"label+percent\",\"labels\":[\"author_score_professors_sum\",\"author_score_professors_max\",\"author_score_scaled_professors_sum\",\"author_score_scaled_professors_mean\",\"author_score_scaled_doctorate_max\",\"author_score_scaled_avg_professors_sum\",\"author_score_scaled_avg_professors_max\",\"author_score_scaled_avg_professors_std\",\"author_score_scaled_avg_doctorate_sum\",\"author_score_scaled_avg_doctorate_mean\",\"paper_score_professors_sum\",\"paper_score_doctorate_max\",\"paper_score_scaled_professors_sum\",\"paper_score_scaled_doctorate_sum\",\"paper_score_scaled_avg_professors_sum\"],\"textinfo\":\"none\",\"values\":[0.005165739528124517,0.0020187167630356306,0.04703481919448922,0.008869536156311343,0.0037258293268083737,0.007218385764284942,0.004463123014654912,0.0023216564728329218,0.004017313188170609,0.0019102148206739035,0.004161917399270346,0.01021528297495412,0.01463360063104642,0.002557660836310608,0.0034385886726009834],\"type\":\"pie\",\"domain\":{\"x\":[0.8160000000000001,0.898],\"y\":[0.0,0.09722222222222222]}},{\"hole\":0.4,\"hoverinfo\":\"label+percent\",\"labels\":[\"author_score_scaled_professors_var\"],\"textinfo\":\"none\",\"values\":[0.003097933084425755],\"type\":\"pie\",\"domain\":{\"x\":[0.9179999999999999,0.9999999999999999],\"y\":[0.0,0.09722222222222222]}}],                        {\"template\":{\"data\":{\"histogram2dcontour\":[{\"type\":\"histogram2dcontour\",\"colorbar\":{\"outlinewidth\":0,\"ticks\":\"\"},\"colorscale\":[[0.0,\"#0d0887\"],[0.1111111111111111,\"#46039f\"],[0.2222222222222222,\"#7201a8\"],[0.3333333333333333,\"#9c179e\"],[0.4444444444444444,\"#bd3786\"],[0.5555555555555556,\"#d8576b\"],[0.6666666666666666,\"#ed7953\"],[0.7777777777777778,\"#fb9f3a\"],[0.8888888888888888,\"#fdca26\"],[1.0,\"#f0f921\"]]}],\"choropleth\":[{\"type\":\"choropleth\",\"colorbar\":{\"outlinewidth\":0,\"ticks\":\"\"}}],\"histogram2d\":[{\"type\":\"histogram2d\",\"colorbar\":{\"outlinewidth\":0,\"ticks\":\"\"},\"colorscale\":[[0.0,\"#0d0887\"],[0.1111111111111111,\"#46039f\"],[0.2222222222222222,\"#7201a8\"],[0.3333333333333333,\"#9c179e\"],[0.4444444444444444,\"#bd3786\"],[0.5555555555555556,\"#d8576b\"],[0.6666666666666666,\"#ed7953\"],[0.7777777777777778,\"#fb9f3a\"],[0.8888888888888888,\"#fdca26\"],[1.0,\"#f0f921\"]]}],\"heatmap\":[{\"type\":\"heatmap\",\"colorbar\":{\"outlinewidth\":0,\"ticks\":\"\"},\"colorscale\":[[0.0,\"#0d0887\"],[0.1111111111111111,\"#46039f\"],[0.2222222222222222,\"#7201a8\"],[0.3333333333333333,\"#9c179e\"],[0.4444444444444444,\"#bd3786\"],[0.5555555555555556,\"#d8576b\"],[0.6666666666666666,\"#ed7953\"],[0.7777777777777778,\"#fb9f3a\"],[0.8888888888888888,\"#fdca26\"],[1.0,\"#f0f921\"]]}],\"heatmapgl\":[{\"type\":\"heatmapgl\",\"colorbar\":{\"outlinewidth\":0,\"ticks\":\"\"},\"colorscale\":[[0.0,\"#0d0887\"],[0.1111111111111111,\"#46039f\"],[0.2222222222222222,\"#7201a8\"],[0.3333333333333333,\"#9c179e\"],[0.4444444444444444,\"#bd3786\"],[0.5555555555555556,\"#d8576b\"],[0.6666666666666666,\"#ed7953\"],[0.7777777777777778,\"#fb9f3a\"],[0.8888888888888888,\"#fdca26\"],[1.0,\"#f0f921\"]]}],\"contourcarpet\":[{\"type\":\"contourcarpet\",\"colorbar\":{\"outlinewidth\":0,\"ticks\":\"\"}}],\"contour\":[{\"type\":\"contour\",\"colorbar\":{\"outlinewidth\":0,\"ticks\":\"\"},\"colorscale\":[[0.0,\"#0d0887\"],[0.1111111111111111,\"#46039f\"],[0.2222222222222222,\"#7201a8\"],[0.3333333333333333,\"#9c179e\"],[0.4444444444444444,\"#bd3786\"],[0.5555555555555556,\"#d8576b\"],[0.6666666666666666,\"#ed7953\"],[0.7777777777777778,\"#fb9f3a\"],[0.8888888888888888,\"#fdca26\"],[1.0,\"#f0f921\"]]}],\"surface\":[{\"type\":\"surface\",\"colorbar\":{\"outlinewidth\":0,\"ticks\":\"\"},\"colorscale\":[[0.0,\"#0d0887\"],[0.1111111111111111,\"#46039f\"],[0.2222222222222222,\"#7201a8\"],[0.3333333333333333,\"#9c179e\"],[0.4444444444444444,\"#bd3786\"],[0.5555555555555556,\"#d8576b\"],[0.6666666666666666,\"#ed7953\"],[0.7777777777777778,\"#fb9f3a\"],[0.8888888888888888,\"#fdca26\"],[1.0,\"#f0f921\"]]}],\"mesh3d\":[{\"type\":\"mesh3d\",\"colorbar\":{\"outlinewidth\":0,\"ticks\":\"\"}}],\"scatter\":[{\"fillpattern\":{\"fillmode\":\"overlay\",\"size\":10,\"solidity\":0.2},\"type\":\"scatter\"}],\"parcoords\":[{\"type\":\"parcoords\",\"line\":{\"colorbar\":{\"outlinewidth\":0,\"ticks\":\"\"}}}],\"scatterpolargl\":[{\"type\":\"scatterpolargl\",\"marker\":{\"colorbar\":{\"outlinewidth\":0,\"ticks\":\"\"}}}],\"bar\":[{\"error_x\":{\"color\":\"#2a3f5f\"},\"error_y\":{\"color\":\"#2a3f5f\"},\"marker\":{\"line\":{\"color\":\"#E5ECF6\",\"width\":0.5},\"pattern\":{\"fillmode\":\"overlay\",\"size\":10,\"solidity\":0.2}},\"type\":\"bar\"}],\"scattergeo\":[{\"type\":\"scattergeo\",\"marker\":{\"colorbar\":{\"outlinewidth\":0,\"ticks\":\"\"}}}],\"scatterpolar\":[{\"type\":\"scatterpolar\",\"marker\":{\"colorbar\":{\"outlinewidth\":0,\"ticks\":\"\"}}}],\"histogram\":[{\"marker\":{\"pattern\":{\"fillmode\":\"overlay\",\"size\":10,\"solidity\":0.2}},\"type\":\"histogram\"}],\"scattergl\":[{\"type\":\"scattergl\",\"marker\":{\"colorbar\":{\"outlinewidth\":0,\"ticks\":\"\"}}}],\"scatter3d\":[{\"type\":\"scatter3d\",\"line\":{\"colorbar\":{\"outlinewidth\":0,\"ticks\":\"\"}},\"marker\":{\"colorbar\":{\"outlinewidth\":0,\"ticks\":\"\"}}}],\"scattermapbox\":[{\"type\":\"scattermapbox\",\"marker\":{\"colorbar\":{\"outlinewidth\":0,\"ticks\":\"\"}}}],\"scatterternary\":[{\"type\":\"scatterternary\",\"marker\":{\"colorbar\":{\"outlinewidth\":0,\"ticks\":\"\"}}}],\"scattercarpet\":[{\"type\":\"scattercarpet\",\"marker\":{\"colorbar\":{\"outlinewidth\":0,\"ticks\":\"\"}}}],\"carpet\":[{\"aaxis\":{\"endlinecolor\":\"#2a3f5f\",\"gridcolor\":\"white\",\"linecolor\":\"white\",\"minorgridcolor\":\"white\",\"startlinecolor\":\"#2a3f5f\"},\"baxis\":{\"endlinecolor\":\"#2a3f5f\",\"gridcolor\":\"white\",\"linecolor\":\"white\",\"minorgridcolor\":\"white\",\"startlinecolor\":\"#2a3f5f\"},\"type\":\"carpet\"}],\"table\":[{\"cells\":{\"fill\":{\"color\":\"#EBF0F8\"},\"line\":{\"color\":\"white\"}},\"header\":{\"fill\":{\"color\":\"#C8D4E3\"},\"line\":{\"color\":\"white\"}},\"type\":\"table\"}],\"barpolar\":[{\"marker\":{\"line\":{\"color\":\"#E5ECF6\",\"width\":0.5},\"pattern\":{\"fillmode\":\"overlay\",\"size\":10,\"solidity\":0.2}},\"type\":\"barpolar\"}],\"pie\":[{\"automargin\":true,\"type\":\"pie\"}]},\"layout\":{\"autotypenumbers\":\"strict\",\"colorway\":[\"#636efa\",\"#EF553B\",\"#00cc96\",\"#ab63fa\",\"#FFA15A\",\"#19d3f3\",\"#FF6692\",\"#B6E880\",\"#FF97FF\",\"#FECB52\"],\"font\":{\"color\":\"#2a3f5f\"},\"hovermode\":\"closest\",\"hoverlabel\":{\"align\":\"left\"},\"paper_bgcolor\":\"white\",\"plot_bgcolor\":\"#E5ECF6\",\"polar\":{\"bgcolor\":\"#E5ECF6\",\"angularaxis\":{\"gridcolor\":\"white\",\"linecolor\":\"white\",\"ticks\":\"\"},\"radialaxis\":{\"gridcolor\":\"white\",\"linecolor\":\"white\",\"ticks\":\"\"}},\"ternary\":{\"bgcolor\":\"#E5ECF6\",\"aaxis\":{\"gridcolor\":\"white\",\"linecolor\":\"white\",\"ticks\":\"\"},\"baxis\":{\"gridcolor\":\"white\",\"linecolor\":\"white\",\"ticks\":\"\"},\"caxis\":{\"gridcolor\":\"white\",\"linecolor\":\"white\",\"ticks\":\"\"}},\"coloraxis\":{\"colorbar\":{\"outlinewidth\":0,\"ticks\":\"\"}},\"colorscale\":{\"sequential\":[[0.0,\"#0d0887\"],[0.1111111111111111,\"#46039f\"],[0.2222222222222222,\"#7201a8\"],[0.3333333333333333,\"#9c179e\"],[0.4444444444444444,\"#bd3786\"],[0.5555555555555556,\"#d8576b\"],[0.6666666666666666,\"#ed7953\"],[0.7777777777777778,\"#fb9f3a\"],[0.8888888888888888,\"#fdca26\"],[1.0,\"#f0f921\"]],\"sequentialminus\":[[0.0,\"#0d0887\"],[0.1111111111111111,\"#46039f\"],[0.2222222222222222,\"#7201a8\"],[0.3333333333333333,\"#9c179e\"],[0.4444444444444444,\"#bd3786\"],[0.5555555555555556,\"#d8576b\"],[0.6666666666666666,\"#ed7953\"],[0.7777777777777778,\"#fb9f3a\"],[0.8888888888888888,\"#fdca26\"],[1.0,\"#f0f921\"]],\"diverging\":[[0,\"#8e0152\"],[0.1,\"#c51b7d\"],[0.2,\"#de77ae\"],[0.3,\"#f1b6da\"],[0.4,\"#fde0ef\"],[0.5,\"#f7f7f7\"],[0.6,\"#e6f5d0\"],[0.7,\"#b8e186\"],[0.8,\"#7fbc41\"],[0.9,\"#4d9221\"],[1,\"#276419\"]]},\"xaxis\":{\"gridcolor\":\"white\",\"linecolor\":\"white\",\"ticks\":\"\",\"title\":{\"standoff\":15},\"zerolinecolor\":\"white\",\"automargin\":true,\"zerolinewidth\":2},\"yaxis\":{\"gridcolor\":\"white\",\"linecolor\":\"white\",\"ticks\":\"\",\"title\":{\"standoff\":15},\"zerolinecolor\":\"white\",\"automargin\":true,\"zerolinewidth\":2},\"scene\":{\"xaxis\":{\"backgroundcolor\":\"#E5ECF6\",\"gridcolor\":\"white\",\"linecolor\":\"white\",\"showbackground\":true,\"ticks\":\"\",\"zerolinecolor\":\"white\",\"gridwidth\":2},\"yaxis\":{\"backgroundcolor\":\"#E5ECF6\",\"gridcolor\":\"white\",\"linecolor\":\"white\",\"showbackground\":true,\"ticks\":\"\",\"zerolinecolor\":\"white\",\"gridwidth\":2},\"zaxis\":{\"backgroundcolor\":\"#E5ECF6\",\"gridcolor\":\"white\",\"linecolor\":\"white\",\"showbackground\":true,\"ticks\":\"\",\"zerolinecolor\":\"white\",\"gridwidth\":2}},\"shapedefaults\":{\"line\":{\"color\":\"#2a3f5f\"}},\"annotationdefaults\":{\"arrowcolor\":\"#2a3f5f\",\"arrowhead\":0,\"arrowwidth\":1},\"geo\":{\"bgcolor\":\"white\",\"landcolor\":\"#E5ECF6\",\"subunitcolor\":\"white\",\"showland\":true,\"showlakes\":true,\"lakecolor\":\"white\"},\"title\":{\"x\":0.05},\"mapbox\":{\"style\":\"light\"}}},\"annotations\":[{\"font\":{\"size\":16},\"showarrow\":false,\"text\":\"Carnegie Mellon University Positive\",\"x\":0.041,\"xanchor\":\"center\",\"xref\":\"paper\",\"y\":0.9999999999999999,\"yanchor\":\"bottom\",\"yref\":\"paper\"},{\"font\":{\"size\":16},\"showarrow\":false,\"text\":\"Carnegie Mellon University Negative\",\"x\":0.14300000000000002,\"xanchor\":\"center\",\"xref\":\"paper\",\"y\":0.9999999999999999,\"yanchor\":\"bottom\",\"yref\":\"paper\"},{\"font\":{\"size\":16},\"showarrow\":false,\"text\":\"Stanford University Positive\",\"x\":0.24500000000000002,\"xanchor\":\"center\",\"xref\":\"paper\",\"y\":0.9999999999999999,\"yanchor\":\"bottom\",\"yref\":\"paper\"},{\"font\":{\"size\":16},\"showarrow\":false,\"text\":\"Stanford University Negative\",\"x\":0.347,\"xanchor\":\"center\",\"xref\":\"paper\",\"y\":0.9999999999999999,\"yanchor\":\"bottom\",\"yref\":\"paper\"},{\"font\":{\"size\":16},\"showarrow\":false,\"text\":\"Massachusetts Institute of Technology Positive\",\"x\":0.44900000000000007,\"xanchor\":\"center\",\"xref\":\"paper\",\"y\":0.9999999999999999,\"yanchor\":\"bottom\",\"yref\":\"paper\"},{\"font\":{\"size\":16},\"showarrow\":false,\"text\":\"Massachusetts Institute of Technology Negative\",\"x\":0.5509999999999999,\"xanchor\":\"center\",\"xref\":\"paper\",\"y\":0.9999999999999999,\"yanchor\":\"bottom\",\"yref\":\"paper\"},{\"font\":{\"size\":16},\"showarrow\":false,\"text\":\"Univ. of California - Berkeley Positive\",\"x\":0.653,\"xanchor\":\"center\",\"xref\":\"paper\",\"y\":0.9999999999999999,\"yanchor\":\"bottom\",\"yref\":\"paper\"},{\"font\":{\"size\":16},\"showarrow\":false,\"text\":\"Univ. of California - Berkeley Negative\",\"x\":0.7550000000000001,\"xanchor\":\"center\",\"xref\":\"paper\",\"y\":0.9999999999999999,\"yanchor\":\"bottom\",\"yref\":\"paper\"},{\"font\":{\"size\":16},\"showarrow\":false,\"text\":\"University of Washington Positive\",\"x\":0.857,\"xanchor\":\"center\",\"xref\":\"paper\",\"y\":0.9999999999999999,\"yanchor\":\"bottom\",\"yref\":\"paper\"},{\"font\":{\"size\":16},\"showarrow\":false,\"text\":\"University of Washington Negative\",\"x\":0.9589999999999999,\"xanchor\":\"center\",\"xref\":\"paper\",\"y\":0.9999999999999999,\"yanchor\":\"bottom\",\"yref\":\"paper\"},{\"font\":{\"size\":16},\"showarrow\":false,\"text\":\"Univ. of California - San Diego Positive\",\"x\":0.041,\"xanchor\":\"center\",\"xref\":\"paper\",\"y\":0.8194444444444444,\"yanchor\":\"bottom\",\"yref\":\"paper\"},{\"font\":{\"size\":16},\"showarrow\":false,\"text\":\"Univ. of California - San Diego Negative\",\"x\":0.14300000000000002,\"xanchor\":\"center\",\"xref\":\"paper\",\"y\":0.8194444444444444,\"yanchor\":\"bottom\",\"yref\":\"paper\"},{\"font\":{\"size\":16},\"showarrow\":false,\"text\":\"Univ. of Illinois at Urbana-Champaign Positive\",\"x\":0.24500000000000002,\"xanchor\":\"center\",\"xref\":\"paper\",\"y\":0.8194444444444444,\"yanchor\":\"bottom\",\"yref\":\"paper\"},{\"font\":{\"size\":16},\"showarrow\":false,\"text\":\"Univ. of Illinois at Urbana-Champaign Negative\",\"x\":0.347,\"xanchor\":\"center\",\"xref\":\"paper\",\"y\":0.8194444444444444,\"yanchor\":\"bottom\",\"yref\":\"paper\"},{\"font\":{\"size\":16},\"showarrow\":false,\"text\":\"University of Wisconsin - Madison Positive\",\"x\":0.44900000000000007,\"xanchor\":\"center\",\"xref\":\"paper\",\"y\":0.8194444444444444,\"yanchor\":\"bottom\",\"yref\":\"paper\"},{\"font\":{\"size\":16},\"showarrow\":false,\"text\":\"University of Wisconsin - Madison Negative\",\"x\":0.5509999999999999,\"xanchor\":\"center\",\"xref\":\"paper\",\"y\":0.8194444444444444,\"yanchor\":\"bottom\",\"yref\":\"paper\"},{\"font\":{\"size\":16},\"showarrow\":false,\"text\":\"Cornell University Positive\",\"x\":0.653,\"xanchor\":\"center\",\"xref\":\"paper\",\"y\":0.8194444444444444,\"yanchor\":\"bottom\",\"yref\":\"paper\"},{\"font\":{\"size\":16},\"showarrow\":false,\"text\":\"Cornell University Negative\",\"x\":0.7550000000000001,\"xanchor\":\"center\",\"xref\":\"paper\",\"y\":0.8194444444444444,\"yanchor\":\"bottom\",\"yref\":\"paper\"},{\"font\":{\"size\":16},\"showarrow\":false,\"text\":\"University of Michigan Positive\",\"x\":0.857,\"xanchor\":\"center\",\"xref\":\"paper\",\"y\":0.8194444444444444,\"yanchor\":\"bottom\",\"yref\":\"paper\"},{\"font\":{\"size\":16},\"showarrow\":false,\"text\":\"University of Michigan Negative\",\"x\":0.9589999999999999,\"xanchor\":\"center\",\"xref\":\"paper\",\"y\":0.8194444444444444,\"yanchor\":\"bottom\",\"yref\":\"paper\"},{\"font\":{\"size\":16},\"showarrow\":false,\"text\":\"University of Toronto Positive\",\"x\":0.041,\"xanchor\":\"center\",\"xref\":\"paper\",\"y\":0.638888888888889,\"yanchor\":\"bottom\",\"yref\":\"paper\"},{\"font\":{\"size\":16},\"showarrow\":false,\"text\":\"University of Toronto Negative\",\"x\":0.14300000000000002,\"xanchor\":\"center\",\"xref\":\"paper\",\"y\":0.638888888888889,\"yanchor\":\"bottom\",\"yref\":\"paper\"},{\"font\":{\"size\":16},\"showarrow\":false,\"text\":\"Georgia Institute of Technology Positive\",\"x\":0.24500000000000002,\"xanchor\":\"center\",\"xref\":\"paper\",\"y\":0.638888888888889,\"yanchor\":\"bottom\",\"yref\":\"paper\"},{\"font\":{\"size\":16},\"showarrow\":false,\"text\":\"Georgia Institute of Technology Negative\",\"x\":0.347,\"xanchor\":\"center\",\"xref\":\"paper\",\"y\":0.638888888888889,\"yanchor\":\"bottom\",\"yref\":\"paper\"},{\"font\":{\"size\":16},\"showarrow\":false,\"text\":\"Univ. of California - Irvine Positive\",\"x\":0.44900000000000007,\"xanchor\":\"center\",\"xref\":\"paper\",\"y\":0.638888888888889,\"yanchor\":\"bottom\",\"yref\":\"paper\"},{\"font\":{\"size\":16},\"showarrow\":false,\"text\":\"Univ. of California - Irvine Negative\",\"x\":0.5509999999999999,\"xanchor\":\"center\",\"xref\":\"paper\",\"y\":0.638888888888889,\"yanchor\":\"bottom\",\"yref\":\"paper\"},{\"font\":{\"size\":16},\"showarrow\":false,\"text\":\"Univ. of California - Los Angeles Positive\",\"x\":0.653,\"xanchor\":\"center\",\"xref\":\"paper\",\"y\":0.638888888888889,\"yanchor\":\"bottom\",\"yref\":\"paper\"},{\"font\":{\"size\":16},\"showarrow\":false,\"text\":\"Univ. of California - Los Angeles Negative\",\"x\":0.7550000000000001,\"xanchor\":\"center\",\"xref\":\"paper\",\"y\":0.638888888888889,\"yanchor\":\"bottom\",\"yref\":\"paper\"},{\"font\":{\"size\":16},\"showarrow\":false,\"text\":\"University of Texas at Austin Positive\",\"x\":0.857,\"xanchor\":\"center\",\"xref\":\"paper\",\"y\":0.638888888888889,\"yanchor\":\"bottom\",\"yref\":\"paper\"},{\"font\":{\"size\":16},\"showarrow\":false,\"text\":\"University of Texas at Austin Negative\",\"x\":0.9589999999999999,\"xanchor\":\"center\",\"xref\":\"paper\",\"y\":0.638888888888889,\"yanchor\":\"bottom\",\"yref\":\"paper\"},{\"font\":{\"size\":16},\"showarrow\":false,\"text\":\"University of Massachusetts Amherst Positive\",\"x\":0.041,\"xanchor\":\"center\",\"xref\":\"paper\",\"y\":0.4583333333333333,\"yanchor\":\"bottom\",\"yref\":\"paper\"},{\"font\":{\"size\":16},\"showarrow\":false,\"text\":\"University of Massachusetts Amherst Negative\",\"x\":0.14300000000000002,\"xanchor\":\"center\",\"xref\":\"paper\",\"y\":0.4583333333333333,\"yanchor\":\"bottom\",\"yref\":\"paper\"},{\"font\":{\"size\":16},\"showarrow\":false,\"text\":\"University of Maryland - College Park Positive\",\"x\":0.24500000000000002,\"xanchor\":\"center\",\"xref\":\"paper\",\"y\":0.4583333333333333,\"yanchor\":\"bottom\",\"yref\":\"paper\"},{\"font\":{\"size\":16},\"showarrow\":false,\"text\":\"University of Maryland - College Park Negative\",\"x\":0.347,\"xanchor\":\"center\",\"xref\":\"paper\",\"y\":0.4583333333333333,\"yanchor\":\"bottom\",\"yref\":\"paper\"},{\"font\":{\"size\":16},\"showarrow\":false,\"text\":\"Columbia University Positive\",\"x\":0.44900000000000007,\"xanchor\":\"center\",\"xref\":\"paper\",\"y\":0.4583333333333333,\"yanchor\":\"bottom\",\"yref\":\"paper\"},{\"font\":{\"size\":16},\"showarrow\":false,\"text\":\"Columbia University Negative\",\"x\":0.5509999999999999,\"xanchor\":\"center\",\"xref\":\"paper\",\"y\":0.4583333333333333,\"yanchor\":\"bottom\",\"yref\":\"paper\"},{\"font\":{\"size\":16},\"showarrow\":false,\"text\":\"Princeton University Positive\",\"x\":0.653,\"xanchor\":\"center\",\"xref\":\"paper\",\"y\":0.4583333333333333,\"yanchor\":\"bottom\",\"yref\":\"paper\"},{\"font\":{\"size\":16},\"showarrow\":false,\"text\":\"Princeton University Negative\",\"x\":0.7550000000000001,\"xanchor\":\"center\",\"xref\":\"paper\",\"y\":0.4583333333333333,\"yanchor\":\"bottom\",\"yref\":\"paper\"},{\"font\":{\"size\":16},\"showarrow\":false,\"text\":\"University of Pennsylvania Positive\",\"x\":0.857,\"xanchor\":\"center\",\"xref\":\"paper\",\"y\":0.4583333333333333,\"yanchor\":\"bottom\",\"yref\":\"paper\"},{\"font\":{\"size\":16},\"showarrow\":false,\"text\":\"University of Pennsylvania Negative\",\"x\":0.9589999999999999,\"xanchor\":\"center\",\"xref\":\"paper\",\"y\":0.4583333333333333,\"yanchor\":\"bottom\",\"yref\":\"paper\"},{\"font\":{\"size\":16},\"showarrow\":false,\"text\":\"New York University Positive\",\"x\":0.041,\"xanchor\":\"center\",\"xref\":\"paper\",\"y\":0.2777777777777778,\"yanchor\":\"bottom\",\"yref\":\"paper\"},{\"font\":{\"size\":16},\"showarrow\":false,\"text\":\"New York University Negative\",\"x\":0.14300000000000002,\"xanchor\":\"center\",\"xref\":\"paper\",\"y\":0.2777777777777778,\"yanchor\":\"bottom\",\"yref\":\"paper\"},{\"font\":{\"size\":16},\"showarrow\":false,\"text\":\"Purdue University Positive\",\"x\":0.24500000000000002,\"xanchor\":\"center\",\"xref\":\"paper\",\"y\":0.2777777777777778,\"yanchor\":\"bottom\",\"yref\":\"paper\"},{\"font\":{\"size\":16},\"showarrow\":false,\"text\":\"Purdue University Negative\",\"x\":0.347,\"xanchor\":\"center\",\"xref\":\"paper\",\"y\":0.2777777777777778,\"yanchor\":\"bottom\",\"yref\":\"paper\"},{\"font\":{\"size\":16},\"showarrow\":false,\"text\":\"University of Waterloo Positive\",\"x\":0.44900000000000007,\"xanchor\":\"center\",\"xref\":\"paper\",\"y\":0.2777777777777778,\"yanchor\":\"bottom\",\"yref\":\"paper\"},{\"font\":{\"size\":16},\"showarrow\":false,\"text\":\"University of Waterloo Negative\",\"x\":0.5509999999999999,\"xanchor\":\"center\",\"xref\":\"paper\",\"y\":0.2777777777777778,\"yanchor\":\"bottom\",\"yref\":\"paper\"},{\"font\":{\"size\":16},\"showarrow\":false,\"text\":\"Univ. of California - Santa Barbara Positive\",\"x\":0.653,\"xanchor\":\"center\",\"xref\":\"paper\",\"y\":0.2777777777777778,\"yanchor\":\"bottom\",\"yref\":\"paper\"},{\"font\":{\"size\":16},\"showarrow\":false,\"text\":\"Univ. of California - Santa Barbara Negative\",\"x\":0.7550000000000001,\"xanchor\":\"center\",\"xref\":\"paper\",\"y\":0.2777777777777778,\"yanchor\":\"bottom\",\"yref\":\"paper\"},{\"font\":{\"size\":16},\"showarrow\":false,\"text\":\"Northeastern University Positive\",\"x\":0.857,\"xanchor\":\"center\",\"xref\":\"paper\",\"y\":0.2777777777777778,\"yanchor\":\"bottom\",\"yref\":\"paper\"},{\"font\":{\"size\":16},\"showarrow\":false,\"text\":\"Northeastern University Negative\",\"x\":0.9589999999999999,\"xanchor\":\"center\",\"xref\":\"paper\",\"y\":0.2777777777777778,\"yanchor\":\"bottom\",\"yref\":\"paper\"},{\"font\":{\"size\":16},\"showarrow\":false,\"text\":\"University of British Columbia Positive\",\"x\":0.041,\"xanchor\":\"center\",\"xref\":\"paper\",\"y\":0.09722222222222222,\"yanchor\":\"bottom\",\"yref\":\"paper\"},{\"font\":{\"size\":16},\"showarrow\":false,\"text\":\"University of British Columbia Negative\",\"x\":0.14300000000000002,\"xanchor\":\"center\",\"xref\":\"paper\",\"y\":0.09722222222222222,\"yanchor\":\"bottom\",\"yref\":\"paper\"},{\"font\":{\"size\":16},\"showarrow\":false,\"text\":\"University of Southern California Positive\",\"x\":0.24500000000000002,\"xanchor\":\"center\",\"xref\":\"paper\",\"y\":0.09722222222222222,\"yanchor\":\"bottom\",\"yref\":\"paper\"},{\"font\":{\"size\":16},\"showarrow\":false,\"text\":\"University of Southern California Negative\",\"x\":0.347,\"xanchor\":\"center\",\"xref\":\"paper\",\"y\":0.09722222222222222,\"yanchor\":\"bottom\",\"yref\":\"paper\"},{\"font\":{\"size\":16},\"showarrow\":false,\"text\":\"Rutgers University Positive\",\"x\":0.44900000000000007,\"xanchor\":\"center\",\"xref\":\"paper\",\"y\":0.09722222222222222,\"yanchor\":\"bottom\",\"yref\":\"paper\"},{\"font\":{\"size\":16},\"showarrow\":false,\"text\":\"Rutgers University Negative\",\"x\":0.5509999999999999,\"xanchor\":\"center\",\"xref\":\"paper\",\"y\":0.09722222222222222,\"yanchor\":\"bottom\",\"yref\":\"paper\"},{\"font\":{\"size\":16},\"showarrow\":false,\"text\":\"Univ. of California - Riverside Positive\",\"x\":0.653,\"xanchor\":\"center\",\"xref\":\"paper\",\"y\":0.09722222222222222,\"yanchor\":\"bottom\",\"yref\":\"paper\"},{\"font\":{\"size\":16},\"showarrow\":false,\"text\":\"Univ. of California - Riverside Negative\",\"x\":0.7550000000000001,\"xanchor\":\"center\",\"xref\":\"paper\",\"y\":0.09722222222222222,\"yanchor\":\"bottom\",\"yref\":\"paper\"},{\"font\":{\"size\":16},\"showarrow\":false,\"text\":\"Harvard University Positive\",\"x\":0.857,\"xanchor\":\"center\",\"xref\":\"paper\",\"y\":0.09722222222222222,\"yanchor\":\"bottom\",\"yref\":\"paper\"},{\"font\":{\"size\":16},\"showarrow\":false,\"text\":\"Harvard University Negative\",\"x\":0.9589999999999999,\"xanchor\":\"center\",\"xref\":\"paper\",\"y\":0.09722222222222222,\"yanchor\":\"bottom\",\"yref\":\"paper\"}],\"title\":{\"text\":\"Stats contributions\"},\"showlegend\":true},                        {\"responsive\": true}                    ).then(function(){\n",
       "                            \n",
       "var gd = document.getElementById('048e0f80-6a24-443d-bedd-1d69b3b533fa');\n",
       "var x = new MutationObserver(function (mutations, observer) {{\n",
       "        var display = window.getComputedStyle(gd).display;\n",
       "        if (!display || display === 'none') {{\n",
       "            console.log([gd, 'removed!']);\n",
       "            Plotly.purge(gd);\n",
       "            observer.disconnect();\n",
       "        }}\n",
       "}});\n",
       "\n",
       "// Listen for the removal of the full notebook cells\n",
       "var notebookContainer = gd.closest('#notebook-container');\n",
       "if (notebookContainer) {{\n",
       "    x.observe(notebookContainer, {childList: true});\n",
       "}}\n",
       "\n",
       "// Listen for the clearing of the current output cell\n",
       "var outputEl = gd.closest('.output');\n",
       "if (outputEl) {{\n",
       "    x.observe(outputEl, {childList: true});\n",
       "}}\n",
       "\n",
       "                        })                };                });            </script>        </div>"
      ]
     },
     "metadata": {},
     "output_type": "display_data"
    }
   ],
   "source": [
    "labels = dfstatistics[\"stat\"].tolist()\n",
    "\n",
    "data_array = final_results.head(number_of_results)[\n",
    "    [\n",
    "        \"university\",\n",
    "        \"final_array\",\n",
    "    ]\n",
    "].reset_index()\n",
    "\n",
    "custom_title = \"Stats contributions\"\n",
    "\n",
    "num_rows = int(np.ceil(np.sqrt(number_of_results)))\n",
    "num_cols = int(np.ceil(number_of_results / num_rows))\n",
    "\n",
    "specs = [[{'type': 'pie'}, {'type': 'pie'}] * num_cols] * num_rows\n",
    "\n",
    "titles = []\n",
    "for d in data_array[\"university\"].tolist():\n",
    "    titles.append(f\"{d} Positive\")\n",
    "    titles.append(f\"{d} Negative\")\n",
    "    \n",
    "fig = make_subplots(\n",
    "    rows=num_rows,\n",
    "    cols=num_cols*2,\n",
    "    subplot_titles=titles,\n",
    "    specs=specs,\n",
    ")\n",
    "\n",
    "for i in range(number_of_results):\n",
    "    row = i // num_cols + 1\n",
    "    col = (i % num_cols) * 2 + 1 \n",
    "    pos_val, pos_label, neg_val, neg_label = get_signed_lists(\n",
    "        data_array[\"final_array\"].iloc[i], labels\n",
    "    )\n",
    "    pos_pie_trace = go.Pie(\n",
    "        labels=pos_label,\n",
    "        values=pos_val,\n",
    "        textinfo=\"none\",\n",
    "        hoverinfo=\"label+percent\",\n",
    "        hole=0.4,\n",
    "    )\n",
    "    \n",
    "    neg_pie_trace = go.Pie(\n",
    "        labels=neg_label,\n",
    "        values=neg_val,\n",
    "        textinfo=\"none\",\n",
    "        hoverinfo=\"label+percent\",\n",
    "        hole=0.4,       \n",
    "    )\n",
    "\n",
    "    fig.add_trace(pos_pie_trace, row=row, col=col)\n",
    "    fig.add_trace(neg_pie_trace, row=row, col=col+1)\n",
    "\n",
    "fig.update_layout(title_text=custom_title, showlegend=True)\n",
    "\n",
    "fig.show()"
   ]
  },
  {
   "cell_type": "code",
   "execution_count": null,
   "id": "f93f8b43-3200-484a-bd8c-57d250d21774",
   "metadata": {
    "tags": []
   },
   "outputs": [],
   "source": [
    "def write_out_stats(university, file):\n",
    "    dfuniversity[dfuniversity[\"university\"] == university].iloc[0].to_csv(file)\n",
    "\n",
    "\n",
    "# write_out_stats(\"Columbia University\", \"columbia.csv\")"
   ]
  },
  {
   "cell_type": "code",
   "execution_count": null,
   "id": "e2f94ad4-d801-4a87-a214-a9570701e6dd",
   "metadata": {},
   "outputs": [],
   "source": [
    "dfscore.sort_values(\"combined_score\", ascending=False).head(20)[\n",
    "    [\"name\", \"combined_score\"]\n",
    "]"
   ]
  }
 ],
 "metadata": {
  "kernelspec": {
   "display_name": "Python 3 (ipykernel)",
   "language": "python",
   "name": "python3"
  },
  "language_info": {
   "codemirror_mode": {
    "name": "ipython",
    "version": 3
   },
   "file_extension": ".py",
   "mimetype": "text/x-python",
   "name": "python",
   "nbconvert_exporter": "python",
   "pygments_lexer": "ipython3",
   "version": "3.11.5"
  },
  "name": "main.ipynb"
 },
 "nbformat": 4,
 "nbformat_minor": 5
}
