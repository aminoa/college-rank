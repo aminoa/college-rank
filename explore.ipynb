{
 "cells": [
  {
   "cell_type": "code",
   "execution_count": 28,
   "id": "ad9551e5-d344-4230-bb1d-13252ee94a70",
   "metadata": {
    "collapsed": false
   },
   "outputs": [],
   "source": [
    "import requests\n",
    "import gzip\n",
    "from io import BytesIO\n",
    "import pandas as pd\n",
    "from tqdm import tqdm\n",
    "import shutil\n",
    "import os\n",
    "import xml.etree.ElementTree as ET\n",
    "from dblpparse import programatic_main\n"
   ]
  },
  {
   "cell_type": "code",
   "execution_count": 2,
   "id": "5df452f4-9fe6-47b6-8769-61bdf6669584",
   "metadata": {
    "collapsed": false
   },
   "outputs": [],
   "source": [
    "# https://gist.github.com/yanqd0/c13ed29e29432e3cf3e7c38467f42f51\n",
    "def download(url: str, fname: str, chunk_size=1024):\n",
    "    if os.path.isfile(fname):\n",
    "        return\n",
    "    resp = requests.get(url, stream=True)\n",
    "    total = int(resp.headers.get('content-length', 0))\n",
    "    with open(fname, 'wb') as file, tqdm(\n",
    "        desc=fname,\n",
    "        total=total,\n",
    "        unit='iB',\n",
    "        unit_scale=True,\n",
    "        unit_divisor=1024,\n",
    "    ) as bar:\n",
    "        for data in resp.iter_content(chunk_size=chunk_size):\n",
    "            size = file.write(data)\n",
    "            bar.update(size)\n"
   ]
  },
  {
   "cell_type": "code",
   "execution_count": 3,
   "id": "4ce11f14-34fb-482e-90e0-16e16df29fc8",
   "metadata": {
    "collapsed": false
   },
   "outputs": [],
   "source": [
    "def decompress(zip: str, unzip: str):\n",
    "    if os.path.isfile(unzip):\n",
    "        return\n",
    "    with gzip.open(zip, 'rb') as f_in:\n",
    "        with open(unzip, 'wb') as f_out:\n",
    "            shutil.copyfileobj(f_in, f_out)\n",
    "    "
   ]
  },
  {
   "cell_type": "code",
   "execution_count": 13,
   "id": "32df8e81-345f-495f-a1b4-e82814fe316d",
   "metadata": {
    "collapsed": false
   },
   "outputs": [],
   "source": [
    "url1 = \"https://dblp.org/xml/dblp.xml.gz\"\n",
    "url2 = \"https://dblp.org/xml/dblp.dtd\"\n",
    "path = \"./dblp/\"\n",
    "download(url1, f\"{path}dblp.xml.gz\")\n",
    "download(url2, f\"{path}dblp.dtd\")\n",
    "decompress(f\"{path}dblp.xml.gz\", f\"{path}dblp.xml\")"
   ]
  },
  {
   "cell_type": "code",
   "execution_count": null,
   "id": "622405ed-4257-4dae-a525-97d942bd2401",
   "metadata": {
    "collapsed": false
   },
   "outputs": [],
   "source": [
    "# https://github.com/ThomHurks/dblp-to-csv/tree/master\n",
    "programatic_main(f\"{path}dblp.xml\", f\"{path}dblp.dtd\", f\"{path}dblp.csv\")"
   ]
  },
  {
   "cell_type": "code",
   "execution_count": 26,
   "id": "ff49d4a6-0d4b-4e13-8397-80ad12de1565",
   "metadata": {
    "collapsed": false
   },
   "outputs": [
    {
     "name": "stderr",
     "output_type": "stream",
     "text": [
      "/tmp/ipykernel_787847/373387967.py:1: FutureWarning: In a future version of pandas all arguments of read_csv except for the argument 'filepath_or_buffer' will be keyword-only.\n",
      "  df = pd.read_csv(f\"{path}dblp_data.csv\", \";\")\n"
     ]
    }
   ],
   "source": [
    "df = pd.read_csv(f\"{path}dblp_data.csv\", \";\")"
   ]
  },
  {
   "cell_type": "code",
   "execution_count": 27,
   "id": "0ae72cb7-c40b-4287-9e77-8c0ad9e64eb6",
   "metadata": {
    "collapsed": false
   },
   "outputs": [
    {
     "data": {
      "text/html": [
       "<div>\n",
       "<style scoped>\n",
       "    .dataframe tbody tr th:only-of-type {\n",
       "        vertical-align: middle;\n",
       "    }\n",
       "\n",
       "    .dataframe tbody tr th {\n",
       "        vertical-align: top;\n",
       "    }\n",
       "\n",
       "    .dataframe thead th {\n",
       "        text-align: right;\n",
       "    }\n",
       "</style>\n",
       "<table border=\"1\" class=\"dataframe\">\n",
       "  <thead>\n",
       "    <tr style=\"text-align: right;\">\n",
       "      <th></th>\n",
       "      <th>id</th>\n",
       "      <th>author</th>\n",
       "      <th>author-orcid</th>\n",
       "      <th>crossref</th>\n",
       "      <th>ee</th>\n",
       "      <th>ee-type</th>\n",
       "      <th>key</th>\n",
       "      <th>mdate</th>\n",
       "      <th>month</th>\n",
       "      <th>number</th>\n",
       "      <th>...</th>\n",
       "      <th>publisher</th>\n",
       "      <th>publtype</th>\n",
       "      <th>rel</th>\n",
       "      <th>rel-label</th>\n",
       "      <th>rel-sort</th>\n",
       "      <th>rel-type</th>\n",
       "      <th>rel-uri</th>\n",
       "      <th>sup</th>\n",
       "      <th>title</th>\n",
       "      <th>year</th>\n",
       "    </tr>\n",
       "  </thead>\n",
       "  <tbody>\n",
       "    <tr>\n",
       "      <th>0</th>\n",
       "      <td>28084</td>\n",
       "      <td>Jorge Y. Hernández García</td>\n",
       "      <td>0000-0002-4949-2179</td>\n",
       "      <td>NaN</td>\n",
       "      <td>https://doi.org/10.21227/40y2-pj28</td>\n",
       "      <td>NaN</td>\n",
       "      <td>data/10/Garcia20</td>\n",
       "      <td>2023-03-15</td>\n",
       "      <td>November</td>\n",
       "      <td>NaN</td>\n",
       "      <td>...</td>\n",
       "      <td>IEEE DataPort</td>\n",
       "      <td>NaN</td>\n",
       "      <td>NaN</td>\n",
       "      <td>NaN</td>\n",
       "      <td>NaN</td>\n",
       "      <td>NaN</td>\n",
       "      <td>NaN</td>\n",
       "      <td>NaN</td>\n",
       "      <td>MATLAB code to test SPIM approach for SS.</td>\n",
       "      <td>2020.0</td>\n",
       "    </tr>\n",
       "    <tr>\n",
       "      <th>1</th>\n",
       "      <td>28085</td>\n",
       "      <td>Jingqi Jiang</td>\n",
       "      <td>0000-0001-5262-2774</td>\n",
       "      <td>NaN</td>\n",
       "      <td>https://doi.org/10.21227/82s2-8j23</td>\n",
       "      <td>NaN</td>\n",
       "      <td>data/10/Jiang22f</td>\n",
       "      <td>2023-03-15</td>\n",
       "      <td>May</td>\n",
       "      <td>NaN</td>\n",
       "      <td>...</td>\n",
       "      <td>IEEE DataPort</td>\n",
       "      <td>NaN</td>\n",
       "      <td>NaN</td>\n",
       "      <td>NaN</td>\n",
       "      <td>NaN</td>\n",
       "      <td>NaN</td>\n",
       "      <td>NaN</td>\n",
       "      <td>NaN</td>\n",
       "      <td>VIO comparison on Euroc.</td>\n",
       "      <td>2022.0</td>\n",
       "    </tr>\n",
       "    <tr>\n",
       "      <th>2</th>\n",
       "      <td>28086</td>\n",
       "      <td>Guojia Hou|Huan Yang 0001|Jingming Li|Lu Tan|X...</td>\n",
       "      <td>0000-0001-6509-6259</td>\n",
       "      <td>NaN</td>\n",
       "      <td>https://doi.org/10.21227/agdr-y109</td>\n",
       "      <td>oa</td>\n",
       "      <td>data/10/HouZPYTL22</td>\n",
       "      <td>2023-03-15</td>\n",
       "      <td>May</td>\n",
       "      <td>NaN</td>\n",
       "      <td>...</td>\n",
       "      <td>IEEE DataPort</td>\n",
       "      <td>NaN</td>\n",
       "      <td>NaN</td>\n",
       "      <td>NaN</td>\n",
       "      <td>NaN</td>\n",
       "      <td>NaN</td>\n",
       "      <td>NaN</td>\n",
       "      <td>NaN</td>\n",
       "      <td>SUID: Synthetic Underwater Image Dataset.</td>\n",
       "      <td>2022.0</td>\n",
       "    </tr>\n",
       "    <tr>\n",
       "      <th>3</th>\n",
       "      <td>28087</td>\n",
       "      <td>Tianyi Liang</td>\n",
       "      <td>NaN</td>\n",
       "      <td>NaN</td>\n",
       "      <td>https://doi.org/10.21227/btz4-3919</td>\n",
       "      <td>NaN</td>\n",
       "      <td>data/10/Liang22</td>\n",
       "      <td>2023-03-15</td>\n",
       "      <td>December</td>\n",
       "      <td>NaN</td>\n",
       "      <td>...</td>\n",
       "      <td>IEEE DataPort</td>\n",
       "      <td>NaN</td>\n",
       "      <td>NaN</td>\n",
       "      <td>NaN</td>\n",
       "      <td>NaN</td>\n",
       "      <td>NaN</td>\n",
       "      <td>NaN</td>\n",
       "      <td>NaN</td>\n",
       "      <td>IEEE-TIP3227814 supplementary data.</td>\n",
       "      <td>2022.0</td>\n",
       "    </tr>\n",
       "    <tr>\n",
       "      <th>4</th>\n",
       "      <td>28088</td>\n",
       "      <td>Nuwan Hettiarachchi</td>\n",
       "      <td>0009-0008-7109-6835</td>\n",
       "      <td>NaN</td>\n",
       "      <td>https://doi.org/10.21227/ber8-gc86</td>\n",
       "      <td>NaN</td>\n",
       "      <td>data/10/Hettiarachchi23</td>\n",
       "      <td>2023-07-21</td>\n",
       "      <td>April</td>\n",
       "      <td>NaN</td>\n",
       "      <td>...</td>\n",
       "      <td>IEEE DataPort</td>\n",
       "      <td>NaN</td>\n",
       "      <td>NaN</td>\n",
       "      <td>NaN</td>\n",
       "      <td>NaN</td>\n",
       "      <td>NaN</td>\n",
       "      <td>NaN</td>\n",
       "      <td>NaN</td>\n",
       "      <td>Lie Detection using detection, ECG and GSR sen...</td>\n",
       "      <td>2023.0</td>\n",
       "    </tr>\n",
       "  </tbody>\n",
       "</table>\n",
       "<p>5 rows × 21 columns</p>\n",
       "</div>"
      ],
      "text/plain": [
       "      id                                             author  \\\n",
       "0  28084                          Jorge Y. Hernández García   \n",
       "1  28085                                       Jingqi Jiang   \n",
       "2  28086  Guojia Hou|Huan Yang 0001|Jingming Li|Lu Tan|X...   \n",
       "3  28087                                       Tianyi Liang   \n",
       "4  28088                                Nuwan Hettiarachchi   \n",
       "\n",
       "          author-orcid crossref                                  ee ee-type  \\\n",
       "0  0000-0002-4949-2179      NaN  https://doi.org/10.21227/40y2-pj28     NaN   \n",
       "1  0000-0001-5262-2774      NaN  https://doi.org/10.21227/82s2-8j23     NaN   \n",
       "2  0000-0001-6509-6259      NaN  https://doi.org/10.21227/agdr-y109      oa   \n",
       "3                  NaN      NaN  https://doi.org/10.21227/btz4-3919     NaN   \n",
       "4  0009-0008-7109-6835      NaN  https://doi.org/10.21227/ber8-gc86     NaN   \n",
       "\n",
       "                       key       mdate     month  number  ...      publisher  \\\n",
       "0         data/10/Garcia20  2023-03-15  November     NaN  ...  IEEE DataPort   \n",
       "1         data/10/Jiang22f  2023-03-15       May     NaN  ...  IEEE DataPort   \n",
       "2       data/10/HouZPYTL22  2023-03-15       May     NaN  ...  IEEE DataPort   \n",
       "3          data/10/Liang22  2023-03-15  December     NaN  ...  IEEE DataPort   \n",
       "4  data/10/Hettiarachchi23  2023-07-21     April     NaN  ...  IEEE DataPort   \n",
       "\n",
       "  publtype  rel rel-label rel-sort  rel-type rel-uri sup  \\\n",
       "0      NaN  NaN       NaN      NaN       NaN     NaN NaN   \n",
       "1      NaN  NaN       NaN      NaN       NaN     NaN NaN   \n",
       "2      NaN  NaN       NaN      NaN       NaN     NaN NaN   \n",
       "3      NaN  NaN       NaN      NaN       NaN     NaN NaN   \n",
       "4      NaN  NaN       NaN      NaN       NaN     NaN NaN   \n",
       "\n",
       "                                               title    year  \n",
       "0          MATLAB code to test SPIM approach for SS.  2020.0  \n",
       "1                           VIO comparison on Euroc.  2022.0  \n",
       "2          SUID: Synthetic Underwater Image Dataset.  2022.0  \n",
       "3                IEEE-TIP3227814 supplementary data.  2022.0  \n",
       "4  Lie Detection using detection, ECG and GSR sen...  2023.0  \n",
       "\n",
       "[5 rows x 21 columns]"
      ]
     },
     "execution_count": 27,
     "metadata": {},
     "output_type": "execute_result"
    }
   ],
   "source": [
    "df.head()"
   ]
  },
  {
   "cell_type": "code",
   "execution_count": null,
   "id": "0159e18a-11ff-4d9c-a62d-8fa3521f03b7",
   "metadata": {
    "collapsed": false
   },
   "outputs": [],
   "source": []
  }
 ],
 "metadata": {
  "kernelspec": {
   "argv": [
    "python",
    "-m",
    "ipykernel_launcher",
    "-f",
    "{connection_file}"
   ],
   "display_name": "Python 3 (ipykernel)",
   "env": null,
   "interrupt_mode": "signal",
   "language": "python",
   "metadata": {
    "debugger": true
   },
   "name": "python3"
  },
  "name": "explore.ipynb"
 },
 "nbformat": 4,
 "nbformat_minor": 5
}
