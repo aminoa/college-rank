{
 "cells": [
  {
   "cell_type": "code",
   "execution_count": 1,
   "id": "20a341a1-4c81-4baa-b106-bca865659d9d",
   "metadata": {
    "collapsed": false
   },
   "outputs": [],
   "source": [
    "import pandas as pd"
   ]
  },
  {
   "cell_type": "markdown",
   "id": "16ed6567",
   "metadata": {
    "collapsed": false
   },
   "source": [
    "# CS Rankings Author info\n",
    "\n",
    "Taken from https://github.com/emeryberger/CSrankings/tree/gh-pages which is the repo behind https://csrankings.org \n",
    "\n",
    "Run `make generated-author-info.csv` which should make the csv. Each row contains the score for every author, year, and conference combination. This means that there are multiple rows for each professor.\n",
    "\n",
    "# CS Professors\n",
    "\n",
    "Taken from https://drafty.cs.brown.edu/csprofessors but they hide the data. So, after reading source code, exploit a [thing they left in](https://github.com/brownhci/drafty/blob/212bd995c857a34c74c7a71d67e1556c1ca7ea97/backend/src/controllers/datasharing.ts#L31) during development and use https://drafty.cs.brown.edu/data/csv/csprofessors/csprofessors_93318b344889ccef41d46b5f83d63de5 \n",
    "\n",
    "# Placement Rank\n",
    "\n",
    "Taken from https://drafty.cs.brown.edu/csopenrankings/placement-rank.html which is just copy and paste (and `M-x query-replace <tab> ,`). I think I could have done this myself, but why do that when someone else has already done the work. \n",
    "\n",
    "# Best Paper awards\n",
    "\n",
    "A collection of best paper awards are listed on https://jeffhuang.com/best_paper_awards/\n",
    "\n",
    "However, I needed to do some html parsing in order to get the data into a csv format. That is done in [another notebook](./best-paper.ipynb)\n",
    "\n",
    "\n",
    "# [Data](https://store.sachiniyer.com/s/9NczHAmPJFiQgys)\n"
   ]
  },
  {
   "cell_type": "code",
   "execution_count": 5,
   "id": "0ae72cb7-c40b-4287-9e77-8c0ad9e64eb6",
   "metadata": {
    "collapsed": false
   },
   "outputs": [
    {
     "name": "stdout",
     "output_type": "stream",
     "text": [
      "<class 'pandas.core.frame.DataFrame'>\n",
      "RangeIndex: 199906 entries, 0 to 199905\n",
      "Data columns (total 6 columns):\n",
      " #   Column         Non-Null Count   Dtype  \n",
      "---  ------         --------------   -----  \n",
      " 0   name           199906 non-null  object \n",
      " 1   dept           199906 non-null  object \n",
      " 2   area           199906 non-null  object \n",
      " 3   count          199906 non-null  float64\n",
      " 4   adjustedcount  199906 non-null  float64\n",
      " 5   year           199906 non-null  int64  \n",
      "dtypes: float64(2), int64(1), object(3)\n",
      "memory usage: 9.2+ MB\n"
     ]
    }
   ],
   "source": [
    "dfcsrankings = pd.read_csv(\"data/generated-author-info.csv\")\n",
    "dfcsrankings.info()"
   ]
  },
  {
   "cell_type": "code",
   "execution_count": 6,
   "id": "82841127-91ab-4758-8bed-bb5c21c55d49",
   "metadata": {
    "collapsed": false
   },
   "outputs": [
    {
     "name": "stdout",
     "output_type": "stream",
     "text": [
      "<class 'pandas.core.frame.DataFrame'>\n",
      "RangeIndex: 5630 entries, 0 to 5629\n",
      "Data columns (total 7 columns):\n",
      " #   Column      Non-Null Count  Dtype  \n",
      "---  ------      --------------  -----  \n",
      " 0   UniqueId    5630 non-null   int64  \n",
      " 1   FullName    5629 non-null   object \n",
      " 2   University  5630 non-null   object \n",
      " 3   JoinYear    5512 non-null   float64\n",
      " 4   SubField    5625 non-null   object \n",
      " 5   Bachelors   5331 non-null   object \n",
      " 6   Doctorate   5618 non-null   object \n",
      "dtypes: float64(1), int64(1), object(5)\n",
      "memory usage: 308.0+ KB\n"
     ]
    }
   ],
   "source": [
    "dfcsprofs = pd.read_csv(\"data/csprofessors.csv\")\n",
    "dfcsprofs.info()"
   ]
  },
  {
   "cell_type": "code",
   "execution_count": 16,
   "id": "894f6842-2add-4075-8d6f-2b06820e2977",
   "metadata": {
    "collapsed": false
   },
   "outputs": [
    {
     "name": "stdout",
     "output_type": "stream",
     "text": [
      "<class 'pandas.core.frame.DataFrame'>\n",
      "RangeIndex: 183 entries, 0 to 182\n",
      "Data columns (total 6 columns):\n",
      " #   Column          Non-Null Count  Dtype  \n",
      "---  ------          --------------  -----  \n",
      " 0   num             183 non-null    int64  \n",
      " 1   university      183 non-null    object \n",
      " 2   size            115 non-null    float64\n",
      " 3   bachelors       168 non-null    float64\n",
      " 4   doctorate       159 non-null    float64\n",
      " 5   placementscore  183 non-null    float64\n",
      "dtypes: float64(4), int64(1), object(1)\n",
      "memory usage: 8.7+ KB\n"
     ]
    }
   ],
   "source": [
    "dfplacement = pd.read_csv(\"data/placement-rank.csv\", delimiter='|')\n",
    "dfplacement.info()"
   ]
  },
  {
   "cell_type": "code",
   "execution_count": 13,
   "id": "e4902de4-0d42-47c0-b64e-854d4eb6cd71",
   "metadata": {
    "collapsed": false
   },
   "outputs": [
    {
     "name": "stdout",
     "output_type": "stream",
     "text": [
      "<class 'pandas.core.frame.DataFrame'>\n",
      "RangeIndex: 4815 entries, 0 to 4814\n",
      "Data columns (total 6 columns):\n",
      " #   Column      Non-Null Count  Dtype \n",
      "---  ------      --------------  ----- \n",
      " 0   Author      4815 non-null   object\n",
      " 1   University  4815 non-null   object\n",
      " 2   Conference  4815 non-null   object\n",
      " 3   Area        4815 non-null   object\n",
      " 4   Year        4815 non-null   int64 \n",
      " 5   Coauthors   4815 non-null   int64 \n",
      "dtypes: int64(2), object(4)\n",
      "memory usage: 225.8+ KB\n"
     ]
    }
   ],
   "source": [
    "dfbestpaper = pd.read_csv(\"data/best-paper.csv\", delimiter='|')\n",
    "dfbestpaper.info()"
   ]
  }
 ],
 "metadata": {
  "kernelspec": {
   "argv": [
    "python",
    "-m",
    "ipykernel_launcher",
    "-f",
    "{connection_file}"
   ],
   "display_name": "Python 3 (ipykernel)",
   "env": null,
   "interrupt_mode": "signal",
   "language": "python",
   "metadata": {
    "debugger": true
   },
   "name": "python3"
  },
  "language_info": {
   "codemirror_mode": {
    "name": "ipython",
    "version": 3
   },
   "file_extension": ".py",
   "mimetype": "text/x-python",
   "name": "python",
   "nbconvert_exporter": "python",
   "pygments_lexer": "ipython3",
   "version": "3.10.10"
  },
  "name": "explore.ipynb"
 },
 "nbformat": 4,
 "nbformat_minor": 5
}
